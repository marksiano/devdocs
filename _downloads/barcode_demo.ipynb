{
  "nbformat_minor": 0,
  "metadata": {
    "kernelspec": {
      "language": "python",
      "name": "python3",
      "display_name": "Python 3"
    },
    "language_info": {
      "mimetype": "text/x-python",
      "codemirror_mode": {
        "version": 3,
        "name": "ipython"
      },
      "version": "3.5.4",
      "file_extension": ".py",
      "nbconvert_exporter": "python",
      "pygments_lexer": "ipython3",
      "name": "python"
    }
  },
  "cells": [
    {
      "cell_type": "code",
      "outputs": [],
      "source": [
        "%matplotlib inline"
      ],
      "metadata": {
        "collapsed": false
      },
      "execution_count": null
    },
    {
      "cell_type": "markdown",
      "source": [
        "\n# Barcode Demo\n\n\n\n"
      ],
      "metadata": {}
    },
    {
      "cell_type": "code",
      "outputs": [],
      "source": [
        "import matplotlib.pyplot as plt\nimport numpy as np\n\n# Fixing random state for reproducibility\nnp.random.seed(19680801)\n\n\n# the bar\nx = np.where(np.random.rand(500) > 0.7, 1.0, 0.0)\n\naxprops = dict(xticks=[], yticks=[])\nbarprops = dict(aspect='auto', cmap=plt.cm.binary, interpolation='nearest')\n\nfig = plt.figure()\n\n# a vertical barcode -- this is broken at present\nax = fig.add_axes([0.1, 0.3, 0.1, 0.6], **axprops)\nax.imshow(x.reshape((-1, 1)), **barprops)\n\n# a horizontal barcode\nax = fig.add_axes([0.3, 0.1, 0.6, 0.1], **axprops)\nax.imshow(x.reshape((1, -1)), **barprops)\n\n\nplt.show()"
      ],
      "metadata": {
        "collapsed": false
      },
      "execution_count": null
    }
  ],
  "nbformat": 4
}