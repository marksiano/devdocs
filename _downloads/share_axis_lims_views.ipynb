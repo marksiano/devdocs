{
  "nbformat_minor": 0,
  "metadata": {
    "kernelspec": {
      "language": "python",
      "name": "python3",
      "display_name": "Python 3"
    },
    "language_info": {
      "mimetype": "text/x-python",
      "codemirror_mode": {
        "version": 3,
        "name": "ipython"
      },
      "version": "3.5.4",
      "file_extension": ".py",
      "nbconvert_exporter": "python",
      "pygments_lexer": "ipython3",
      "name": "python"
    }
  },
  "cells": [
    {
      "cell_type": "code",
      "outputs": [],
      "source": [
        "%matplotlib inline"
      ],
      "metadata": {
        "collapsed": false
      },
      "execution_count": null
    },
    {
      "cell_type": "markdown",
      "source": [
        "\nSharing axis limits and views\n=============================\n\nIt's common to make two or more plots which share an axis, e.g., two\nsubplots with time as a common axis.  When you pan and zoom around on\none, you want the other to move around with you.  To facilitate this,\nmatplotlib Axes support a ``sharex`` and ``sharey`` attribute.  When\nyou create a :func:`~matplotlib.pyplot.subplot` or\n:func:`~matplotlib.pyplot.axes` instance, you can pass in a keyword\nindicating what axes you want to share with\n\n"
      ],
      "metadata": {}
    },
    {
      "cell_type": "code",
      "outputs": [],
      "source": [
        "import numpy as np\nimport matplotlib.pyplot as plt\n\nt = np.arange(0, 10, 0.01)\n\nax1 = plt.subplot(211)\n\nax1.plot(t, np.sin(2*np.pi*t))\n\nax2 = plt.subplot(212, sharex=ax1)\n\nax2.plot(t, np.sin(4*np.pi*t))"
      ],
      "metadata": {
        "collapsed": false
      },
      "execution_count": null
    }
  ],
  "nbformat": 4
}