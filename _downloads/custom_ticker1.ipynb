{
  "nbformat_minor": 0,
  "metadata": {
    "kernelspec": {
      "language": "python",
      "name": "python3",
      "display_name": "Python 3"
    },
    "language_info": {
      "mimetype": "text/x-python",
      "codemirror_mode": {
        "version": 3,
        "name": "ipython"
      },
      "version": "3.5.4",
      "file_extension": ".py",
      "nbconvert_exporter": "python",
      "pygments_lexer": "ipython3",
      "name": "python"
    }
  },
  "cells": [
    {
      "cell_type": "code",
      "outputs": [],
      "source": [
        "%matplotlib inline"
      ],
      "metadata": {
        "collapsed": false
      },
      "execution_count": null
    },
    {
      "cell_type": "markdown",
      "source": [
        "\n# Custom Ticker1\n\n\nThe new ticker code was designed to explicitly support user customized\nticking.  The documentation\nhttp://matplotlib.org/api/ticker_api.html#module-matplotlib.ticker details this\nprocess.  That code defines a lot of preset tickers but was primarily\ndesigned to be user extensible.\n\nIn this example a user defined function is used to format the ticks in\nmillions of dollars on the y axis\n\n"
      ],
      "metadata": {}
    },
    {
      "cell_type": "code",
      "outputs": [],
      "source": [
        "from matplotlib.ticker import FuncFormatter\nimport matplotlib.pyplot as plt\nimport numpy as np\n\nx = np.arange(4)\nmoney = [1.5e5, 2.5e6, 5.5e6, 2.0e7]\n\n\ndef millions(x, pos):\n    'The two args are the value and tick position'\n    return '$%1.1fM' % (x * 1e-6)\n\n\nformatter = FuncFormatter(millions)\n\nfig, ax = plt.subplots()\nax.yaxis.set_major_formatter(formatter)\nplt.bar(x, money)\nplt.xticks(x, ('Bill', 'Fred', 'Mary', 'Sue'))\nplt.show()"
      ],
      "metadata": {
        "collapsed": false
      },
      "execution_count": null
    }
  ],
  "nbformat": 4
}