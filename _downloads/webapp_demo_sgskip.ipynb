{
  "nbformat_minor": 0,
  "metadata": {
    "kernelspec": {
      "language": "python",
      "name": "python3",
      "display_name": "Python 3"
    },
    "language_info": {
      "mimetype": "text/x-python",
      "codemirror_mode": {
        "version": 3,
        "name": "ipython"
      },
      "version": "3.5.4",
      "file_extension": ".py",
      "nbconvert_exporter": "python",
      "pygments_lexer": "ipython3",
      "name": "python"
    }
  },
  "cells": [
    {
      "cell_type": "code",
      "outputs": [],
      "source": [
        "%matplotlib inline"
      ],
      "metadata": {
        "collapsed": false
      },
      "execution_count": null
    },
    {
      "cell_type": "markdown",
      "source": [
        "\n# Webapp Demo\n\n\nThis example shows how to use the agg backend directly to create\nimages, which may be of use to web application developers who want\nfull control over their code without using the pyplot interface to\nmanage figures, figure closing etc.\n\n<div class=\"alert alert-info\"><h4>Note</h4><p>It is not necessary to avoid using the pyplot interface in order to\n    create figures without a graphical front-end - simply setting\n    the backend to \"Agg\" would be sufficient.</p></div>\n\nIt is also worth noting that, because matplotlib can save figures to file-like\nobject, matplotlib can also be used inside a cgi-script *without* needing to\nwrite a figure to disk.\n\n\n"
      ],
      "metadata": {}
    },
    {
      "cell_type": "code",
      "outputs": [],
      "source": [
        "from matplotlib.backends.backend_agg import FigureCanvasAgg\nfrom matplotlib.figure import Figure\nimport numpy as np\n\n# Fixing random state for reproducibility\nnp.random.seed(19680801)\n\n\ndef make_fig():\n    \"\"\"\n    Make a figure and save it to \"webagg.png\".\n\n    \"\"\"\n    fig = Figure()\n    ax = fig.add_subplot(1, 1, 1)\n\n    ax.plot([1, 2, 3], 'ro--', markersize=12, markerfacecolor='g')\n\n    # make a translucent scatter collection\n    x = np.random.rand(100)\n    y = np.random.rand(100)\n    area = np.pi * (10 * np.random.rand(100)) ** 2  # 0 to 10 point radii\n    c = ax.scatter(x, y, area)\n    c.set_alpha(0.5)\n\n    # add some text decoration\n    ax.set_title('My first image')\n    ax.set_ylabel('Some numbers')\n    ax.set_xticks((.2, .4, .6, .8))\n    labels = ax.set_xticklabels(('Bill', 'Fred', 'Ted', 'Ed'))\n\n    # To set object properties, you can either iterate over the\n    # objects manually, or define you own set command, as in setapi\n    # above.\n    for label in labels:\n        label.set_rotation(45)\n        label.set_fontsize(12)\n\n    FigureCanvasAgg(fig).print_png('webapp.png', dpi=150)\n\n\nmake_fig()"
      ],
      "metadata": {
        "collapsed": false
      },
      "execution_count": null
    }
  ],
  "nbformat": 4
}