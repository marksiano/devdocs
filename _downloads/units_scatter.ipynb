{
  "nbformat_minor": 0,
  "metadata": {
    "kernelspec": {
      "language": "python",
      "name": "python3",
      "display_name": "Python 3"
    },
    "language_info": {
      "mimetype": "text/x-python",
      "codemirror_mode": {
        "version": 3,
        "name": "ipython"
      },
      "version": "3.5.4",
      "file_extension": ".py",
      "nbconvert_exporter": "python",
      "pygments_lexer": "ipython3",
      "name": "python"
    }
  },
  "cells": [
    {
      "cell_type": "code",
      "outputs": [],
      "source": [
        "%matplotlib inline"
      ],
      "metadata": {
        "collapsed": false
      },
      "execution_count": null
    },
    {
      "cell_type": "markdown",
      "source": [
        "\n# Unit handling\n\n\nThe example below shows support for unit conversions over masked\narrays.\n\n.. only:: builder_html\n\n   This example requires :download:`basic_units.py <basic_units.py>`\n\n"
      ],
      "metadata": {}
    },
    {
      "cell_type": "code",
      "outputs": [],
      "source": [
        "import numpy as np\nimport matplotlib.pyplot as plt\nfrom basic_units import secs, hertz, minutes\n\n# create masked array\ndata = (1, 2, 3, 4, 5, 6, 7, 8)\nmask = (1, 0, 1, 0, 0, 0, 1, 0)\nxsecs = secs * np.ma.MaskedArray(data, mask, float)\n\nfig, (ax1, ax2, ax3) = plt.subplots(nrows=3, sharex=True)\nax1.scatter(xsecs, xsecs)\nax1.yaxis.set_units(secs)\nax1.axis([0, 10, 0, 10])\n\nax2.scatter(xsecs, xsecs, yunits=hertz)\nax2.axis([0, 10, 0, 1])\n\nax3.scatter(xsecs, xsecs, yunits=hertz)\nax3.yaxis.set_units(minutes)\nax3.axis([0, 10, 0, 1])\n\nfig.tight_layout()\nplt.show()"
      ],
      "metadata": {
        "collapsed": false
      },
      "execution_count": null
    }
  ],
  "nbformat": 4
}