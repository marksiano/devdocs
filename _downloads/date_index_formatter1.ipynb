{
  "nbformat_minor": 0,
  "metadata": {
    "kernelspec": {
      "language": "python",
      "name": "python3",
      "display_name": "Python 3"
    },
    "language_info": {
      "mimetype": "text/x-python",
      "codemirror_mode": {
        "version": 3,
        "name": "ipython"
      },
      "version": "3.5.4",
      "file_extension": ".py",
      "nbconvert_exporter": "python",
      "pygments_lexer": "ipython3",
      "name": "python"
    }
  },
  "cells": [
    {
      "cell_type": "code",
      "outputs": [],
      "source": [
        "%matplotlib inline"
      ],
      "metadata": {
        "collapsed": false
      },
      "execution_count": null
    },
    {
      "cell_type": "markdown",
      "source": [
        "\n# Date Index Formatter\n\n\nWhen plotting daily data, a frequent request is to plot the data\nignoring skips, e.g., no extra spaces for weekends.  This is particularly\ncommon in financial time series, when you may have data for M-F and\nnot Sat, Sun and you don't want gaps in the x axis.  The approach is\nto simply use the integer index for the xdata and a custom tick\nFormatter to get the appropriate date string for a given index.\n\n"
      ],
      "metadata": {}
    },
    {
      "cell_type": "code",
      "outputs": [],
      "source": [
        "from __future__ import print_function\nimport numpy as np\nfrom matplotlib.mlab import csv2rec\nimport matplotlib.pyplot as plt\nimport matplotlib.cbook as cbook\nfrom matplotlib.ticker import Formatter\n\ndatafile = cbook.get_sample_data('msft.csv', asfileobj=False)\nprint('loading %s' % datafile)\nr = csv2rec(datafile)[-40:]\n\n\nclass MyFormatter(Formatter):\n    def __init__(self, dates, fmt='%Y-%m-%d'):\n        self.dates = dates\n        self.fmt = fmt\n\n    def __call__(self, x, pos=0):\n        'Return the label for time x at position pos'\n        ind = int(np.round(x))\n        if ind >= len(self.dates) or ind < 0:\n            return ''\n\n        return self.dates[ind].strftime(self.fmt)\n\nformatter = MyFormatter(r.date)\n\nfig, ax = plt.subplots()\nax.xaxis.set_major_formatter(formatter)\nax.plot(np.arange(len(r)), r.close, 'o-')\nfig.autofmt_xdate()\nplt.show()"
      ],
      "metadata": {
        "collapsed": false
      },
      "execution_count": null
    }
  ],
  "nbformat": 4
}