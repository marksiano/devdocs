{
  "nbformat_minor": 0,
  "metadata": {
    "kernelspec": {
      "language": "python",
      "name": "python3",
      "display_name": "Python 3"
    },
    "language_info": {
      "mimetype": "text/x-python",
      "codemirror_mode": {
        "version": 3,
        "name": "ipython"
      },
      "version": "3.5.4",
      "file_extension": ".py",
      "nbconvert_exporter": "python",
      "pygments_lexer": "ipython3",
      "name": "python"
    }
  },
  "cells": [
    {
      "cell_type": "code",
      "outputs": [],
      "source": [
        "%matplotlib inline"
      ],
      "metadata": {
        "collapsed": false
      },
      "execution_count": null
    },
    {
      "cell_type": "markdown",
      "source": [
        "\n# Colormap Normalizations Lognorm\n\n\nDemonstration of using norm to map colormaps onto data in non-linear ways.\n\n"
      ],
      "metadata": {}
    },
    {
      "cell_type": "code",
      "outputs": [],
      "source": [
        "import numpy as np\nimport matplotlib.pyplot as plt\nimport matplotlib.colors as colors\nfrom matplotlib.mlab import bivariate_normal\n\n'''\nLognorm: Instead of pcolor log10(Z1) you can have colorbars that have\nthe exponential labels using a norm.\n'''\nN = 100\nX, Y = np.mgrid[-3:3:complex(0, N), -2:2:complex(0, N)]\n\n# A low hump with a spike coming out of the top right.  Needs to have\n# z/colour axis on a log scale so we see both hump and spike.  linear\n# scale only shows the spike.\nZ1 = bivariate_normal(X, Y, 0.1, 0.2, 1.0, 1.0) +  \\\n    0.1 * bivariate_normal(X, Y, 1.0, 1.0, 0.0, 0.0)\n\nfig, ax = plt.subplots(2, 1)\n\npcm = ax[0].pcolor(X, Y, Z1,\n                   norm=colors.LogNorm(vmin=Z1.min(), vmax=Z1.max()),\n                   cmap='PuBu_r')\nfig.colorbar(pcm, ax=ax[0], extend='max')\n\npcm = ax[1].pcolor(X, Y, Z1, cmap='PuBu_r')\nfig.colorbar(pcm, ax=ax[1], extend='max')\n\nplt.show()"
      ],
      "metadata": {
        "collapsed": false
      },
      "execution_count": null
    }
  ],
  "nbformat": 4
}