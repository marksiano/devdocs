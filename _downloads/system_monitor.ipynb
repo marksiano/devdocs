{
  "nbformat_minor": 0,
  "metadata": {
    "kernelspec": {
      "language": "python",
      "name": "python3",
      "display_name": "Python 3"
    },
    "language_info": {
      "mimetype": "text/x-python",
      "codemirror_mode": {
        "version": 3,
        "name": "ipython"
      },
      "version": "3.5.4",
      "file_extension": ".py",
      "nbconvert_exporter": "python",
      "pygments_lexer": "ipython3",
      "name": "python"
    }
  },
  "cells": [
    {
      "cell_type": "code",
      "outputs": [],
      "source": [
        "%matplotlib inline"
      ],
      "metadata": {
        "collapsed": false
      },
      "execution_count": null
    },
    {
      "cell_type": "markdown",
      "source": [
        "\n# System Monitor\n\n\n\n"
      ],
      "metadata": {}
    },
    {
      "cell_type": "code",
      "outputs": [],
      "source": [
        "import time\nimport matplotlib.pyplot as plt\nimport numpy as np\n\n\ndef get_memory(t):\n    \"Simulate a function that returns system memory\"\n    return 100 * (0.5 + 0.5 * np.sin(0.5 * np.pi * t))\n\n\ndef get_cpu(t):\n    \"Simulate a function that returns cpu usage\"\n    return 100 * (0.5 + 0.5 * np.sin(0.2 * np.pi * (t - 0.25)))\n\n\ndef get_net(t):\n    \"Simulate a function that returns network bandwidth\"\n    return 100 * (0.5 + 0.5 * np.sin(0.7 * np.pi * (t - 0.1)))\n\n\ndef get_stats(t):\n    return get_memory(t), get_cpu(t), get_net(t)\n\nfig, ax = plt.subplots()\nind = np.arange(1, 4)\n\n# show the figure, but do not block\nplt.show(block=False)\n\n\npm, pc, pn = plt.bar(ind, get_stats(0))\npm.set_facecolor('r')\npc.set_facecolor('g')\npn.set_facecolor('b')\nax.set_xticks(ind)\nax.set_xticklabels(['Memory', 'CPU', 'Bandwidth'])\nax.set_ylim([0, 100])\nax.set_ylabel('Percent usage')\nax.set_title('System Monitor')\n\nstart = time.time()\nfor i in range(200):  # run for a little while\n    m, c, n = get_stats(i / 10.0)\n\n    # update the animated artists\n    pm.set_height(m)\n    pc.set_height(c)\n    pn.set_height(n)\n\n    # ask the canvas to re-draw itself the next time it\n    # has a chance.\n    # For most of the GUI backends this adds an event to the queue\n    # of the GUI frameworks event loop.\n    fig.canvas.draw_idle()\n    try:\n        # make sure that the GUI framework has a chance to run its event loop\n        # and clear any GUI events.  This needs to be in a try/except block\n        # because the default implementation of this method is to raise\n        # NotImplementedError\n        fig.canvas.flush_events()\n    except NotImplementedError:\n        pass\n\nstop = time.time()\nprint(\"{fps:.1f} frames per second\".format(fps=200 / (stop - start)))"
      ],
      "metadata": {
        "collapsed": false
      },
      "execution_count": null
    }
  ],
  "nbformat": 4
}