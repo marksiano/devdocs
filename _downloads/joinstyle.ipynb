{
  "nbformat_minor": 0,
  "metadata": {
    "kernelspec": {
      "language": "python",
      "name": "python3",
      "display_name": "Python 3"
    },
    "language_info": {
      "mimetype": "text/x-python",
      "codemirror_mode": {
        "version": 3,
        "name": "ipython"
      },
      "version": "3.5.4",
      "file_extension": ".py",
      "nbconvert_exporter": "python",
      "pygments_lexer": "ipython3",
      "name": "python"
    }
  },
  "cells": [
    {
      "cell_type": "code",
      "outputs": [],
      "source": [
        "%matplotlib inline"
      ],
      "metadata": {
        "collapsed": false
      },
      "execution_count": null
    },
    {
      "cell_type": "markdown",
      "source": [
        "\n# Join styles\n\n\nIllustrate the three different join styles.\n\n"
      ],
      "metadata": {}
    },
    {
      "cell_type": "code",
      "outputs": [],
      "source": [
        "import numpy as np\nimport matplotlib.pyplot as plt\n\n\ndef plot_angle(ax, x, y, angle, style):\n    phi = np.radians(angle)\n    xx = [x + .5, x, x + .5*np.cos(phi)]\n    yy = [y, y, y + .5*np.sin(phi)]\n    ax.plot(xx, yy, lw=8, color='blue', solid_joinstyle=style)\n    ax.plot(xx[1:], yy[1:], lw=1, color='black')\n    ax.plot(xx[1::-1], yy[1::-1], lw=1, color='black')\n    ax.plot(xx[1:2], yy[1:2], 'o', color='red', markersize=3)\n    ax.text(x, y + .2, '%.0f degrees' % angle)\n\nfig, ax = plt.subplots()\nax.set_title('Join style')\n\nfor x, style in enumerate((('miter', 'round', 'bevel'))):\n    ax.text(x, 5, style)\n    for i in range(5):\n        plot_angle(ax, x, i, pow(2.0, 3 + i), style)\n\nax.set_xlim(-.5, 2.75)\nax.set_ylim(-.5, 5.5)\nplt.show()"
      ],
      "metadata": {
        "collapsed": false
      },
      "execution_count": null
    }
  ],
  "nbformat": 4
}