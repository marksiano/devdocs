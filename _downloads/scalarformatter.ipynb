{
  "nbformat_minor": 0,
  "metadata": {
    "kernelspec": {
      "language": "python",
      "name": "python3",
      "display_name": "Python 3"
    },
    "language_info": {
      "mimetype": "text/x-python",
      "codemirror_mode": {
        "version": 3,
        "name": "ipython"
      },
      "version": "3.5.4",
      "file_extension": ".py",
      "nbconvert_exporter": "python",
      "pygments_lexer": "ipython3",
      "name": "python"
    }
  },
  "cells": [
    {
      "cell_type": "code",
      "outputs": [],
      "source": [
        "%matplotlib inline"
      ],
      "metadata": {
        "collapsed": false
      },
      "execution_count": null
    },
    {
      "cell_type": "markdown",
      "source": [
        "\n# Tick formatting using the ScalarFromatter\n\n\nThe example shows use of ScalarFormatter with different settings.\n\nExample 1 : Default\n\nExample 2 : With no Numerical Offset\n\nExample 3 : With Mathtext\n\n"
      ],
      "metadata": {}
    },
    {
      "cell_type": "code",
      "outputs": [],
      "source": [
        "import matplotlib.pyplot as plt\nimport numpy as np\nfrom matplotlib.ticker import ScalarFormatter"
      ],
      "metadata": {
        "collapsed": false
      },
      "execution_count": null
    },
    {
      "cell_type": "markdown",
      "source": [
        "Example 1\n\n"
      ],
      "metadata": {}
    },
    {
      "cell_type": "code",
      "outputs": [],
      "source": [
        "x = np.arange(0, 1, .01)\nfig, [[ax1, ax2], [ax3, ax4]] = plt.subplots(2, 2, figsize=(6, 6))\nfig.text(0.5, 0.975, 'The new formatter, default settings',\n         horizontalalignment='center',\n         verticalalignment='top')\n\nax1.plot(x * 1e5 + 1e10, x * 1e-10 + 1e-5)\nax1.xaxis.set_major_formatter(ScalarFormatter())\nax1.yaxis.set_major_formatter(ScalarFormatter())\n\nax2.plot(x * 1e5, x * 1e-4)\nax2.xaxis.set_major_formatter(ScalarFormatter())\nax2.yaxis.set_major_formatter(ScalarFormatter())\n\nax3.plot(-x * 1e5 - 1e10, -x * 1e-5 - 1e-10)\nax3.xaxis.set_major_formatter(ScalarFormatter())\nax3.yaxis.set_major_formatter(ScalarFormatter())\n\nax4.plot(-x * 1e5, -x * 1e-4)\nax4.xaxis.set_major_formatter(ScalarFormatter())\nax4.yaxis.set_major_formatter(ScalarFormatter())\n\nfig.subplots_adjust(wspace=0.7, hspace=0.6)"
      ],
      "metadata": {
        "collapsed": false
      },
      "execution_count": null
    },
    {
      "cell_type": "markdown",
      "source": [
        "Example 2\n\n"
      ],
      "metadata": {}
    },
    {
      "cell_type": "code",
      "outputs": [],
      "source": [
        "x = np.arange(0, 1, .01)\nfig, [[ax1, ax2], [ax3, ax4]] = plt.subplots(2, 2, figsize=(6, 6))\nfig.text(0.5, 0.975, 'The new formatter, no numerical offset',\n         horizontalalignment='center',\n         verticalalignment='top')\n\nax1.plot(x * 1e5 + 1e10, x * 1e-10 + 1e-5)\nax1.xaxis.set_major_formatter(ScalarFormatter(useOffset=False))\nax1.yaxis.set_major_formatter(ScalarFormatter(useOffset=False))\n\nax2.plot(x * 1e5, x * 1e-4)\nax2.xaxis.set_major_formatter(ScalarFormatter(useOffset=False))\nax2.yaxis.set_major_formatter(ScalarFormatter(useOffset=False))\n\nax3.plot(-x * 1e5 - 1e10, -x * 1e-5 - 1e-10)\nax3.xaxis.set_major_formatter(ScalarFormatter(useOffset=False))\nax3.yaxis.set_major_formatter(ScalarFormatter(useOffset=False))\n\nax4.plot(-x * 1e5, -x * 1e-4)\nax4.xaxis.set_major_formatter(ScalarFormatter(useOffset=False))\nax4.yaxis.set_major_formatter(ScalarFormatter(useOffset=False))\n\nfig.subplots_adjust(wspace=0.7, hspace=0.6)"
      ],
      "metadata": {
        "collapsed": false
      },
      "execution_count": null
    },
    {
      "cell_type": "markdown",
      "source": [
        "Example 3\n\n"
      ],
      "metadata": {}
    },
    {
      "cell_type": "code",
      "outputs": [],
      "source": [
        "x = np.arange(0, 1, .01)\nfig, [[ax1, ax2], [ax3, ax4]] = plt.subplots(2, 2, figsize=(6, 6))\nfig.text(0.5, 0.975, 'The new formatter, with mathtext',\n         horizontalalignment='center',\n         verticalalignment='top')\n\nax1.plot(x * 1e5 + 1e10, x * 1e-10 + 1e-5)\nax1.xaxis.set_major_formatter(ScalarFormatter(useMathText=True))\nax1.yaxis.set_major_formatter(ScalarFormatter(useMathText=True))\n\nax2.plot(x * 1e5, x * 1e-4)\nax2.xaxis.set_major_formatter(ScalarFormatter(useMathText=True))\nax2.yaxis.set_major_formatter(ScalarFormatter(useMathText=True))\n\nax3.plot(-x * 1e5 - 1e10, -x * 1e-5 - 1e-10)\nax3.xaxis.set_major_formatter(ScalarFormatter(useMathText=True))\nax3.yaxis.set_major_formatter(ScalarFormatter(useMathText=True))\n\nax4.plot(-x * 1e5, -x * 1e-4)\nax4.xaxis.set_major_formatter(ScalarFormatter(useMathText=True))\nax4.yaxis.set_major_formatter(ScalarFormatter(useMathText=True))\n\nfig.subplots_adjust(wspace=0.7, hspace=0.6)\n\nplt.show()"
      ],
      "metadata": {
        "collapsed": false
      },
      "execution_count": null
    }
  ],
  "nbformat": 4
}