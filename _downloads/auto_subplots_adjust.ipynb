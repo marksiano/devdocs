{
  "nbformat_minor": 0,
  "metadata": {
    "kernelspec": {
      "language": "python",
      "name": "python3",
      "display_name": "Python 3"
    },
    "language_info": {
      "mimetype": "text/x-python",
      "codemirror_mode": {
        "version": 3,
        "name": "ipython"
      },
      "version": "3.5.4",
      "file_extension": ".py",
      "nbconvert_exporter": "python",
      "pygments_lexer": "ipython3",
      "name": "python"
    }
  },
  "cells": [
    {
      "cell_type": "code",
      "outputs": [],
      "source": [
        "%matplotlib inline"
      ],
      "metadata": {
        "collapsed": false
      },
      "execution_count": null
    },
    {
      "cell_type": "markdown",
      "source": [
        "\n# Auto Subplots Adjust\n\n\n\n"
      ],
      "metadata": {}
    },
    {
      "cell_type": "code",
      "outputs": [],
      "source": [
        "import matplotlib.pyplot as plt\nimport matplotlib.transforms as mtransforms\nfig = plt.figure()\nax = fig.add_subplot(111)\nax.plot(range(10))\nax.set_yticks((2,5,7))\nlabels = ax.set_yticklabels(('really, really, really', 'long', 'labels'))\n\ndef on_draw(event):\n   bboxes = []\n   for label in labels:\n       bbox = label.get_window_extent()\n       # the figure transform goes from relative coords->pixels and we\n       # want the inverse of that\n       bboxi = bbox.inverse_transformed(fig.transFigure)\n       bboxes.append(bboxi)\n\n   # this is the bbox that bounds all the bboxes, again in relative\n   # figure coords\n   bbox = mtransforms.Bbox.union(bboxes)\n   if fig.subplotpars.left < bbox.width:\n       # we need to move it over\n       fig.subplots_adjust(left=1.1*bbox.width) # pad a little\n       fig.canvas.draw()\n   return False\n\nfig.canvas.mpl_connect('draw_event', on_draw)\n\nplt.show()"
      ],
      "metadata": {
        "collapsed": false
      },
      "execution_count": null
    }
  ],
  "nbformat": 4
}