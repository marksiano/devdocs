{
  "nbformat_minor": 0,
  "metadata": {
    "kernelspec": {
      "language": "python",
      "name": "python3",
      "display_name": "Python 3"
    },
    "language_info": {
      "mimetype": "text/x-python",
      "codemirror_mode": {
        "version": 3,
        "name": "ipython"
      },
      "version": "3.5.4",
      "file_extension": ".py",
      "nbconvert_exporter": "python",
      "pygments_lexer": "ipython3",
      "name": "python"
    }
  },
  "cells": [
    {
      "cell_type": "code",
      "outputs": [],
      "source": [
        "%matplotlib inline"
      ],
      "metadata": {
        "collapsed": false
      },
      "execution_count": null
    },
    {
      "cell_type": "markdown",
      "source": [
        "\n# Interactive functions\n\n\nThis provides examples of uses of interactive functions, such as ginput,\nwaitforbuttonpress and manual clabel placement.\n\nThis script must be run interactively using a backend that has a\ngraphical user interface (for example, using GTKAgg backend, but not\nPS backend).\n\nSee also ginput_demo.py\n\n\n"
      ],
      "metadata": {}
    },
    {
      "cell_type": "code",
      "outputs": [],
      "source": [
        "from __future__ import print_function\n\nimport time\nimport matplotlib\nimport numpy as np\nimport matplotlib.cm as cm\nimport matplotlib.mlab as mlab\nimport matplotlib.pyplot as plt\n\n\ndef tellme(s):\n    print(s)\n    plt.title(s, fontsize=16)\n    plt.draw()"
      ],
      "metadata": {
        "collapsed": false
      },
      "execution_count": null
    },
    {
      "cell_type": "markdown",
      "source": [
        "Define a triangle by clicking three points\n\n"
      ],
      "metadata": {}
    },
    {
      "cell_type": "code",
      "outputs": [],
      "source": [
        "plt.clf()\nplt.axis([-1., 1., -1., 1.])\nplt.setp(plt.gca(), autoscale_on=False)\n\ntellme('You will define a triangle, click to begin')\n\nplt.waitforbuttonpress()\n\nhappy = False\nwhile not happy:\n    pts = []\n    while len(pts) < 3:\n        tellme('Select 3 corners with mouse')\n        pts = np.asarray(plt.ginput(3, timeout=-1))\n        if len(pts) < 3:\n            tellme('Too few points, starting over')\n            time.sleep(1)  # Wait a second\n\n    ph = plt.fill(pts[:, 0], pts[:, 1], 'r', lw=2)\n\n    tellme('Happy? Key click for yes, mouse click for no')\n\n    happy = plt.waitforbuttonpress()\n\n    # Get rid of fill\n    if not happy:\n        for p in ph:\n            p.remove()"
      ],
      "metadata": {
        "collapsed": false
      },
      "execution_count": null
    },
    {
      "cell_type": "markdown",
      "source": [
        "Now contour according to distance from triangle\ncorners - just an example\n\n"
      ],
      "metadata": {}
    },
    {
      "cell_type": "code",
      "outputs": [],
      "source": [
        "# Define a nice function of distance from individual pts\ndef f(x, y, pts):\n    z = np.zeros_like(x)\n    for p in pts:\n        z = z + 1/(np.sqrt((x - p[0])**2 + (y - p[1])**2))\n    return 1/z\n\n\nX, Y = np.meshgrid(np.linspace(-1, 1, 51), np.linspace(-1, 1, 51))\nZ = f(X, Y, pts)\n\nCS = plt.contour(X, Y, Z, 20)\n\ntellme('Use mouse to select contour label locations, middle button to finish')\nCL = plt.clabel(CS, manual=True)"
      ],
      "metadata": {
        "collapsed": false
      },
      "execution_count": null
    },
    {
      "cell_type": "markdown",
      "source": [
        "Now do a zoom\n\n"
      ],
      "metadata": {}
    },
    {
      "cell_type": "code",
      "outputs": [],
      "source": [
        "tellme('Now do a nested zoom, click to begin')\nplt.waitforbuttonpress()\n\nhappy = False\nwhile not happy:\n    tellme('Select two corners of zoom, middle mouse button to finish')\n    pts = np.asarray(plt.ginput(2, timeout=-1))\n\n    happy = len(pts) < 2\n    if happy:\n        break\n\n    pts = np.sort(pts, axis=0)\n    plt.axis(pts.T.ravel())\n\ntellme('All Done!')\nplt.show()"
      ],
      "metadata": {
        "collapsed": false
      },
      "execution_count": null
    }
  ],
  "nbformat": 4
}