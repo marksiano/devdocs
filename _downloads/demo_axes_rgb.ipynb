{
  "nbformat_minor": 0,
  "metadata": {
    "kernelspec": {
      "language": "python",
      "name": "python3",
      "display_name": "Python 3"
    },
    "language_info": {
      "mimetype": "text/x-python",
      "codemirror_mode": {
        "version": 3,
        "name": "ipython"
      },
      "version": "3.5.4",
      "file_extension": ".py",
      "nbconvert_exporter": "python",
      "pygments_lexer": "ipython3",
      "name": "python"
    }
  },
  "cells": [
    {
      "cell_type": "code",
      "outputs": [],
      "source": [
        "%matplotlib inline"
      ],
      "metadata": {
        "collapsed": false
      },
      "execution_count": null
    },
    {
      "cell_type": "markdown",
      "source": [
        "\n# Demo Axes RGB\n\n\nRGBAxes to show RGB composite images.\n\n"
      ],
      "metadata": {}
    },
    {
      "cell_type": "code",
      "outputs": [],
      "source": [
        "import numpy as np\nimport matplotlib.pyplot as plt\n\nfrom mpl_toolkits.axes_grid1.axes_rgb import make_rgb_axes, RGBAxes\n\n\ndef get_demo_image():\n    from matplotlib.cbook import get_sample_data\n    f = get_sample_data(\"axes_grid/bivariate_normal.npy\", asfileobj=False)\n    z = np.load(f)\n    # z is a numpy array of 15x15\n    return z, (-3, 4, -4, 3)\n\n\ndef get_rgb():\n    Z, extent = get_demo_image()\n\n    Z[Z < 0] = 0.\n    Z = Z/Z.max()\n\n    R = Z[:13, :13]\n    G = Z[2:, 2:]\n    B = Z[:13, 2:]\n\n    return R, G, B\n\n\ndef make_cube(r, g, b):\n    ny, nx = r.shape\n    R = np.zeros([ny, nx, 3], dtype=\"d\")\n    R[:, :, 0] = r\n    G = np.zeros_like(R)\n    G[:, :, 1] = g\n    B = np.zeros_like(R)\n    B[:, :, 2] = b\n\n    RGB = R + G + B\n\n    return R, G, B, RGB\n\n\ndef demo_rgb():\n    fig, ax = plt.subplots()\n    ax_r, ax_g, ax_b = make_rgb_axes(ax, pad=0.02)\n    #fig.add_axes(ax_r)\n    #fig.add_axes(ax_g)\n    #fig.add_axes(ax_b)\n\n    r, g, b = get_rgb()\n    im_r, im_g, im_b, im_rgb = make_cube(r, g, b)\n    kwargs = dict(origin=\"lower\", interpolation=\"nearest\")\n    ax.imshow(im_rgb, **kwargs)\n    ax_r.imshow(im_r, **kwargs)\n    ax_g.imshow(im_g, **kwargs)\n    ax_b.imshow(im_b, **kwargs)\n\n\ndef demo_rgb2():\n    fig = plt.figure(2)\n    ax = RGBAxes(fig, [0.1, 0.1, 0.8, 0.8], pad=0.0)\n    #fig.add_axes(ax)\n    #ax.add_RGB_to_figure()\n\n    r, g, b = get_rgb()\n    kwargs = dict(origin=\"lower\", interpolation=\"nearest\")\n    ax.imshow_rgb(r, g, b, **kwargs)\n\n    ax.RGB.set_xlim(0., 9.5)\n    ax.RGB.set_ylim(0.9, 10.6)\n\n    for ax1 in [ax.RGB, ax.R, ax.G, ax.B]:\n        for sp1 in ax1.spines.values():\n            sp1.set_color(\"w\")\n        for tick in ax1.xaxis.get_major_ticks() + ax1.yaxis.get_major_ticks():\n            tick.tick1line.set_mec(\"w\")\n            tick.tick2line.set_mec(\"w\")\n\n    return ax\n\n\ndemo_rgb()\nax = demo_rgb2()\n\nplt.show()"
      ],
      "metadata": {
        "collapsed": false
      },
      "execution_count": null
    }
  ],
  "nbformat": 4
}