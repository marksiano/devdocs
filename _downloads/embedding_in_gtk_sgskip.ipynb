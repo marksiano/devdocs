{
  "nbformat_minor": 0,
  "metadata": {
    "kernelspec": {
      "language": "python",
      "name": "python3",
      "display_name": "Python 3"
    },
    "language_info": {
      "mimetype": "text/x-python",
      "codemirror_mode": {
        "version": 3,
        "name": "ipython"
      },
      "version": "3.5.4",
      "file_extension": ".py",
      "nbconvert_exporter": "python",
      "pygments_lexer": "ipython3",
      "name": "python"
    }
  },
  "cells": [
    {
      "cell_type": "code",
      "outputs": [],
      "source": [
        "%matplotlib inline"
      ],
      "metadata": {
        "collapsed": false
      },
      "execution_count": null
    },
    {
      "cell_type": "markdown",
      "source": [
        "\n# Embedding In GTK\n\n\nShow how to add a matplotlib FigureCanvasGTK or FigureCanvasGTKAgg widget to a\ngtk.Window\n\n"
      ],
      "metadata": {}
    },
    {
      "cell_type": "code",
      "outputs": [],
      "source": [
        "import gtk\n\nfrom matplotlib.figure import Figure\nfrom numpy import arange, sin, pi\n\n# uncomment to select /GTK/GTKAgg/GTKCairo\n#from matplotlib.backends.backend_gtk import FigureCanvasGTK as FigureCanvas\nfrom matplotlib.backends.backend_gtkagg import FigureCanvasGTKAgg as FigureCanvas\n#from matplotlib.backends.backend_gtkcairo import FigureCanvasGTKCairo as FigureCanvas\n\n\nwin = gtk.Window()\nwin.connect(\"destroy\", lambda x: gtk.main_quit())\nwin.set_default_size(400, 300)\nwin.set_title(\"Embedding in GTK\")\n\nf = Figure(figsize=(5, 4), dpi=100)\na = f.add_subplot(111)\nt = arange(0.0, 3.0, 0.01)\ns = sin(2*pi*t)\na.plot(t, s)\n\ncanvas = FigureCanvas(f)  # a gtk.DrawingArea\nwin.add(canvas)\n\nwin.show_all()\ngtk.main()"
      ],
      "metadata": {
        "collapsed": false
      },
      "execution_count": null
    }
  ],
  "nbformat": 4
}