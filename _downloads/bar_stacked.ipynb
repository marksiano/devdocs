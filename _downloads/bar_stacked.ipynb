{
  "nbformat_minor": 0,
  "metadata": {
    "kernelspec": {
      "language": "python",
      "name": "python3",
      "display_name": "Python 3"
    },
    "language_info": {
      "mimetype": "text/x-python",
      "codemirror_mode": {
        "version": 3,
        "name": "ipython"
      },
      "version": "3.5.4",
      "file_extension": ".py",
      "nbconvert_exporter": "python",
      "pygments_lexer": "ipython3",
      "name": "python"
    }
  },
  "cells": [
    {
      "cell_type": "code",
      "outputs": [],
      "source": [
        "%matplotlib inline"
      ],
      "metadata": {
        "collapsed": false
      },
      "execution_count": null
    },
    {
      "cell_type": "markdown",
      "source": [
        "\n# Stacked Bar Graph\n\n\nThis is an example of creating a stacked bar plot with error bars\nusing `~matplotlib.pyplot.bar`.  Note the parameters *yerr* used for\nerror bars, and *bottom* to stack the women's bars on top of the men's\nbars.\n\n\n"
      ],
      "metadata": {}
    },
    {
      "cell_type": "code",
      "outputs": [],
      "source": [
        "import numpy as np\nimport matplotlib.pyplot as plt\n\n\nN = 5\nmenMeans = (20, 35, 30, 35, 27)\nwomenMeans = (25, 32, 34, 20, 25)\nmenStd = (2, 3, 4, 1, 2)\nwomenStd = (3, 5, 2, 3, 3)\nind = np.arange(N)    # the x locations for the groups\nwidth = 0.35       # the width of the bars: can also be len(x) sequence\n\np1 = plt.bar(ind, menMeans, width, yerr=menStd)\np2 = plt.bar(ind, womenMeans, width,\n             bottom=menMeans, yerr=womenStd)\n\nplt.ylabel('Scores')\nplt.title('Scores by group and gender')\nplt.xticks(ind, ('G1', 'G2', 'G3', 'G4', 'G5'))\nplt.yticks(np.arange(0, 81, 10))\nplt.legend((p1[0], p2[0]), ('Men', 'Women'))\n\nplt.show()"
      ],
      "metadata": {
        "collapsed": false
      },
      "execution_count": null
    }
  ],
  "nbformat": 4
}