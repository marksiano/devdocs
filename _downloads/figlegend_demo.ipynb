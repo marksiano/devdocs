{
  "nbformat_minor": 0,
  "metadata": {
    "kernelspec": {
      "language": "python",
      "name": "python3",
      "display_name": "Python 3"
    },
    "language_info": {
      "mimetype": "text/x-python",
      "codemirror_mode": {
        "version": 3,
        "name": "ipython"
      },
      "version": "3.5.4",
      "file_extension": ".py",
      "nbconvert_exporter": "python",
      "pygments_lexer": "ipython3",
      "name": "python"
    }
  },
  "cells": [
    {
      "cell_type": "code",
      "outputs": [],
      "source": [
        "%matplotlib inline"
      ],
      "metadata": {
        "collapsed": false
      },
      "execution_count": null
    },
    {
      "cell_type": "markdown",
      "source": [
        "\n# Figure legend demo\n\n\nInstead of plotting a legend on each axis, a legend for all the artists on all\nthe sub-axes of a figure can be plotted instead.\n\n"
      ],
      "metadata": {}
    },
    {
      "cell_type": "code",
      "outputs": [],
      "source": [
        "import numpy as np\nimport matplotlib.pyplot as plt\n\nfig, axs = plt.subplots(1, 2)\n\nx = np.arange(0.0, 2.0, 0.02)\ny1 = np.sin(2 * np.pi * x)\ny2 = np.exp(-x)\nl1, l2 = axs[0].plot(x, y1, 'rs-', x, y2, 'go')\n\ny3 = np.sin(4 * np.pi * x)\ny4 = np.exp(-2 * x)\nl3, l4 = axs[1].plot(x, y3, 'yd-', x, y4, 'k^')\n\nfig.legend((l1, l2), ('Line 1', 'Line 2'), 'upper left')\nfig.legend((l3, l4), ('Line 3', 'Line 4'), 'upper right')\n\nplt.tight_layout()\nplt.show()"
      ],
      "metadata": {
        "collapsed": false
      },
      "execution_count": null
    }
  ],
  "nbformat": 4
}