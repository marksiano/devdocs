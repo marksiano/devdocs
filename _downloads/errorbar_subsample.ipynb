{
  "nbformat_minor": 0,
  "metadata": {
    "kernelspec": {
      "language": "python",
      "name": "python3",
      "display_name": "Python 3"
    },
    "language_info": {
      "mimetype": "text/x-python",
      "codemirror_mode": {
        "version": 3,
        "name": "ipython"
      },
      "version": "3.5.4",
      "file_extension": ".py",
      "nbconvert_exporter": "python",
      "pygments_lexer": "ipython3",
      "name": "python"
    }
  },
  "cells": [
    {
      "cell_type": "code",
      "outputs": [],
      "source": [
        "%matplotlib inline"
      ],
      "metadata": {
        "collapsed": false
      },
      "execution_count": null
    },
    {
      "cell_type": "markdown",
      "source": [
        "\n# Errorbar Subsample\n\n\nDemo for the errorevery keyword to show data full accuracy data plots with\nfew errorbars.\n\n"
      ],
      "metadata": {}
    },
    {
      "cell_type": "code",
      "outputs": [],
      "source": [
        "import numpy as np\nimport matplotlib.pyplot as plt\n\n# example data\nx = np.arange(0.1, 4, 0.1)\ny = np.exp(-x)\n\n# example variable error bar values\nyerr = 0.1 + 0.1 * np.sqrt(x)\n\n\n# Now switch to a more OO interface to exercise more features.\nfig, axs = plt.subplots(nrows=1, ncols=2, sharex=True)\nax = axs[0]\nax.errorbar(x, y, yerr=yerr)\nax.set_title('all errorbars')\n\nax = axs[1]\nax.errorbar(x, y, yerr=yerr, errorevery=5)\nax.set_title('only every 5th errorbar')\n\n\nfig.suptitle('Errorbar subsampling for better appearance')\n\nplt.show()"
      ],
      "metadata": {
        "collapsed": false
      },
      "execution_count": null
    }
  ],
  "nbformat": 4
}