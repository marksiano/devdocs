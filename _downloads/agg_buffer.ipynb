{
  "nbformat_minor": 0,
  "metadata": {
    "kernelspec": {
      "language": "python",
      "name": "python3",
      "display_name": "Python 3"
    },
    "language_info": {
      "mimetype": "text/x-python",
      "codemirror_mode": {
        "version": 3,
        "name": "ipython"
      },
      "version": "3.5.4",
      "file_extension": ".py",
      "nbconvert_exporter": "python",
      "pygments_lexer": "ipython3",
      "name": "python"
    }
  },
  "cells": [
    {
      "cell_type": "code",
      "outputs": [],
      "source": [
        "%matplotlib inline"
      ],
      "metadata": {
        "collapsed": false
      },
      "execution_count": null
    },
    {
      "cell_type": "markdown",
      "source": [
        "\n# Agg Buffer\n\n\nUse backend agg to access the figure canvas as an RGB string and then\nconvert it to an array and pass it to Pillow for rendering.\n\n"
      ],
      "metadata": {}
    },
    {
      "cell_type": "code",
      "outputs": [],
      "source": [
        "import numpy as np\n\nimport matplotlib.pyplot as plt\nfrom matplotlib.backends.backend_agg import FigureCanvasAgg\n\n\ntry:\n    from PIL import Image\nexcept ImportError:\n    raise SystemExit(\"Pillow must be installed to run this example\")\n\nplt.plot([1, 2, 3])\n\ncanvas = plt.get_current_fig_manager().canvas\n\nagg = canvas.switch_backends(FigureCanvasAgg)\nagg.draw()\ns = agg.tostring_rgb()\n\n# get the width and the height to resize the matrix\nl, b, w, h = agg.figure.bbox.bounds\nw, h = int(w), int(h)\n\nX = np.fromstring(s, np.uint8).reshape((h, w, 3))\n\ntry:\n    im = Image.fromstring(\"RGB\", (w, h), s)\nexcept Exception:\n    im = Image.frombytes(\"RGB\", (w, h), s)\n\n# Uncomment this line to display the image using ImageMagick's\n# `display` tool.\n# im.show()"
      ],
      "metadata": {
        "collapsed": false
      },
      "execution_count": null
    }
  ],
  "nbformat": 4
}