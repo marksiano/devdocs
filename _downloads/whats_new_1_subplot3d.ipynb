{
  "nbformat_minor": 0,
  "metadata": {
    "kernelspec": {
      "language": "python",
      "name": "python3",
      "display_name": "Python 3"
    },
    "language_info": {
      "mimetype": "text/x-python",
      "codemirror_mode": {
        "version": 3,
        "name": "ipython"
      },
      "version": "3.5.4",
      "file_extension": ".py",
      "nbconvert_exporter": "python",
      "pygments_lexer": "ipython3",
      "name": "python"
    }
  },
  "cells": [
    {
      "cell_type": "code",
      "outputs": [],
      "source": [
        "%matplotlib inline"
      ],
      "metadata": {
        "collapsed": false
      },
      "execution_count": null
    },
    {
      "cell_type": "markdown",
      "source": [
        "\n# Whats New 1 Subplot3d\n\n\n\n"
      ],
      "metadata": {}
    },
    {
      "cell_type": "code",
      "outputs": [],
      "source": [
        "from mpl_toolkits.mplot3d.axes3d import Axes3D\nfrom matplotlib import cm\n#from matplotlib.ticker import LinearLocator, FixedLocator, FormatStrFormatter\nimport matplotlib.pyplot as plt\nimport numpy as np\n\nfig = plt.figure()\n\nax = fig.add_subplot(1, 2, 1, projection='3d')\nX = np.arange(-5, 5, 0.25)\nY = np.arange(-5, 5, 0.25)\nX, Y = np.meshgrid(X, Y)\nR = np.sqrt(X**2 + Y**2)\nZ = np.sin(R)\nsurf = ax.plot_surface(X, Y, Z, rstride=1, cstride=1, cmap=cm.jet,\n        linewidth=0, antialiased=False)\nax.set_zlim3d(-1.01, 1.01)\n\n#ax.w_zaxis.set_major_locator(LinearLocator(10))\n#ax.w_zaxis.set_major_formatter(FormatStrFormatter('%.03f'))\n\nfig.colorbar(surf, shrink=0.5, aspect=5)\n\nfrom mpl_toolkits.mplot3d.axes3d import get_test_data\nax = fig.add_subplot(1, 2, 2, projection='3d')\nX, Y, Z = get_test_data(0.05)\nax.plot_wireframe(X, Y, Z, rstride=10, cstride=10)\n\nplt.show()"
      ],
      "metadata": {
        "collapsed": false
      },
      "execution_count": null
    }
  ],
  "nbformat": 4
}