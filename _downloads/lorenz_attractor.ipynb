{
  "nbformat_minor": 0,
  "metadata": {
    "kernelspec": {
      "language": "python",
      "name": "python3",
      "display_name": "Python 3"
    },
    "language_info": {
      "mimetype": "text/x-python",
      "codemirror_mode": {
        "version": 3,
        "name": "ipython"
      },
      "version": "3.5.4",
      "file_extension": ".py",
      "nbconvert_exporter": "python",
      "pygments_lexer": "ipython3",
      "name": "python"
    }
  },
  "cells": [
    {
      "cell_type": "code",
      "outputs": [],
      "source": [
        "%matplotlib inline"
      ],
      "metadata": {
        "collapsed": false
      },
      "execution_count": null
    },
    {
      "cell_type": "markdown",
      "source": [
        "\n# Lorenz Attractor\n\n\nThis is an example of plotting Edward Lorenz's 1963 `\"Deterministic\nNonperiodic Flow\"\n<http://journals.ametsoc.org/doi/abs/10.1175/1520-0469%281963%29020%3C0130%3ADNF%3E2.0.CO%3B2>`_\nin a 3-dimensional space using mplot3d.\n\nNote: Because this is a simple non-linear ODE, it would be more easily\n      done using SciPy's ode solver, but this approach depends only\n      upon NumPy.\n\n"
      ],
      "metadata": {}
    },
    {
      "cell_type": "code",
      "outputs": [],
      "source": [
        "import numpy as np\nimport matplotlib.pyplot as plt\nfrom mpl_toolkits.mplot3d import Axes3D\n\n\ndef lorenz(x, y, z, s=10, r=28, b=2.667):\n    '''\n    Given:\n       x, y, z: a point of interest in three dimensional space\n       s, r, b: parameters defining the lorenz attractor\n    Returns:\n       x_dot, y_dot, z_dot: values of the lorenz attractor's partial\n           derivatives at the point x, y, z\n    '''\n    x_dot = s*(y - x)\n    y_dot = r*x - y - x*z\n    z_dot = x*y - b*z\n    return x_dot, y_dot, z_dot\n\n\ndt = 0.01\nnum_steps = 10000\n\n# Need one more for the initial values\nxs = np.empty((num_steps + 1,))\nys = np.empty((num_steps + 1,))\nzs = np.empty((num_steps + 1,))\n\n# Set initial values\nxs[0], ys[0], zs[0] = (0., 1., 1.05)\n\n# Step through \"time\", calculating the partial derivatives at the current point\n# and using them to estimate the next point\nfor i in range(num_steps):\n    x_dot, y_dot, z_dot = lorenz(xs[i], ys[i], zs[i])\n    xs[i + 1] = xs[i] + (x_dot * dt)\n    ys[i + 1] = ys[i] + (y_dot * dt)\n    zs[i + 1] = zs[i] + (z_dot * dt)\n\n\n# Plot\nfig = plt.figure()\nax = fig.gca(projection='3d')\n\nax.plot(xs, ys, zs, lw=0.5)\nax.set_xlabel(\"X Axis\")\nax.set_ylabel(\"Y Axis\")\nax.set_zlabel(\"Z Axis\")\nax.set_title(\"Lorenz Attractor\")\n\nplt.show()"
      ],
      "metadata": {
        "collapsed": false
      },
      "execution_count": null
    }
  ],
  "nbformat": 4
}