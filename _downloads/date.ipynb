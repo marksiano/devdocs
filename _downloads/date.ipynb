{
  "nbformat_minor": 0,
  "metadata": {
    "kernelspec": {
      "language": "python",
      "name": "python3",
      "display_name": "Python 3"
    },
    "language_info": {
      "mimetype": "text/x-python",
      "codemirror_mode": {
        "version": 3,
        "name": "ipython"
      },
      "version": "3.5.4",
      "file_extension": ".py",
      "nbconvert_exporter": "python",
      "pygments_lexer": "ipython3",
      "name": "python"
    }
  },
  "cells": [
    {
      "cell_type": "code",
      "outputs": [],
      "source": [
        "%matplotlib inline"
      ],
      "metadata": {
        "collapsed": false
      },
      "execution_count": null
    },
    {
      "cell_type": "markdown",
      "source": [
        "\n# Date tick labels\n\n\nShow how to make date plots in matplotlib using date tick locators and\nformatters.  See major_minor_demo1.py for more information on\ncontrolling major and minor ticks\n\nAll matplotlib date plotting is done by converting date instances into days\nsince 0001-01-01 00:00:00 UTC plus one day (for historical reasons).  The\nconversion, tick locating and formatting is done behind the scenes so this\nis most transparent to you.  The dates module provides several converter\nfunctions `matplotlib.dates.date2num` and `matplotlib.dates.num2date`.\nThese can convert between `datetime.datetime` objects and\n:class:`numpy.datetime64` objects.\n\n"
      ],
      "metadata": {}
    },
    {
      "cell_type": "code",
      "outputs": [],
      "source": [
        "import datetime\nimport numpy as np\nimport matplotlib.pyplot as plt\nimport matplotlib.dates as mdates\nimport matplotlib.cbook as cbook\n\nyears = mdates.YearLocator()   # every year\nmonths = mdates.MonthLocator()  # every month\nyearsFmt = mdates.DateFormatter('%Y')\n\n# Load a numpy record array from yahoo csv data with fields date, open, close,\n# volume, adj_close from the mpl-data/example directory. The record array\n# stores the date as an np.datetime64 with a day unit ('D') in the date column.\nwith cbook.get_sample_data('goog.npz') as datafile:\n    r = np.load(datafile)['price_data'].view(np.recarray)\n\nfig, ax = plt.subplots()\nax.plot(r.date, r.adj_close)\n\n# format the ticks\nax.xaxis.set_major_locator(years)\nax.xaxis.set_major_formatter(yearsFmt)\nax.xaxis.set_minor_locator(months)\n\n# round to nearest years...\ndatemin = np.datetime64(r.date[0], 'Y')\ndatemax = np.datetime64(r.date[-1], 'Y') + np.timedelta64(1, 'Y')\nax.set_xlim(datemin, datemax)\n\n\n# format the coords message box\ndef price(x):\n    return '$%1.2f' % x\nax.format_xdata = mdates.DateFormatter('%Y-%m-%d')\nax.format_ydata = price\nax.grid(True)\n\n# rotates and right aligns the x labels, and moves the bottom of the\n# axes up to make room for them\nfig.autofmt_xdate()\n\nplt.show()"
      ],
      "metadata": {
        "collapsed": false
      },
      "execution_count": null
    }
  ],
  "nbformat": 4
}