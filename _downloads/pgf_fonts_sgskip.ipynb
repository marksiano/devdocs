{
  "nbformat_minor": 0,
  "metadata": {
    "kernelspec": {
      "language": "python",
      "name": "python3",
      "display_name": "Python 3"
    },
    "language_info": {
      "mimetype": "text/x-python",
      "codemirror_mode": {
        "version": 3,
        "name": "ipython"
      },
      "version": "3.5.4",
      "file_extension": ".py",
      "nbconvert_exporter": "python",
      "pygments_lexer": "ipython3",
      "name": "python"
    }
  },
  "cells": [
    {
      "cell_type": "code",
      "outputs": [],
      "source": [
        "%matplotlib inline"
      ],
      "metadata": {
        "collapsed": false
      },
      "execution_count": null
    },
    {
      "cell_type": "markdown",
      "source": [
        "\n# Pgf Fonts\n\n\n\n"
      ],
      "metadata": {}
    },
    {
      "cell_type": "code",
      "outputs": [],
      "source": [
        "# -*- coding: utf-8 -*-\n\nimport matplotlib as mpl\nmpl.use(\"pgf\")\npgf_with_rc_fonts = {\n    \"font.family\": \"serif\",\n    \"font.serif\": [],                    # use latex default serif font\n    \"font.sans-serif\": [\"DejaVu Sans\"],  # use a specific sans-serif font\n}\nmpl.rcParams.update(pgf_with_rc_fonts)\n\nimport matplotlib.pyplot as plt\nplt.figure(figsize=(4.5, 2.5))\nplt.plot(range(5))\nplt.text(0.5, 3., \"serif\")\nplt.text(0.5, 2., \"monospace\", family=\"monospace\")\nplt.text(2.5, 2., \"sans-serif\", family=\"sans-serif\")\nplt.text(2.5, 1., \"comic sans\", family=\"Comic Sans MS\")\nplt.xlabel(u\"\u00b5 is not $\\\\mu$\")\nplt.tight_layout(.5)\n\nplt.savefig(\"pgf_fonts.pdf\")\nplt.savefig(\"pgf_fonts.png\")"
      ],
      "metadata": {
        "collapsed": false
      },
      "execution_count": null
    }
  ],
  "nbformat": 4
}