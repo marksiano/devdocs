{
  "nbformat_minor": 0,
  "metadata": {
    "kernelspec": {
      "language": "python",
      "name": "python3",
      "display_name": "Python 3"
    },
    "language_info": {
      "mimetype": "text/x-python",
      "codemirror_mode": {
        "version": 3,
        "name": "ipython"
      },
      "version": "3.5.4",
      "file_extension": ".py",
      "nbconvert_exporter": "python",
      "pygments_lexer": "ipython3",
      "name": "python"
    }
  },
  "cells": [
    {
      "cell_type": "code",
      "outputs": [],
      "source": [
        "%matplotlib inline"
      ],
      "metadata": {
        "collapsed": false
      },
      "execution_count": null
    },
    {
      "cell_type": "markdown",
      "source": [
        "\n# Radian ticks\n\n\nPlot with radians from the basic_units mockup example package.\n\n\nThis example shows how the unit class can determine the tick locating,\nformatting and axis labeling.\n\n.. only:: builder_html\n\n   This example requires :download:`basic_units.py <basic_units.py>`\n\n"
      ],
      "metadata": {}
    },
    {
      "cell_type": "code",
      "outputs": [],
      "source": [
        "import numpy as np\nfrom basic_units import radians, degrees, cos\nfrom matplotlib.pyplot import figure, show\n\nx = [val*radians for val in np.arange(0, 15, 0.01)]\n\nfig = figure()\nfig.subplots_adjust(hspace=0.3)\n\nax = fig.add_subplot(211)\nline1, = ax.plot(x, cos(x), xunits=radians)\n\nax = fig.add_subplot(212)\nline2, = ax.plot(x, cos(x), xunits=degrees)\n\nshow()"
      ],
      "metadata": {
        "collapsed": false
      },
      "execution_count": null
    }
  ],
  "nbformat": 4
}