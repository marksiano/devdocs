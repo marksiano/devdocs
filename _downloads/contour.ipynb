{
  "nbformat_minor": 0,
  "metadata": {
    "kernelspec": {
      "language": "python",
      "name": "python3",
      "display_name": "Python 3"
    },
    "language_info": {
      "mimetype": "text/x-python",
      "codemirror_mode": {
        "version": 3,
        "name": "ipython"
      },
      "version": "3.5.4",
      "file_extension": ".py",
      "nbconvert_exporter": "python",
      "pygments_lexer": "ipython3",
      "name": "python"
    }
  },
  "cells": [
    {
      "cell_type": "code",
      "outputs": [],
      "source": [
        "%matplotlib inline"
      ],
      "metadata": {
        "collapsed": false
      },
      "execution_count": null
    },
    {
      "cell_type": "markdown",
      "source": [
        "\n# Frontpage contour example\n\n\nThis example reproduces the frontpage contour example.\n\n"
      ],
      "metadata": {}
    },
    {
      "cell_type": "code",
      "outputs": [],
      "source": [
        "import matplotlib.pyplot as plt\nimport numpy as np\nfrom matplotlib import mlab, cm\n\nextent = (-3, 3, -3, 3)\n\ndelta = 0.5\nx = np.arange(-3.0, 4.001, delta)\ny = np.arange(-4.0, 3.001, delta)\nX, Y = np.meshgrid(x, y)\nZ1 = mlab.bivariate_normal(X, Y, 1.0, 1.0, 0.0, -0.5)\nZ2 = mlab.bivariate_normal(X, Y, 1.5, 0.5, 1, 1)\nZ = (Z1 - Z2) * 10\n\nlevels = np.linspace(-2.0, 1.601, 40)\nnorm = cm.colors.Normalize(vmax=abs(Z).max(), vmin=-abs(Z).max())\n\nfig, ax = plt.subplots()\ncset1 = ax.contourf(\n    X, Y, Z, levels,\n    norm=norm)\nax.set_xlim(-3, 3)\nax.set_ylim(-3, 3)\nax.set_xticks([])\nax.set_yticks([])\nfig.savefig(\"contour_frontpage.png\", dpi=25)  # results in 160x120 px image"
      ],
      "metadata": {
        "collapsed": false
      },
      "execution_count": null
    }
  ],
  "nbformat": 4
}