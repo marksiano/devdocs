{
  "nbformat_minor": 0,
  "metadata": {
    "kernelspec": {
      "language": "python",
      "name": "python3",
      "display_name": "Python 3"
    },
    "language_info": {
      "mimetype": "text/x-python",
      "codemirror_mode": {
        "version": 3,
        "name": "ipython"
      },
      "version": "3.5.4",
      "file_extension": ".py",
      "nbconvert_exporter": "python",
      "pygments_lexer": "ipython3",
      "name": "python"
    }
  },
  "cells": [
    {
      "cell_type": "code",
      "outputs": [],
      "source": [
        "%matplotlib inline"
      ],
      "metadata": {
        "collapsed": false
      },
      "execution_count": null
    },
    {
      "cell_type": "markdown",
      "source": [
        "\n# Visualizing named colors\n\n\nSimple plot example with the named colors and its visual representation.\n\n"
      ],
      "metadata": {}
    },
    {
      "cell_type": "code",
      "outputs": [],
      "source": [
        "from __future__ import division\n\nimport matplotlib.pyplot as plt\nfrom matplotlib import colors as mcolors\n\n\ncolors = dict(mcolors.BASE_COLORS, **mcolors.CSS4_COLORS)\n\n# Sort colors by hue, saturation, value and name.\nby_hsv = sorted((tuple(mcolors.rgb_to_hsv(mcolors.to_rgba(color)[:3])), name)\n                for name, color in colors.items())\nsorted_names = [name for hsv, name in by_hsv]\n\nn = len(sorted_names)\nncols = 4\nnrows = n // ncols + 1\n\nfig, ax = plt.subplots(figsize=(8, 5))\n\n# Get height and width\nX, Y = fig.get_dpi() * fig.get_size_inches()\nh = Y / (nrows + 1)\nw = X / ncols\n\nfor i, name in enumerate(sorted_names):\n    col = i % ncols\n    row = i // ncols\n    y = Y - (row * h) - h\n\n    xi_line = w * (col + 0.05)\n    xf_line = w * (col + 0.25)\n    xi_text = w * (col + 0.3)\n\n    ax.text(xi_text, y, name, fontsize=(h * 0.8),\n            horizontalalignment='left',\n            verticalalignment='center')\n\n    ax.hlines(y + h * 0.1, xi_line, xf_line,\n              color=colors[name], linewidth=(h * 0.6))\n\nax.set_xlim(0, X)\nax.set_ylim(0, Y)\nax.set_axis_off()\n\nfig.subplots_adjust(left=0, right=1,\n                    top=1, bottom=0,\n                    hspace=0, wspace=0)\nplt.show()"
      ],
      "metadata": {
        "collapsed": false
      },
      "execution_count": null
    }
  ],
  "nbformat": 4
}