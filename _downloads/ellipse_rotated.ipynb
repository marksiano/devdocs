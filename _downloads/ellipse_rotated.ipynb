{
  "nbformat_minor": 0,
  "metadata": {
    "kernelspec": {
      "language": "python",
      "name": "python3",
      "display_name": "Python 3"
    },
    "language_info": {
      "mimetype": "text/x-python",
      "codemirror_mode": {
        "version": 3,
        "name": "ipython"
      },
      "version": "3.5.4",
      "file_extension": ".py",
      "nbconvert_exporter": "python",
      "pygments_lexer": "ipython3",
      "name": "python"
    }
  },
  "cells": [
    {
      "cell_type": "code",
      "outputs": [],
      "source": [
        "%matplotlib inline"
      ],
      "metadata": {
        "collapsed": false
      },
      "execution_count": null
    },
    {
      "cell_type": "markdown",
      "source": [
        "\n# Ellipse Rotated\n\n\n\n"
      ],
      "metadata": {}
    },
    {
      "cell_type": "code",
      "outputs": [],
      "source": [
        "import matplotlib.pyplot as plt\nimport numpy as np\nfrom matplotlib.patches import Ellipse\n\ndelta = 45.0  # degrees\n\nangles = np.arange(0, 360 + delta, delta)\nells = [Ellipse((1, 1), 4, 2, a) for a in angles]\n\na = plt.subplot(111, aspect='equal')\n\nfor e in ells:\n    e.set_clip_box(a.bbox)\n    e.set_alpha(0.1)\n    a.add_artist(e)\n\nplt.xlim(-2, 4)\nplt.ylim(-1, 3)\n\nplt.show()"
      ],
      "metadata": {
        "collapsed": false
      },
      "execution_count": null
    }
  ],
  "nbformat": 4
}