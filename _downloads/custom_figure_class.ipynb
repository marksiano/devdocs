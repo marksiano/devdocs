{
  "nbformat_minor": 0,
  "metadata": {
    "kernelspec": {
      "language": "python",
      "name": "python3",
      "display_name": "Python 3"
    },
    "language_info": {
      "mimetype": "text/x-python",
      "codemirror_mode": {
        "version": 3,
        "name": "ipython"
      },
      "version": "3.5.4",
      "file_extension": ".py",
      "nbconvert_exporter": "python",
      "pygments_lexer": "ipython3",
      "name": "python"
    }
  },
  "cells": [
    {
      "cell_type": "code",
      "outputs": [],
      "source": [
        "%matplotlib inline"
      ],
      "metadata": {
        "collapsed": false
      },
      "execution_count": null
    },
    {
      "cell_type": "markdown",
      "source": [
        "\n# Custom Figure Class\n\n\nYou can pass a custom Figure constructor to figure if you want to derive from\nthe default Figure.  This simple example creates a figure with a figure title.\n\n"
      ],
      "metadata": {}
    },
    {
      "cell_type": "code",
      "outputs": [],
      "source": [
        "from matplotlib.pyplot import figure, show\nfrom matplotlib.figure import Figure\n\n\nclass MyFigure(Figure):\n    def __init__(self, *args, **kwargs):\n        \"\"\"\n        custom kwarg figtitle is a figure title\n        \"\"\"\n        figtitle = kwargs.pop('figtitle', 'hi mom')\n        Figure.__init__(self, *args, **kwargs)\n        self.text(0.5, 0.95, figtitle, ha='center')\n\n\nfig = figure(FigureClass=MyFigure, figtitle='my title')\nax = fig.add_subplot(111)\nax.plot([1, 2, 3])\n\nshow()"
      ],
      "metadata": {
        "collapsed": false
      },
      "execution_count": null
    }
  ],
  "nbformat": 4
}