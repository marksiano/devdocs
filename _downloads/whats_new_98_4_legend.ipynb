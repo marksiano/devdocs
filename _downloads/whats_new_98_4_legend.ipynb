{
  "nbformat_minor": 0,
  "metadata": {
    "kernelspec": {
      "language": "python",
      "name": "python3",
      "display_name": "Python 3"
    },
    "language_info": {
      "mimetype": "text/x-python",
      "codemirror_mode": {
        "version": 3,
        "name": "ipython"
      },
      "version": "3.5.4",
      "file_extension": ".py",
      "nbconvert_exporter": "python",
      "pygments_lexer": "ipython3",
      "name": "python"
    }
  },
  "cells": [
    {
      "cell_type": "code",
      "outputs": [],
      "source": [
        "%matplotlib inline"
      ],
      "metadata": {
        "collapsed": false
      },
      "execution_count": null
    },
    {
      "cell_type": "markdown",
      "source": [
        "\n=======================\nWhats New 0.98.4 Legend\n=======================\n\n\n"
      ],
      "metadata": {}
    },
    {
      "cell_type": "code",
      "outputs": [],
      "source": [
        "import matplotlib.pyplot as plt\nimport numpy as np\n\n\nax = plt.subplot(111)\nt1 = np.arange(0.0, 1.0, 0.01)\nfor n in [1, 2, 3, 4]:\n    plt.plot(t1, t1**n, label=\"n=%d\"%(n,))\n\nleg = plt.legend(loc='best', ncol=2, mode=\"expand\", shadow=True, fancybox=True)\nleg.get_frame().set_alpha(0.5)\n\n\nplt.show()"
      ],
      "metadata": {
        "collapsed": false
      },
      "execution_count": null
    }
  ],
  "nbformat": 4
}