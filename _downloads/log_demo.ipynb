{
  "nbformat_minor": 0,
  "metadata": {
    "kernelspec": {
      "language": "python",
      "name": "python3",
      "display_name": "Python 3"
    },
    "language_info": {
      "mimetype": "text/x-python",
      "codemirror_mode": {
        "version": 3,
        "name": "ipython"
      },
      "version": "3.5.4",
      "file_extension": ".py",
      "nbconvert_exporter": "python",
      "pygments_lexer": "ipython3",
      "name": "python"
    }
  },
  "cells": [
    {
      "cell_type": "code",
      "outputs": [],
      "source": [
        "%matplotlib inline"
      ],
      "metadata": {
        "collapsed": false
      },
      "execution_count": null
    },
    {
      "cell_type": "markdown",
      "source": [
        "\n# Log Demo\n\n\nExamples of plots with logarithmic axes.\n\n"
      ],
      "metadata": {}
    },
    {
      "cell_type": "code",
      "outputs": [],
      "source": [
        "import numpy as np\nimport matplotlib.pyplot as plt\n\n# Data for plotting\nt = np.arange(0.01, 20.0, 0.01)\n\n# Create figure\nfig, ((ax1, ax2), (ax3, ax4)) = plt.subplots(2, 2)\n\n# log y axis\nax1.semilogy(t, np.exp(-t / 5.0))\nax1.set(title='semilogy')\nax1.grid()\n\n# log x axis\nax2.semilogx(t, np.sin(2 * np.pi * t))\nax2.set(title='semilogx')\nax2.grid()\n\n# log x and y axis\nax3.loglog(t, 20 * np.exp(-t / 10.0), basex=2)\nax3.set(title='loglog base 2 on x')\nax3.grid()\n\n# With errorbars: clip non-positive values\n# Use new data for plotting\nx = 10.0**np.linspace(0.0, 2.0, 20)\ny = x**2.0\n\nax4.set_xscale(\"log\", nonposx='clip')\nax4.set_yscale(\"log\", nonposy='clip')\nax4.set(title='Errorbars go negative')\nax4.errorbar(x, y, xerr=0.1 * x, yerr=5.0 + 0.75 * y)\n# ylim must be set after errorbar to allow errorbar to autoscale limits\nax4.set_ylim(ymin=0.1)\n\nfig.tight_layout()\nplt.show()"
      ],
      "metadata": {
        "collapsed": false
      },
      "execution_count": null
    }
  ],
  "nbformat": 4
}