{
  "nbformat_minor": 0,
  "metadata": {
    "kernelspec": {
      "language": "python",
      "name": "python3",
      "display_name": "Python 3"
    },
    "language_info": {
      "mimetype": "text/x-python",
      "codemirror_mode": {
        "version": 3,
        "name": "ipython"
      },
      "version": "3.5.4",
      "file_extension": ".py",
      "nbconvert_exporter": "python",
      "pygments_lexer": "ipython3",
      "name": "python"
    }
  },
  "cells": [
    {
      "cell_type": "code",
      "outputs": [],
      "source": [
        "%matplotlib inline"
      ],
      "metadata": {
        "collapsed": false
      },
      "execution_count": null
    },
    {
      "cell_type": "markdown",
      "source": [
        "\n# Agg Buffer To Array\n\n\nConvert a rendered figure to its image (NumPy array) representation.\n\n"
      ],
      "metadata": {}
    },
    {
      "cell_type": "code",
      "outputs": [],
      "source": [
        "import matplotlib.pyplot as plt\nimport numpy as np\n\n# make an agg figure\nfig, ax = plt.subplots()\nax.plot([1, 2, 3])\nax.set_title('a simple figure')\nfig.canvas.draw()\n\n# grab the pixel buffer and dump it into a numpy array\nX = np.array(fig.canvas.renderer._renderer)\n\n# now display the array X as an Axes in a new figure\nfig2 = plt.figure()\nax2 = fig2.add_subplot(111, frameon=False)\nax2.imshow(X)\nplt.show()"
      ],
      "metadata": {
        "collapsed": false
      },
      "execution_count": null
    }
  ],
  "nbformat": 4
}