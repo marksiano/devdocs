{
  "nbformat_minor": 0,
  "metadata": {
    "kernelspec": {
      "language": "python",
      "name": "python3",
      "display_name": "Python 3"
    },
    "language_info": {
      "mimetype": "text/x-python",
      "codemirror_mode": {
        "version": 3,
        "name": "ipython"
      },
      "version": "3.5.4",
      "file_extension": ".py",
      "nbconvert_exporter": "python",
      "pygments_lexer": "ipython3",
      "name": "python"
    }
  },
  "cells": [
    {
      "cell_type": "code",
      "outputs": [],
      "source": [
        "%matplotlib inline"
      ],
      "metadata": {
        "collapsed": false
      },
      "execution_count": null
    },
    {
      "cell_type": "markdown",
      "source": [
        "\n# Step Demo\n\n\nExample step plots.\n\n"
      ],
      "metadata": {}
    },
    {
      "cell_type": "code",
      "outputs": [],
      "source": [
        "import numpy as np\nfrom numpy import ma\nimport matplotlib.pyplot as plt\n\nx = np.arange(1, 7, 0.4)\ny0 = np.sin(x)\ny = y0.copy() + 2.5\n\nplt.step(x, y, label='pre (default)')\n\ny -= 0.5\nplt.step(x, y, where='mid', label='mid')\n\ny -= 0.5\nplt.step(x, y, where='post', label='post')\n\ny = ma.masked_where((y0 > -0.15) & (y0 < 0.15), y - 0.5)\nplt.step(x, y, label='masked (pre)')\n\nplt.legend()\n\nplt.xlim(0, 7)\nplt.ylim(-0.5, 4)\n\nplt.show()"
      ],
      "metadata": {
        "collapsed": false
      },
      "execution_count": null
    }
  ],
  "nbformat": 4
}