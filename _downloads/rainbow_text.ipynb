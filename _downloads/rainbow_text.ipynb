{
  "nbformat_minor": 0,
  "metadata": {
    "kernelspec": {
      "language": "python",
      "name": "python3",
      "display_name": "Python 3"
    },
    "language_info": {
      "mimetype": "text/x-python",
      "codemirror_mode": {
        "version": 3,
        "name": "ipython"
      },
      "version": "3.5.4",
      "file_extension": ".py",
      "nbconvert_exporter": "python",
      "pygments_lexer": "ipython3",
      "name": "python"
    }
  },
  "cells": [
    {
      "cell_type": "code",
      "outputs": [],
      "source": [
        "%matplotlib inline"
      ],
      "metadata": {
        "collapsed": false
      },
      "execution_count": null
    },
    {
      "cell_type": "markdown",
      "source": [
        "\n# Rainbow text\n\n\nThe example shows how to string together several text objects.\n\nHISTORY\n-------\nOn the matplotlib-users list back in February 2012, G\u00f6khan Sever asked the\nfollowing question:\n\n    Is there a way in matplotlib to partially specify the color of a string?\n\n    Example:\n\n    plt.ylabel(\"Today is cloudy.\")\n    How can I show \"today\" as red, \"is\" as green and \"cloudy.\" as blue?\n\n    Thanks.\n\nPaul Ivanov responded with this answer:\n\n\n"
      ],
      "metadata": {}
    },
    {
      "cell_type": "code",
      "outputs": [],
      "source": [
        "import matplotlib.pyplot as plt\nfrom matplotlib import transforms\n\n\ndef rainbow_text(x, y, strings, colors, ax=None, **kw):\n    \"\"\"\n    Take a list of ``strings`` and ``colors`` and place them next to each\n    other, with text strings[i] being shown in colors[i].\n\n    This example shows how to do both vertical and horizontal text, and will\n    pass all keyword arguments to plt.text, so you can set the font size,\n    family, etc.\n\n    The text will get added to the ``ax`` axes, if provided, otherwise the\n    currently active axes will be used.\n    \"\"\"\n    if ax is None:\n        ax = plt.gca()\n    t = ax.transData\n    canvas = ax.figure.canvas\n\n    # horizontal version\n    for s, c in zip(strings, colors):\n        text = ax.text(x, y, s + \" \", color=c, transform=t, **kw)\n        text.draw(canvas.get_renderer())\n        ex = text.get_window_extent()\n        t = transforms.offset_copy(text._transform, x=ex.width, units='dots')\n\n    # vertical version\n    for s, c in zip(strings, colors):\n        text = ax.text(x, y, s + \" \", color=c, transform=t,\n                       rotation=90, va='bottom', ha='center', **kw)\n        text.draw(canvas.get_renderer())\n        ex = text.get_window_extent()\n        t = transforms.offset_copy(text._transform, y=ex.height, units='dots')\n\n\nrainbow_text(0, 0, \"all unicorns poop rainbows ! ! !\".split(),\n             ['red', 'cyan', 'brown', 'green', 'blue', 'purple', 'black'],\n             size=16)\n\nplt.show()"
      ],
      "metadata": {
        "collapsed": false
      },
      "execution_count": null
    }
  ],
  "nbformat": 4
}