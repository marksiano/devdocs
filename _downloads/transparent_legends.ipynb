{
  "nbformat_minor": 0,
  "metadata": {
    "kernelspec": {
      "language": "python",
      "name": "python3",
      "display_name": "Python 3"
    },
    "language_info": {
      "mimetype": "text/x-python",
      "codemirror_mode": {
        "version": 3,
        "name": "ipython"
      },
      "version": "3.5.4",
      "file_extension": ".py",
      "nbconvert_exporter": "python",
      "pygments_lexer": "ipython3",
      "name": "python"
    }
  },
  "cells": [
    {
      "cell_type": "code",
      "outputs": [],
      "source": [
        "%matplotlib inline"
      ],
      "metadata": {
        "collapsed": false
      },
      "execution_count": null
    },
    {
      "cell_type": "markdown",
      "source": [
        "\nTransparent, fancy legends\n==========================\n\nSometimes you know what your data looks like before you plot it, and\nmay know for instance that there won't be much data in the upper right\nhand corner.  Then you can safely create a legend that doesn't overlay\nyour data:\n\n  ax.legend(loc='upper right')\n\nOther times you don't know where your data is, and loc='best' will try\nand place the legend::\n\n  ax.legend(loc='best')\n\nbut still, your legend may overlap your data, and in these cases it's\nnice to make the legend frame transparent.\n\n"
      ],
      "metadata": {}
    },
    {
      "cell_type": "code",
      "outputs": [],
      "source": [
        "import matplotlib.pyplot as plt\nimport numpy as np\n\nnp.random.seed(1234)\nfig, ax = plt.subplots(1)\nax.plot(np.random.randn(300), 'o-', label='normal distribution')\nax.plot(np.random.rand(300), 's-', label='uniform distribution')\nax.set_ylim(-3, 3)\n\nax.legend(loc='best', fancybox=True, framealpha=0.5)\nax.set_title('fancy, transparent legends')"
      ],
      "metadata": {
        "collapsed": false
      },
      "execution_count": null
    }
  ],
  "nbformat": 4
}