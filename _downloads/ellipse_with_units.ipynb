{
  "nbformat_minor": 0,
  "metadata": {
    "kernelspec": {
      "language": "python",
      "name": "python3",
      "display_name": "Python 3"
    },
    "language_info": {
      "mimetype": "text/x-python",
      "codemirror_mode": {
        "version": 3,
        "name": "ipython"
      },
      "version": "3.5.4",
      "file_extension": ".py",
      "nbconvert_exporter": "python",
      "pygments_lexer": "ipython3",
      "name": "python"
    }
  },
  "cells": [
    {
      "cell_type": "code",
      "outputs": [],
      "source": [
        "%matplotlib inline"
      ],
      "metadata": {
        "collapsed": false
      },
      "execution_count": null
    },
    {
      "cell_type": "markdown",
      "source": [
        "\n# Ellipse With Units\n\n\nCompare the ellipse generated with arcs versus a polygonal approximation\n\n.. only:: builder_html\n\n   This example requires :download:`basic_units.py <basic_units.py>`\n\n"
      ],
      "metadata": {}
    },
    {
      "cell_type": "code",
      "outputs": [],
      "source": [
        "from basic_units import cm\nimport numpy as np\nfrom matplotlib import patches\nimport matplotlib.pyplot as plt\n\n\nxcenter, ycenter = 0.38*cm, 0.52*cm\nwidth, height = 1e-1*cm, 3e-1*cm\nangle = -30\n\ntheta = np.deg2rad(np.arange(0.0, 360.0, 1.0))\nx = 0.5 * width * np.cos(theta)\ny = 0.5 * height * np.sin(theta)\n\nrtheta = np.radians(angle)\nR = np.array([\n    [np.cos(rtheta), -np.sin(rtheta)],\n    [np.sin(rtheta),  np.cos(rtheta)],\n    ])\n\n\nx, y = np.dot(R, np.array([x, y]))\nx += xcenter\ny += ycenter"
      ],
      "metadata": {
        "collapsed": false
      },
      "execution_count": null
    },
    {
      "cell_type": "code",
      "outputs": [],
      "source": [
        "fig = plt.figure()\nax = fig.add_subplot(211, aspect='auto')\nax.fill(x, y, alpha=0.2, facecolor='yellow',\n        edgecolor='yellow', linewidth=1, zorder=1)\n\ne1 = patches.Ellipse((xcenter, ycenter), width, height,\n                     angle=angle, linewidth=2, fill=False, zorder=2)\n\nax.add_patch(e1)\n\nax = fig.add_subplot(212, aspect='equal')\nax.fill(x, y, alpha=0.2, facecolor='green', edgecolor='green', zorder=1)\ne2 = patches.Ellipse((xcenter, ycenter), width, height,\n                     angle=angle, linewidth=2, fill=False, zorder=2)\n\n\nax.add_patch(e2)\nfig.savefig('ellipse_compare')"
      ],
      "metadata": {
        "collapsed": false
      },
      "execution_count": null
    },
    {
      "cell_type": "code",
      "outputs": [],
      "source": [
        "fig = plt.figure()\nax = fig.add_subplot(211, aspect='auto')\nax.fill(x, y, alpha=0.2, facecolor='yellow',\n        edgecolor='yellow', linewidth=1, zorder=1)\n\ne1 = patches.Arc((xcenter, ycenter), width, height,\n                 angle=angle, linewidth=2, fill=False, zorder=2)\n\nax.add_patch(e1)\n\nax = fig.add_subplot(212, aspect='equal')\nax.fill(x, y, alpha=0.2, facecolor='green', edgecolor='green', zorder=1)\ne2 = patches.Arc((xcenter, ycenter), width, height,\n                 angle=angle, linewidth=2, fill=False, zorder=2)\n\n\nax.add_patch(e2)\nfig.savefig('arc_compare')\n\nplt.show()"
      ],
      "metadata": {
        "collapsed": false
      },
      "execution_count": null
    }
  ],
  "nbformat": 4
}