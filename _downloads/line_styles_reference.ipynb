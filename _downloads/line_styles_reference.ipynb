{
  "nbformat_minor": 0,
  "metadata": {
    "kernelspec": {
      "language": "python",
      "name": "python3",
      "display_name": "Python 3"
    },
    "language_info": {
      "mimetype": "text/x-python",
      "codemirror_mode": {
        "version": 3,
        "name": "ipython"
      },
      "version": "3.5.4",
      "file_extension": ".py",
      "nbconvert_exporter": "python",
      "pygments_lexer": "ipython3",
      "name": "python"
    }
  },
  "cells": [
    {
      "cell_type": "code",
      "outputs": [],
      "source": [
        "%matplotlib inline"
      ],
      "metadata": {
        "collapsed": false
      },
      "execution_count": null
    },
    {
      "cell_type": "markdown",
      "source": [
        "\n# Line-style reference\n\n\nReference for line-styles included with Matplotlib.\n\n"
      ],
      "metadata": {}
    },
    {
      "cell_type": "code",
      "outputs": [],
      "source": [
        "import numpy as np\nimport matplotlib.pyplot as plt\n\n\ncolor = 'cornflowerblue'\npoints = np.ones(5)  # Draw 5 points for each line\ntext_style = dict(horizontalalignment='right', verticalalignment='center',\n                  fontsize=12, fontdict={'family': 'monospace'})\n\n\ndef format_axes(ax):\n    ax.margins(0.2)\n    ax.set_axis_off()\n\n\ndef nice_repr(text):\n    return repr(text).lstrip('u')\n\n\n# Plot all line styles.\nfig, ax = plt.subplots()\n\nlinestyles = ['-', '--', '-.', ':']\nfor y, linestyle in enumerate(linestyles):\n    ax.text(-0.1, y, nice_repr(linestyle), **text_style)\n    ax.plot(y * points, linestyle=linestyle, color=color, linewidth=3)\n    format_axes(ax)\n    ax.set_title('line styles')\n\nplt.show()"
      ],
      "metadata": {
        "collapsed": false
      },
      "execution_count": null
    }
  ],
  "nbformat": 4
}