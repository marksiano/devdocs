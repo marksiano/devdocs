{
  "nbformat_minor": 0,
  "metadata": {
    "kernelspec": {
      "language": "python",
      "name": "python3",
      "display_name": "Python 3"
    },
    "language_info": {
      "mimetype": "text/x-python",
      "codemirror_mode": {
        "version": 3,
        "name": "ipython"
      },
      "version": "3.5.4",
      "file_extension": ".py",
      "nbconvert_exporter": "python",
      "pygments_lexer": "ipython3",
      "name": "python"
    }
  },
  "cells": [
    {
      "cell_type": "code",
      "outputs": [],
      "source": [
        "%matplotlib inline"
      ],
      "metadata": {
        "collapsed": false
      },
      "execution_count": null
    },
    {
      "cell_type": "markdown",
      "source": [
        "\n# Textbox\n\n\nAllowing text input with the Textbox widget.\n\nYou can use the Textbox widget to let users provide any text that needs to be\ndisplayed, including formulas. You can use a submit button to create plots\nwith the given input.\n\n"
      ],
      "metadata": {}
    },
    {
      "cell_type": "code",
      "outputs": [],
      "source": [
        "import numpy as np\nimport matplotlib.pyplot as plt\nfrom matplotlib.widgets import TextBox\nfig, ax = plt.subplots()\nplt.subplots_adjust(bottom=0.2)\nt = np.arange(-2.0, 2.0, 0.001)\ns = t ** 2\ninitial_text = \"t ** 2\"\nl, = plt.plot(t, s, lw=2)\n\n\ndef submit(text):\n    ydata = eval(text)\n    l.set_ydata(ydata)\n    ax.set_ylim(np.min(ydata), np.max(ydata))\n    plt.draw()\n\naxbox = plt.axes([0.1, 0.05, 0.8, 0.075])\ntext_box = TextBox(axbox, 'Evaluate', initial=initial_text)\ntext_box.on_submit(submit)\n\nplt.show()"
      ],
      "metadata": {
        "collapsed": false
      },
      "execution_count": null
    }
  ],
  "nbformat": 4
}