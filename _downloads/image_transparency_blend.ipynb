{
  "nbformat_minor": 0,
  "metadata": {
    "kernelspec": {
      "language": "python",
      "name": "python3",
      "display_name": "Python 3"
    },
    "language_info": {
      "mimetype": "text/x-python",
      "codemirror_mode": {
        "version": 3,
        "name": "ipython"
      },
      "version": "3.5.4",
      "file_extension": ".py",
      "nbconvert_exporter": "python",
      "pygments_lexer": "ipython3",
      "name": "python"
    }
  },
  "cells": [
    {
      "cell_type": "code",
      "outputs": [],
      "source": [
        "%matplotlib inline"
      ],
      "metadata": {
        "collapsed": false
      },
      "execution_count": null
    },
    {
      "cell_type": "markdown",
      "source": [
        "\n# Blend transparency with color in 2-D images\n\n\nBlend transparency with color to highlight parts of data with imshow.\n\nA common use for :func:`matplotlib.pyplot.imshow` is to plot a 2-D statistical\nmap. While ``imshow`` makes it easy to visualize a 2-D matrix as an image,\nit doesn't easily let you add transparency to the output. For example, one can\nplot a statistic (such as a t-statistic) and color the transparency of\neach pixel according to its p-value. This example demonstrates how you can\nachieve this effect using :class:`matplotlib.colors.Normalize`. Note that it is\nnot possible to directly pass alpha values to :func:`matplotlib.pyplot.imshow`.\n\nFirst we will generate some data, in this case, we'll create two 2-D \"blobs\"\nin a 2-D grid. One blob will be positive, and the other negative.\n\n"
      ],
      "metadata": {}
    },
    {
      "cell_type": "code",
      "outputs": [],
      "source": [
        "# sphinx_gallery_thumbnail_number = 3\nimport numpy as np\nimport matplotlib.pyplot as plt\nfrom matplotlib.colors import Normalize\n\n\ndef normal_pdf(x, mean, var):\n    return np.exp(-(x - mean)**2 / (2*var))\n\n\n# Generate the space in which the blobs will live\nxmin, xmax, ymin, ymax = (0, 100, 0, 100)\nn_bins = 100\nxx = np.linspace(xmin, xmax, n_bins)\nyy = np.linspace(ymin, ymax, n_bins)\n\n# Generate the blobs. The range of the values is roughly -.0002 to .0002\nmeans_high = [20, 50]\nmeans_low = [50, 60]\nvar = [150, 200]\n\ngauss_x_high = normal_pdf(xx, means_high[0], var[0])\ngauss_y_high = normal_pdf(yy, means_high[1], var[0])\n\ngauss_x_low = normal_pdf(xx, means_low[0], var[1])\ngauss_y_low = normal_pdf(yy, means_low[1], var[1])\n\nweights_high = np.array(np.meshgrid(gauss_x_high, gauss_y_high)).prod(0)\nweights_low = -1 * np.array(np.meshgrid(gauss_x_low, gauss_y_low)).prod(0)\nweights = weights_high + weights_low\n\n# We'll also create a grey background into which the pixels will fade\ngreys = np.ones(weights.shape + (3,)) * 70\n\n# First we'll plot these blobs using only ``imshow``.\nvmax = np.abs(weights).max()\nvmin = -vmax\ncmap = plt.cm.RdYlBu\n\nfig, ax = plt.subplots()\nax.imshow(greys)\nax.imshow(weights, extent=(xmin, xmax, ymin, ymax), cmap=cmap)\nax.set_axis_off()"
      ],
      "metadata": {
        "collapsed": false
      },
      "execution_count": null
    },
    {
      "cell_type": "markdown",
      "source": [
        "Blending in transparency\n========================\n\nThe simplest way to include transparency when plotting data with\n:func:`matplotlib.pyplot.imshow` is to convert the 2-D data array to a\n3-D image array of rgba values. This can be done with\n:class:`matplotlib.colors.Normalize`. For example, we'll create a gradient\nmoving from left to right below.\n\n"
      ],
      "metadata": {}
    },
    {
      "cell_type": "code",
      "outputs": [],
      "source": [
        "# Create an alpha channel of linearly increasing values moving to the right.\nalphas = np.ones(weights.shape)\nalphas[:, 30:] = np.linspace(1, 0, 70)\n\n# Normalize the colors b/w 0 and 1, we'll then pass an MxNx4 array to imshow\ncolors = Normalize(vmin, vmax, clip=True)(weights)\ncolors = cmap(colors)\n\n# Now set the alpha channel to the one we created above\ncolors[..., -1] = alphas\n\n# Create the figure and image\n# Note that the absolute values may be slightly different\nfig, ax = plt.subplots()\nax.imshow(greys)\nax.imshow(colors, extent=(xmin, xmax, ymin, ymax))\nax.set_axis_off()"
      ],
      "metadata": {
        "collapsed": false
      },
      "execution_count": null
    },
    {
      "cell_type": "markdown",
      "source": [
        "Using transparency to highlight values with high amplitude\n==========================================================\n\nFinally, we'll recreate the same plot, but this time we'll use transparency\nto highlight the extreme values in the data. This is often used to highlight\ndata points with smaller p-values. We'll also add in contour lines to\nhighlight the image values.\n\n"
      ],
      "metadata": {}
    },
    {
      "cell_type": "code",
      "outputs": [],
      "source": [
        "# Create an alpha channel based on weight values\n# Any value whose absolute value is > .0001 will have zero transparency\nalphas = Normalize(0, .3, clip=True)(np.abs(weights))\nalphas = np.clip(alphas, .4, 1)  # alpha value clipped at the bottom at .4\n\n# Normalize the colors b/w 0 and 1, we'll then pass an MxNx4 array to imshow\ncolors = Normalize(vmin, vmax)(weights)\ncolors = cmap(colors)\n\n# Now set the alpha channel to the one we created above\ncolors[..., -1] = alphas\n\n# Create the figure and image\n# Note that the absolute values may be slightly different\nfig, ax = plt.subplots()\nax.imshow(greys)\nax.imshow(colors, extent=(xmin, xmax, ymin, ymax))\n\n# Add contour lines to further highlight different levels.\nax.contour(weights[::-1], levels=[-.1, .1], colors='k', linestyles='-')\nax.set_axis_off()\nplt.show()\n\nax.contour(weights[::-1], levels=[-.0001, .0001], colors='k', linestyles='-')\nax.set_axis_off()\nplt.show()"
      ],
      "metadata": {
        "collapsed": false
      },
      "execution_count": null
    }
  ],
  "nbformat": 4
}