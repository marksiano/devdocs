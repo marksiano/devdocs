{
  "nbformat_minor": 0,
  "metadata": {
    "kernelspec": {
      "language": "python",
      "name": "python3",
      "display_name": "Python 3"
    },
    "language_info": {
      "mimetype": "text/x-python",
      "codemirror_mode": {
        "version": 3,
        "name": "ipython"
      },
      "version": "3.5.4",
      "file_extension": ".py",
      "nbconvert_exporter": "python",
      "pygments_lexer": "ipython3",
      "name": "python"
    }
  },
  "cells": [
    {
      "cell_type": "code",
      "outputs": [],
      "source": [
        "%matplotlib inline"
      ],
      "metadata": {
        "collapsed": false
      },
      "execution_count": null
    },
    {
      "cell_type": "markdown",
      "source": [
        "\n# Simple Axes Divider 1\n\n\n\n"
      ],
      "metadata": {}
    },
    {
      "cell_type": "code",
      "outputs": [],
      "source": [
        "from mpl_toolkits.axes_grid1 import Size, Divider\nimport matplotlib.pyplot as plt\n\n\nfig1 = plt.figure(1, (6, 6))\n\n# fixed size in inch\nhoriz = [Size.Fixed(1.), Size.Fixed(.5), Size.Fixed(1.5),\n         Size.Fixed(.5)]\nvert = [Size.Fixed(1.5), Size.Fixed(.5), Size.Fixed(1.)]\n\nrect = (0.1, 0.1, 0.8, 0.8)\n# divide the axes rectangle into grid whose size is specified by horiz * vert\ndivider = Divider(fig1, rect, horiz, vert, aspect=False)\n\n# the rect parameter will be ignore as we will set axes_locator\nax1 = fig1.add_axes(rect, label=\"1\")\nax2 = fig1.add_axes(rect, label=\"2\")\nax3 = fig1.add_axes(rect, label=\"3\")\nax4 = fig1.add_axes(rect, label=\"4\")\n\nax1.set_axes_locator(divider.new_locator(nx=0, ny=0))\nax2.set_axes_locator(divider.new_locator(nx=0, ny=2))\nax3.set_axes_locator(divider.new_locator(nx=2, ny=2))\nax4.set_axes_locator(divider.new_locator(nx=2, nx1=4, ny=0))\n\nplt.show()"
      ],
      "metadata": {
        "collapsed": false
      },
      "execution_count": null
    }
  ],
  "nbformat": 4
}