{
  "nbformat_minor": 0,
  "metadata": {
    "kernelspec": {
      "language": "python",
      "name": "python3",
      "display_name": "Python 3"
    },
    "language_info": {
      "mimetype": "text/x-python",
      "codemirror_mode": {
        "version": 3,
        "name": "ipython"
      },
      "version": "3.5.4",
      "file_extension": ".py",
      "nbconvert_exporter": "python",
      "pygments_lexer": "ipython3",
      "name": "python"
    }
  },
  "cells": [
    {
      "cell_type": "code",
      "outputs": [],
      "source": [
        "%matplotlib inline"
      ],
      "metadata": {
        "collapsed": false
      },
      "execution_count": null
    },
    {
      "cell_type": "markdown",
      "source": [
        "\n# Simple Axisline2\n\n\n\n"
      ],
      "metadata": {}
    },
    {
      "cell_type": "code",
      "outputs": [],
      "source": [
        "import matplotlib.pyplot as plt\nfrom mpl_toolkits.axisartist.axislines import SubplotZero\nimport numpy as np\n\nfig = plt.figure(1, (4, 3))\n\n# a subplot with two additional axis, \"xzero\" and \"yzero\". \"xzero\" is\n# y=0 line, and \"yzero\" is x=0 line.\nax = SubplotZero(fig, 1, 1, 1)\nfig.add_subplot(ax)\n\n# make xzero axis (horizontal axis line through y=0) visible.\nax.axis[\"xzero\"].set_visible(True)\nax.axis[\"xzero\"].label.set_text(\"Axis Zero\")\n\n# make other axis (bottom, top, right) invisible.\nfor n in [\"bottom\", \"top\", \"right\"]:\n    ax.axis[n].set_visible(False)\n\nxx = np.arange(0, 2*np.pi, 0.01)\nax.plot(xx, np.sin(xx))\n\nplt.show()"
      ],
      "metadata": {
        "collapsed": false
      },
      "execution_count": null
    }
  ],
  "nbformat": 4
}