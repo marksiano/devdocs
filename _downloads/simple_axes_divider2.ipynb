{
  "nbformat_minor": 0,
  "metadata": {
    "kernelspec": {
      "language": "python",
      "name": "python3",
      "display_name": "Python 3"
    },
    "language_info": {
      "mimetype": "text/x-python",
      "codemirror_mode": {
        "version": 3,
        "name": "ipython"
      },
      "version": "3.5.4",
      "file_extension": ".py",
      "nbconvert_exporter": "python",
      "pygments_lexer": "ipython3",
      "name": "python"
    }
  },
  "cells": [
    {
      "cell_type": "code",
      "outputs": [],
      "source": [
        "%matplotlib inline"
      ],
      "metadata": {
        "collapsed": false
      },
      "execution_count": null
    },
    {
      "cell_type": "markdown",
      "source": [
        "\n# Simple Axes Divider 2\n\n\n\n"
      ],
      "metadata": {}
    },
    {
      "cell_type": "code",
      "outputs": [],
      "source": [
        "import mpl_toolkits.axes_grid1.axes_size as Size\nfrom mpl_toolkits.axes_grid1 import Divider\nimport matplotlib.pyplot as plt\n\nfig1 = plt.figure(1, (5.5, 4.))\n\n# the rect parameter will be ignore as we will set axes_locator\nrect = (0.1, 0.1, 0.8, 0.8)\nax = [fig1.add_axes(rect, label=\"%d\" % i) for i in range(4)]\n\nhoriz = [Size.Scaled(1.5), Size.Fixed(.5), Size.Scaled(1.),\n         Size.Scaled(.5)]\n\nvert = [Size.Scaled(1.), Size.Fixed(.5), Size.Scaled(1.5)]\n\n# divide the axes rectangle into grid whose size is specified by horiz * vert\ndivider = Divider(fig1, rect, horiz, vert, aspect=False)\n\nax[0].set_axes_locator(divider.new_locator(nx=0, ny=0))\nax[1].set_axes_locator(divider.new_locator(nx=0, ny=2))\nax[2].set_axes_locator(divider.new_locator(nx=2, ny=2))\nax[3].set_axes_locator(divider.new_locator(nx=2, nx1=4, ny=0))\n\nfor ax1 in ax:\n    ax1.tick_params(labelbottom=False, labelleft=False)\n\nplt.show()"
      ],
      "metadata": {
        "collapsed": false
      },
      "execution_count": null
    }
  ],
  "nbformat": 4
}