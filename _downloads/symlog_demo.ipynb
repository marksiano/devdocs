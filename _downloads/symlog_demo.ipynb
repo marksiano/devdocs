{
  "nbformat_minor": 0,
  "metadata": {
    "kernelspec": {
      "language": "python",
      "name": "python3",
      "display_name": "Python 3"
    },
    "language_info": {
      "mimetype": "text/x-python",
      "codemirror_mode": {
        "version": 3,
        "name": "ipython"
      },
      "version": "3.5.4",
      "file_extension": ".py",
      "nbconvert_exporter": "python",
      "pygments_lexer": "ipython3",
      "name": "python"
    }
  },
  "cells": [
    {
      "cell_type": "code",
      "outputs": [],
      "source": [
        "%matplotlib inline"
      ],
      "metadata": {
        "collapsed": false
      },
      "execution_count": null
    },
    {
      "cell_type": "markdown",
      "source": [
        "\n# Symlog Demo\n\n\nExample use of symlog (symmetric log) axis scaling.\n\n"
      ],
      "metadata": {}
    },
    {
      "cell_type": "code",
      "outputs": [],
      "source": [
        "import matplotlib.pyplot as plt\nimport numpy as np\n\ndt = 0.01\nx = np.arange(-50.0, 50.0, dt)\ny = np.arange(0, 100.0, dt)\n\nplt.subplot(311)\nplt.plot(x, y)\nplt.xscale('symlog')\nplt.ylabel('symlogx')\nplt.grid(True)\nplt.gca().xaxis.grid(True, which='minor')  # minor grid on too\n\nplt.subplot(312)\nplt.plot(y, x)\nplt.yscale('symlog')\nplt.ylabel('symlogy')\n\nplt.subplot(313)\nplt.plot(x, np.sin(x / 3.0))\nplt.xscale('symlog')\nplt.yscale('symlog', linthreshy=0.015)\nplt.grid(True)\nplt.ylabel('symlog both')\n\nplt.tight_layout()\nplt.show()"
      ],
      "metadata": {
        "collapsed": false
      },
      "execution_count": null
    }
  ],
  "nbformat": 4
}