{
  "nbformat_minor": 0,
  "metadata": {
    "kernelspec": {
      "language": "python",
      "name": "python3",
      "display_name": "Python 3"
    },
    "language_info": {
      "mimetype": "text/x-python",
      "codemirror_mode": {
        "version": 3,
        "name": "ipython"
      },
      "version": "3.5.4",
      "file_extension": ".py",
      "nbconvert_exporter": "python",
      "pygments_lexer": "ipython3",
      "name": "python"
    }
  },
  "cells": [
    {
      "cell_type": "code",
      "outputs": [],
      "source": [
        "%matplotlib inline"
      ],
      "metadata": {
        "collapsed": false
      },
      "execution_count": null
    },
    {
      "cell_type": "markdown",
      "source": [
        "\n# Using accented text in matplotlib\n\n\nMatplotlib supports accented characters via TeX mathtext or unicode.\n\nUsing mathtext, the following accents are provided: \\hat, \\breve, \\grave, \\bar,\n\\acute, \\tilde, \\vec, \\dot, \\ddot.  All of them have the same syntax,\ne.g., to make an overbar you do \\bar{o} or to make an o umlaut you do\n\\ddot{o}.  The shortcuts are also provided, e.g.,: \\\"o \\'e \\`e \\~n \\.x\n\\^y\n\n\n"
      ],
      "metadata": {}
    },
    {
      "cell_type": "code",
      "outputs": [],
      "source": [
        "from __future__ import unicode_literals\nimport matplotlib.pyplot as plt\n\n# Mathtext demo\nfig, ax = plt.subplots()\nax.plot(range(10))\nax.set_title(r'$\\ddot{o}\\acute{e}\\grave{e}\\hat{O}'\n             r'\\breve{i}\\bar{A}\\tilde{n}\\vec{q}$', fontsize=20)\n\n# Shorthand is also supported and curly braces are optional\nax.set_xlabel(r\"\"\"$\\\"o\\ddot o \\'e\\`e\\~n\\.x\\^y$\"\"\", fontsize=20)\nax.text(4, 0.5, r\"$F=m\\ddot{x}$\")\nfig.tight_layout()\n\n# Unicode demo\nfig, ax = plt.subplots()\nax.set_title(\"GISCARD CHAHUT\u00c9 \u00c0 L'ASSEMBL\u00c9E\")\nax.set_xlabel(\"LE COUP DE D\u00c9 DE DE GAULLE\")\nax.set_ylabel('Andr\u00e9 was here!')\nax.text(0.2, 0.8, 'Institut f\u00fcr Festk\u00f6rperphysik', rotation=45)\nax.text(0.4, 0.2, 'AVA (check kerning)')\n\nplt.show()"
      ],
      "metadata": {
        "collapsed": false
      },
      "execution_count": null
    }
  ],
  "nbformat": 4
}