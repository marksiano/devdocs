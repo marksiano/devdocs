{
  "nbformat_minor": 0,
  "metadata": {
    "kernelspec": {
      "language": "python",
      "name": "python3",
      "display_name": "Python 3"
    },
    "language_info": {
      "mimetype": "text/x-python",
      "codemirror_mode": {
        "version": 3,
        "name": "ipython"
      },
      "version": "3.5.4",
      "file_extension": ".py",
      "nbconvert_exporter": "python",
      "pygments_lexer": "ipython3",
      "name": "python"
    }
  },
  "cells": [
    {
      "cell_type": "code",
      "outputs": [],
      "source": [
        "%matplotlib inline"
      ],
      "metadata": {
        "collapsed": false
      },
      "execution_count": null
    },
    {
      "cell_type": "markdown",
      "source": [
        "\n# Axis Direction Demo Step02\n\n\n\n"
      ],
      "metadata": {}
    },
    {
      "cell_type": "code",
      "outputs": [],
      "source": [
        "import matplotlib.pyplot as plt\nimport mpl_toolkits.axisartist as axisartist\n\n\ndef setup_axes(fig, rect):\n    ax = axisartist.Subplot(fig, rect)\n    fig.add_axes(ax)\n\n    ax.set_ylim(-0.1, 1.5)\n    ax.set_yticks([0, 1])\n\n    #ax.axis[:].toggle(all=False)\n    #ax.axis[:].line.set_visible(False)\n    ax.axis[:].set_visible(False)\n\n    ax.axis[\"x\"] = ax.new_floating_axis(1, 0.5)\n    ax.axis[\"x\"].set_axisline_style(\"->\", size=1.5)\n\n    return ax\n\n\nfig = plt.figure(figsize=(6, 2.5))\nfig.subplots_adjust(bottom=0.2, top=0.8)\n\nax1 = setup_axes(fig, \"121\")\nax1.axis[\"x\"].set_ticklabel_direction(\"+\")\nax1.annotate(\"ticklabel direction=$+$\", (0.5, 0), xycoords=\"axes fraction\",\n             xytext=(0, -10), textcoords=\"offset points\",\n             va=\"top\", ha=\"center\")\n\nax2 = setup_axes(fig, \"122\")\nax2.axis[\"x\"].set_ticklabel_direction(\"-\")\nax2.annotate(\"ticklabel direction=$-$\", (0.5, 0), xycoords=\"axes fraction\",\n             xytext=(0, -10), textcoords=\"offset points\",\n             va=\"top\", ha=\"center\")\n\nplt.show()"
      ],
      "metadata": {
        "collapsed": false
      },
      "execution_count": null
    }
  ],
  "nbformat": 4
}