{
  "nbformat_minor": 0,
  "metadata": {
    "kernelspec": {
      "language": "python",
      "name": "python3",
      "display_name": "Python 3"
    },
    "language_info": {
      "mimetype": "text/x-python",
      "codemirror_mode": {
        "version": 3,
        "name": "ipython"
      },
      "version": "3.5.4",
      "file_extension": ".py",
      "nbconvert_exporter": "python",
      "pygments_lexer": "ipython3",
      "name": "python"
    }
  },
  "cells": [
    {
      "cell_type": "code",
      "outputs": [],
      "source": [
        "%matplotlib inline"
      ],
      "metadata": {
        "collapsed": false
      },
      "execution_count": null
    },
    {
      "cell_type": "markdown",
      "source": [
        "\n# Barchart\n\n\nA bar plot with errorbars and height labels on individual bars.\n\n"
      ],
      "metadata": {}
    },
    {
      "cell_type": "code",
      "outputs": [],
      "source": [
        "import numpy as np\nimport matplotlib.pyplot as plt\n\nmen_means, men_std = (20, 35, 30, 35, 27), (2, 3, 4, 1, 2)\nwomen_means, women_std = (25, 32, 34, 20, 25), (3, 5, 2, 3, 3)\n\nind = np.arange(len(men_means))  # the x locations for the groups\nwidth = 0.35  # the width of the bars\n\nfig, ax = plt.subplots()\nrects1 = ax.bar(ind - width/2, men_means, width, yerr=men_std,\n                color='SkyBlue', label='Men')\nrects2 = ax.bar(ind + width/2, women_means, width, yerr=women_std,\n                color='IndianRed', label='Women')\n\n# Add some text for labels, title and custom x-axis tick labels, etc.\nax.set_ylabel('Scores')\nax.set_title('Scores by group and gender')\nax.set_xticks(ind)\nax.set_xticklabels(('G1', 'G2', 'G3', 'G4', 'G5'))\nax.legend()\n\n\ndef autolabel(rects, xpos='center'):\n    \"\"\"\n    Attach a text label above each bar in *rects*, displaying its height.\n\n    *xpos* indicates which side to place the text w.r.t. the center of\n    the bar. It can be one of the following {'center', 'right', 'left'}.\n    \"\"\"\n\n    xpos = xpos.lower()  # normalize the case of the parameter\n    ha = {'center': 'center', 'right': 'left', 'left': 'right'}\n    offset = {'center': 0.5, 'right': 0.57, 'left': 0.43}  # x_txt = x + w*off\n\n    for rect in rects:\n        height = rect.get_height()\n        ax.text(rect.get_x() + rect.get_width()*offset[xpos], 1.01*height,\n                '{}'.format(height), ha=ha[xpos], va='bottom')\n\n\nautolabel(rects1, \"left\")\nautolabel(rects2, \"right\")\n\nplt.show()"
      ],
      "metadata": {
        "collapsed": false
      },
      "execution_count": null
    }
  ],
  "nbformat": 4
}