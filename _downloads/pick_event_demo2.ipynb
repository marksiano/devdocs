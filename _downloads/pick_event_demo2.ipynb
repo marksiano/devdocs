{
  "nbformat_minor": 0,
  "metadata": {
    "kernelspec": {
      "language": "python",
      "name": "python3",
      "display_name": "Python 3"
    },
    "language_info": {
      "mimetype": "text/x-python",
      "codemirror_mode": {
        "version": 3,
        "name": "ipython"
      },
      "version": "3.5.4",
      "file_extension": ".py",
      "nbconvert_exporter": "python",
      "pygments_lexer": "ipython3",
      "name": "python"
    }
  },
  "cells": [
    {
      "cell_type": "code",
      "outputs": [],
      "source": [
        "%matplotlib inline"
      ],
      "metadata": {
        "collapsed": false
      },
      "execution_count": null
    },
    {
      "cell_type": "markdown",
      "source": [
        "\n# Pick Event Demo2\n\n\ncompute the mean and standard deviation (stddev) of 100 data sets and plot\nmean vs stddev.  When you click on one of the mu, sigma points, plot the raw\ndata from the dataset that generated the mean and stddev.\n\n"
      ],
      "metadata": {}
    },
    {
      "cell_type": "code",
      "outputs": [],
      "source": [
        "import numpy as np\nimport matplotlib.pyplot as plt\n\n\nX = np.random.rand(100, 1000)\nxs = np.mean(X, axis=1)\nys = np.std(X, axis=1)\n\nfig, ax = plt.subplots()\nax.set_title('click on point to plot time series')\nline, = ax.plot(xs, ys, 'o', picker=5)  # 5 points tolerance\n\n\ndef onpick(event):\n\n    if event.artist != line:\n        return True\n\n    N = len(event.ind)\n    if not N:\n        return True\n\n    figi = plt.figure()\n    for subplotnum, dataind in enumerate(event.ind):\n        ax = figi.add_subplot(N, 1, subplotnum + 1)\n        ax.plot(X[dataind])\n        ax.text(0.05, 0.9, 'mu=%1.3f\\nsigma=%1.3f' % (xs[dataind], ys[dataind]),\n                transform=ax.transAxes, va='top')\n        ax.set_ylim(-0.5, 1.5)\n    figi.show()\n    return True\n\nfig.canvas.mpl_connect('pick_event', onpick)\n\nplt.show()"
      ],
      "metadata": {
        "collapsed": false
      },
      "execution_count": null
    }
  ],
  "nbformat": 4
}