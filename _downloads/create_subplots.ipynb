{
  "nbformat_minor": 0,
  "metadata": {
    "kernelspec": {
      "language": "python",
      "name": "python3",
      "display_name": "Python 3"
    },
    "language_info": {
      "mimetype": "text/x-python",
      "codemirror_mode": {
        "version": 3,
        "name": "ipython"
      },
      "version": "3.5.4",
      "file_extension": ".py",
      "nbconvert_exporter": "python",
      "pygments_lexer": "ipython3",
      "name": "python"
    }
  },
  "cells": [
    {
      "cell_type": "code",
      "outputs": [],
      "source": [
        "%matplotlib inline"
      ],
      "metadata": {
        "collapsed": false
      },
      "execution_count": null
    },
    {
      "cell_type": "markdown",
      "source": [
        "\nEasily creating subplots\n========================\n\nIn early versions of matplotlib, if you wanted to use the pythonic API\nand create a figure instance and from that create a grid of subplots,\npossibly with shared axes, it involved a fair amount of boilerplate\ncode.  e.g.\n\n"
      ],
      "metadata": {}
    },
    {
      "cell_type": "code",
      "outputs": [],
      "source": [
        "import matplotlib.pyplot as plt\nimport numpy as np\n\nx = np.random.randn(50)\n\n# old style\nfig = plt.figure()\nax1 = fig.add_subplot(221)\nax2 = fig.add_subplot(222, sharex=ax1, sharey=ax1)\nax3 = fig.add_subplot(223, sharex=ax1, sharey=ax1)\nax3 = fig.add_subplot(224, sharex=ax1, sharey=ax1)"
      ],
      "metadata": {
        "collapsed": false
      },
      "execution_count": null
    },
    {
      "cell_type": "markdown",
      "source": [
        "Fernando Perez has provided a nice top level method to create in\n:func:`~matplotlib.pyplots.subplots` (note the \"s\" at the end)\neverything at once, and turn on x and y sharing for the whole bunch.\nYou can either unpack the axes individually::\n\n"
      ],
      "metadata": {}
    },
    {
      "cell_type": "code",
      "outputs": [],
      "source": [
        "# new style method 1; unpack the axes\nfig, ((ax1, ax2), (ax3, ax4)) = plt.subplots(2, 2, sharex=True, sharey=True)\nax1.plot(x)"
      ],
      "metadata": {
        "collapsed": false
      },
      "execution_count": null
    },
    {
      "cell_type": "markdown",
      "source": [
        "or get them back as a numrows x numcolumns object array which supports\nnumpy indexing\n\n"
      ],
      "metadata": {}
    },
    {
      "cell_type": "code",
      "outputs": [],
      "source": [
        "# new style method 2; use an axes array\nfig, axs = plt.subplots(2, 2, sharex=True, sharey=True)\naxs[0, 0].plot(x)"
      ],
      "metadata": {
        "collapsed": false
      },
      "execution_count": null
    }
  ],
  "nbformat": 4
}