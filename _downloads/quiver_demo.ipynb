{
  "nbformat_minor": 0,
  "metadata": {
    "kernelspec": {
      "language": "python",
      "name": "python3",
      "display_name": "Python 3"
    },
    "language_info": {
      "mimetype": "text/x-python",
      "codemirror_mode": {
        "version": 3,
        "name": "ipython"
      },
      "version": "3.5.4",
      "file_extension": ".py",
      "nbconvert_exporter": "python",
      "pygments_lexer": "ipython3",
      "name": "python"
    }
  },
  "cells": [
    {
      "cell_type": "code",
      "outputs": [],
      "source": [
        "%matplotlib inline"
      ],
      "metadata": {
        "collapsed": false
      },
      "execution_count": null
    },
    {
      "cell_type": "markdown",
      "source": [
        "\n# Demonstration of advanced quiver and quiverkey functions\n\n\nKnown problem: the plot autoscaling does not take into account\nthe arrows, so those on the boundaries are often out of the picture.\nThis is *not* an easy problem to solve in a perfectly general way.\nThe workaround is to manually expand the axes.\n\n"
      ],
      "metadata": {}
    },
    {
      "cell_type": "code",
      "outputs": [],
      "source": [
        "import matplotlib.pyplot as plt\nimport numpy as np\nfrom numpy import ma\n\nX, Y = np.meshgrid(np.arange(0, 2 * np.pi, .2), np.arange(0, 2 * np.pi, .2))\nU = np.cos(X)\nV = np.sin(Y)"
      ],
      "metadata": {
        "collapsed": false
      },
      "execution_count": null
    },
    {
      "cell_type": "code",
      "outputs": [],
      "source": [
        "plt.figure()\nplt.title('Arrows scale with plot width, not view')\nQ = plt.quiver(X, Y, U, V, units='width')\nqk = plt.quiverkey(Q, 0.9, 0.9, 2, r'$2 \\frac{m}{s}$', labelpos='E',\n                   coordinates='figure')"
      ],
      "metadata": {
        "collapsed": false
      },
      "execution_count": null
    },
    {
      "cell_type": "code",
      "outputs": [],
      "source": [
        "plt.figure()\nplt.title(\"pivot='mid'; every third arrow; units='inches'\")\nQ = plt.quiver(X[::3, ::3], Y[::3, ::3], U[::3, ::3], V[::3, ::3],\n               pivot='mid', units='inches')\nqk = plt.quiverkey(Q, 0.9, 0.9, 1, r'$1 \\frac{m}{s}$', labelpos='E',\n                   coordinates='figure')\nplt.scatter(X[::3, ::3], Y[::3, ::3], color='r', s=5)"
      ],
      "metadata": {
        "collapsed": false
      },
      "execution_count": null
    },
    {
      "cell_type": "code",
      "outputs": [],
      "source": [
        "plt.figure()\nplt.title(\"pivot='tip'; scales with x view\")\nM = np.hypot(U, V)\nQ = plt.quiver(X, Y, U, V, M, units='x', pivot='tip', width=0.022,\n               scale=1 / 0.15)\nqk = plt.quiverkey(Q, 0.9, 0.9, 1, r'$1 \\frac{m}{s}$', labelpos='E',\n                   coordinates='figure')\nplt.scatter(X, Y, color='k', s=5)\n\nplt.show()"
      ],
      "metadata": {
        "collapsed": false
      },
      "execution_count": null
    }
  ],
  "nbformat": 4
}