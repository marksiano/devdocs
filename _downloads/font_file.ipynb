{
  "nbformat_minor": 0,
  "metadata": {
    "kernelspec": {
      "language": "python",
      "name": "python3",
      "display_name": "Python 3"
    },
    "language_info": {
      "mimetype": "text/x-python",
      "codemirror_mode": {
        "version": 3,
        "name": "ipython"
      },
      "version": "3.5.4",
      "file_extension": ".py",
      "nbconvert_exporter": "python",
      "pygments_lexer": "ipython3",
      "name": "python"
    }
  },
  "cells": [
    {
      "cell_type": "code",
      "outputs": [],
      "source": [
        "%matplotlib inline"
      ],
      "metadata": {
        "collapsed": false
      },
      "execution_count": null
    },
    {
      "cell_type": "markdown",
      "source": [
        "\n# Using a ttf font file in Matplotlib\n\n\nAlthough it is usually not a good idea to explicitly point to a single ttf file\nfor a font instance, you can do so using the `font_manager.FontProperties`\n*fname* argument.\n\nHere, we use the Computer Modern roman font (``cmr10``) shipped with\nMatplotlib.\n\nFor a more flexible solution, see :doc:`/gallery/api/font_family_rc_sgskip` and\n:doc:`/gallery/text_labels_and_annotations/fonts_demo`.\n\n"
      ],
      "metadata": {}
    },
    {
      "cell_type": "code",
      "outputs": [],
      "source": [
        "import os\nfrom matplotlib import font_manager as fm, pyplot as plt, rcParams\n\nfig, ax = plt.subplots()\n\nfpath = os.path.join(rcParams[\"datapath\"], \"fonts/ttf/cmr10.ttf\")\nprop = fm.FontProperties(fname=fpath)\nfname = os.path.split(fpath)[1]\nax.set_title('This is a special font: {}'.format(fname), fontproperties=prop)\nax.set_xlabel('This is the default font')\n\nplt.show()"
      ],
      "metadata": {
        "collapsed": false
      },
      "execution_count": null
    }
  ],
  "nbformat": 4
}