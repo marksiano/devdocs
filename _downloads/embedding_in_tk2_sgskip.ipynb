{
  "nbformat_minor": 0,
  "metadata": {
    "kernelspec": {
      "language": "python",
      "name": "python3",
      "display_name": "Python 3"
    },
    "language_info": {
      "mimetype": "text/x-python",
      "codemirror_mode": {
        "version": 3,
        "name": "ipython"
      },
      "version": "3.5.4",
      "file_extension": ".py",
      "nbconvert_exporter": "python",
      "pygments_lexer": "ipython3",
      "name": "python"
    }
  },
  "cells": [
    {
      "cell_type": "code",
      "outputs": [],
      "source": [
        "%matplotlib inline"
      ],
      "metadata": {
        "collapsed": false
      },
      "execution_count": null
    },
    {
      "cell_type": "markdown",
      "source": [
        "\n# Embedding In Tk2\n\n\n\n"
      ],
      "metadata": {}
    },
    {
      "cell_type": "code",
      "outputs": [],
      "source": [
        "import matplotlib\nmatplotlib.use('TkAgg')\n\nfrom numpy import arange, sin, pi\nfrom matplotlib.backends.backend_tkagg import FigureCanvasTkAgg\nfrom matplotlib.figure import Figure\n\nimport sys\nif sys.version_info[0] < 3:\n    import Tkinter as Tk\nelse:\n    import tkinter as Tk\n\n\ndef destroy(e):\n    sys.exit()\n\nroot = Tk.Tk()\nroot.wm_title(\"Embedding in TK\")\n\n\nf = Figure(figsize=(5, 4), dpi=100)\na = f.add_subplot(111)\nt = arange(0.0, 3.0, 0.01)\ns = sin(2*pi*t)\n\na.plot(t, s)\na.set_title('Tk embedding')\na.set_xlabel('X axis label')\na.set_ylabel('Y label')\n\n\n# a tk.DrawingArea\ncanvas = FigureCanvasTkAgg(f, master=root)\ncanvas.show()\ncanvas.get_tk_widget().pack(side=Tk.TOP, fill=Tk.BOTH, expand=1)\n\ncanvas._tkcanvas.pack(side=Tk.TOP, fill=Tk.BOTH, expand=1)\n\nbutton = Tk.Button(master=root, text='Quit', command=sys.exit)\nbutton.pack(side=Tk.BOTTOM)\n\nTk.mainloop()"
      ],
      "metadata": {
        "collapsed": false
      },
      "execution_count": null
    }
  ],
  "nbformat": 4
}