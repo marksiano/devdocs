{
  "nbformat_minor": 0,
  "metadata": {
    "kernelspec": {
      "language": "python",
      "name": "python3",
      "display_name": "Python 3"
    },
    "language_info": {
      "mimetype": "text/x-python",
      "codemirror_mode": {
        "version": 3,
        "name": "ipython"
      },
      "version": "3.5.4",
      "file_extension": ".py",
      "nbconvert_exporter": "python",
      "pygments_lexer": "ipython3",
      "name": "python"
    }
  },
  "cells": [
    {
      "cell_type": "code",
      "outputs": [],
      "source": [
        "%matplotlib inline"
      ],
      "metadata": {
        "collapsed": false
      },
      "execution_count": null
    },
    {
      "cell_type": "markdown",
      "source": [
        "\n# Check Buttons\n\n\nTurning visual elements on and off with check buttons.\n\nThis program shows the use of 'Check Buttons' which is similar to\ncheck boxes. There are 3 different sine waves shown and we can choose which\nwaves are displayed with the check buttons.\n\n"
      ],
      "metadata": {}
    },
    {
      "cell_type": "code",
      "outputs": [],
      "source": [
        "import numpy as np\nimport matplotlib.pyplot as plt\nfrom matplotlib.widgets import CheckButtons\n\nt = np.arange(0.0, 2.0, 0.01)\ns0 = np.sin(2*np.pi*t)\ns1 = np.sin(4*np.pi*t)\ns2 = np.sin(6*np.pi*t)\n\nfig, ax = plt.subplots()\nl0, = ax.plot(t, s0, visible=False, lw=2, color='k', label='2 Hz')\nl1, = ax.plot(t, s1, lw=2, color='r', label='4 Hz')\nl2, = ax.plot(t, s2, lw=2, color='g', label='6 Hz')\nplt.subplots_adjust(left=0.2)\n\nlines = [l0, l1, l2]\n\n# Make checkbuttons with all plotted lines with correct visibility\nrax = plt.axes([0.05, 0.4, 0.1, 0.15])\nlabels = [str(line.get_label()) for line in lines]\nvisibility = [line.get_visible() for line in lines]\ncheck = CheckButtons(rax, labels, visibility)\n\n\ndef func(label):\n    index = labels.index(label)\n    lines[index].set_visible(not lines[index].get_visible())\n    plt.draw()\n\ncheck.on_clicked(func)\n\nplt.show()"
      ],
      "metadata": {
        "collapsed": false
      },
      "execution_count": null
    }
  ],
  "nbformat": 4
}