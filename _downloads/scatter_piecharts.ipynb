{
  "nbformat_minor": 0,
  "metadata": {
    "kernelspec": {
      "language": "python",
      "name": "python3",
      "display_name": "Python 3"
    },
    "language_info": {
      "mimetype": "text/x-python",
      "codemirror_mode": {
        "version": 3,
        "name": "ipython"
      },
      "version": "3.5.4",
      "file_extension": ".py",
      "nbconvert_exporter": "python",
      "pygments_lexer": "ipython3",
      "name": "python"
    }
  },
  "cells": [
    {
      "cell_type": "code",
      "outputs": [],
      "source": [
        "%matplotlib inline"
      ],
      "metadata": {
        "collapsed": false
      },
      "execution_count": null
    },
    {
      "cell_type": "markdown",
      "source": [
        "\n# Scatter plot with pie chart markers\n\n\nThis example makes custom 'pie charts' as the markers for a scatter plot.\n\nThanks to Manuel Metz for the example\n\n"
      ],
      "metadata": {}
    },
    {
      "cell_type": "code",
      "outputs": [],
      "source": [
        "import numpy as np\nimport matplotlib.pyplot as plt\n\n# first define the ratios\nr1 = 0.2       # 20%\nr2 = r1 + 0.4  # 40%\n\n# define some sizes of the scatter marker\nsizes = np.array([60, 80, 120])\n\n# calculate the points of the first pie marker\n#\n# these are just the origin (0,0) +\n# some points on a circle cos,sin\nx = [0] + np.cos(np.linspace(0, 2 * np.pi * r1, 10)).tolist()\ny = [0] + np.sin(np.linspace(0, 2 * np.pi * r1, 10)).tolist()\nxy1 = list(zip(x, y))\ns1 = np.max(xy1)\n\nx = [0] + np.cos(np.linspace(2 * np.pi * r1, 2 * np.pi * r2, 10)).tolist()\ny = [0] + np.sin(np.linspace(2 * np.pi * r1, 2 * np.pi * r2, 10)).tolist()\nxy2 = list(zip(x, y))\ns2 = np.max(xy2)\n\nx = [0] + np.cos(np.linspace(2 * np.pi * r2, 2 * np.pi, 10)).tolist()\ny = [0] + np.sin(np.linspace(2 * np.pi * r2, 2 * np.pi, 10)).tolist()\nxy3 = list(zip(x, y))\ns3 = np.max(xy3)\n\nfig, ax = plt.subplots()\nax.scatter(range(3), range(3), marker=(xy1, 0),\n           s=s1 ** 2 * sizes, facecolor='blue')\nax.scatter(range(3), range(3), marker=(xy2, 0),\n           s=s2 ** 2 * sizes, facecolor='green')\nax.scatter(range(3), range(3), marker=(xy3, 0),\n           s=s3 ** 2 * sizes, facecolor='red')\n\nplt.show()"
      ],
      "metadata": {
        "collapsed": false
      },
      "execution_count": null
    }
  ],
  "nbformat": 4
}