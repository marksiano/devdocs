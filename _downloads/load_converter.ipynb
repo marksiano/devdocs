{
  "nbformat_minor": 0,
  "metadata": {
    "kernelspec": {
      "language": "python",
      "name": "python3",
      "display_name": "Python 3"
    },
    "language_info": {
      "mimetype": "text/x-python",
      "codemirror_mode": {
        "version": 3,
        "name": "ipython"
      },
      "version": "3.5.4",
      "file_extension": ".py",
      "nbconvert_exporter": "python",
      "pygments_lexer": "ipython3",
      "name": "python"
    }
  },
  "cells": [
    {
      "cell_type": "code",
      "outputs": [],
      "source": [
        "%matplotlib inline"
      ],
      "metadata": {
        "collapsed": false
      },
      "execution_count": null
    },
    {
      "cell_type": "markdown",
      "source": [
        "\n# Load Converter\n\n\n\n"
      ],
      "metadata": {}
    },
    {
      "cell_type": "code",
      "outputs": [],
      "source": [
        "from __future__ import print_function\nimport numpy as np\nimport matplotlib.pyplot as plt\nimport matplotlib.cbook as cbook\nimport matplotlib.dates as mdates\nfrom matplotlib.dates import bytespdate2num\n\ndatafile = cbook.get_sample_data('msft.csv', asfileobj=False)\nprint('loading', datafile)\n\ndates, closes = np.loadtxt(datafile, delimiter=',',\n                           converters={0: bytespdate2num('%d-%b-%y')},\n                           skiprows=1, usecols=(0, 2), unpack=True)\n\nfig = plt.figure()\nax = fig.add_subplot(111)\nax.plot_date(dates, closes, '-')\nfig.autofmt_xdate()\nplt.show()"
      ],
      "metadata": {
        "collapsed": false
      },
      "execution_count": null
    }
  ],
  "nbformat": 4
}