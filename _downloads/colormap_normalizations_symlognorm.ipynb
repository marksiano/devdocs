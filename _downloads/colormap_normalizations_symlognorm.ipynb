{
  "nbformat_minor": 0,
  "metadata": {
    "kernelspec": {
      "language": "python",
      "name": "python3",
      "display_name": "Python 3"
    },
    "language_info": {
      "mimetype": "text/x-python",
      "codemirror_mode": {
        "version": 3,
        "name": "ipython"
      },
      "version": "3.5.4",
      "file_extension": ".py",
      "nbconvert_exporter": "python",
      "pygments_lexer": "ipython3",
      "name": "python"
    }
  },
  "cells": [
    {
      "cell_type": "code",
      "outputs": [],
      "source": [
        "%matplotlib inline"
      ],
      "metadata": {
        "collapsed": false
      },
      "execution_count": null
    },
    {
      "cell_type": "markdown",
      "source": [
        "\n# Colormap Normalizations Symlognorm\n\n\nDemonstration of using norm to map colormaps onto data in non-linear ways.\n\n"
      ],
      "metadata": {}
    },
    {
      "cell_type": "code",
      "outputs": [],
      "source": [
        "import numpy as np\nimport matplotlib.pyplot as plt\nimport matplotlib.colors as colors\nfrom matplotlib.mlab import bivariate_normal\n\n\"\"\"\nSymLogNorm: two humps, one negative and one positive, The positive\nwith 5-times the amplitude. Linearly, you cannot see detail in the\nnegative hump.  Here we logarithmically scale the positive and\nnegative data separately.\n\nNote that colorbar labels do not come out looking very good.\n\"\"\"\n\nN = 100\nX, Y = np.mgrid[-3:3:complex(0, N), -2:2:complex(0, N)]\nZ1 = (bivariate_normal(X, Y, 1., 1., 1.0, 1.0)**2 -\n      0.4 * bivariate_normal(X, Y, 1.0, 1.0, -1.0, 0.0)**2)\nZ1 = Z1 / 0.03\n\nfig, ax = plt.subplots(2, 1)\n\npcm = ax[0].pcolormesh(X, Y, Z1,\n                       norm=colors.SymLogNorm(linthresh=0.03, linscale=0.03,\n                                              vmin=-1.0, vmax=1.0),\n                       cmap='RdBu_r')\nfig.colorbar(pcm, ax=ax[0], extend='both')\n\npcm = ax[1].pcolormesh(X, Y, Z1, cmap='RdBu_r', vmin=-np.max(Z1))\nfig.colorbar(pcm, ax=ax[1], extend='both')\n\nplt.show()"
      ],
      "metadata": {
        "collapsed": false
      },
      "execution_count": null
    }
  ],
  "nbformat": 4
}