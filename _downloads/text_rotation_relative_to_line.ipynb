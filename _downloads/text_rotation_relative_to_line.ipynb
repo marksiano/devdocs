{
  "nbformat_minor": 0,
  "metadata": {
    "kernelspec": {
      "language": "python",
      "name": "python3",
      "display_name": "Python 3"
    },
    "language_info": {
      "mimetype": "text/x-python",
      "codemirror_mode": {
        "version": 3,
        "name": "ipython"
      },
      "version": "3.5.4",
      "file_extension": ".py",
      "nbconvert_exporter": "python",
      "pygments_lexer": "ipython3",
      "name": "python"
    }
  },
  "cells": [
    {
      "cell_type": "code",
      "outputs": [],
      "source": [
        "%matplotlib inline"
      ],
      "metadata": {
        "collapsed": false
      },
      "execution_count": null
    },
    {
      "cell_type": "markdown",
      "source": [
        "\n# Text Rotation Relative To Line\n\n\nText objects in matplotlib are normally rotated with respect to the\nscreen coordinate system (i.e., 45 degrees rotation plots text along a\nline that is in between horizontal and vertical no matter how the axes\nare changed).  However, at times one wants to rotate text with respect\nto something on the plot.  In this case, the correct angle won't be\nthe angle of that object in the plot coordinate system, but the angle\nthat that object APPEARS in the screen coordinate system.  This angle\nis found by transforming the angle from the plot to the screen\ncoordinate system, as shown in the example below.\n\n"
      ],
      "metadata": {}
    },
    {
      "cell_type": "code",
      "outputs": [],
      "source": [
        "import matplotlib.pyplot as plt\nimport numpy as np\n\n# Plot diagonal line (45 degrees)\nh = plt.plot(np.arange(0, 10), np.arange(0, 10))\n\n# set limits so that it no longer looks on screen to be 45 degrees\nplt.xlim([-10, 20])\n\n# Locations to plot text\nl1 = np.array((1, 1))\nl2 = np.array((5, 5))\n\n# Rotate angle\nangle = 45\ntrans_angle = plt.gca().transData.transform_angles(np.array((45,)),\n                                                   l2.reshape((1, 2)))[0]\n\n# Plot text\nth1 = plt.text(l1[0], l1[1], 'text not rotated correctly', fontsize=16,\n               rotation=angle, rotation_mode='anchor')\nth2 = plt.text(l2[0], l2[1], 'text rotated correctly', fontsize=16,\n               rotation=trans_angle, rotation_mode='anchor')\n\nplt.show()"
      ],
      "metadata": {
        "collapsed": false
      },
      "execution_count": null
    }
  ],
  "nbformat": 4
}