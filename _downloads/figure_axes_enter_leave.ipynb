{
  "nbformat_minor": 0,
  "metadata": {
    "kernelspec": {
      "language": "python",
      "name": "python3",
      "display_name": "Python 3"
    },
    "language_info": {
      "mimetype": "text/x-python",
      "codemirror_mode": {
        "version": 3,
        "name": "ipython"
      },
      "version": "3.5.4",
      "file_extension": ".py",
      "nbconvert_exporter": "python",
      "pygments_lexer": "ipython3",
      "name": "python"
    }
  },
  "cells": [
    {
      "cell_type": "code",
      "outputs": [],
      "source": [
        "%matplotlib inline"
      ],
      "metadata": {
        "collapsed": false
      },
      "execution_count": null
    },
    {
      "cell_type": "markdown",
      "source": [
        "\n# Figure Axes Enter Leave\n\n\nIllustrate the figure and axes enter and leave events by changing the\nframe colors on enter and leave\n\n"
      ],
      "metadata": {}
    },
    {
      "cell_type": "code",
      "outputs": [],
      "source": [
        "from __future__ import print_function\nimport matplotlib.pyplot as plt\n\n\ndef enter_axes(event):\n    print('enter_axes', event.inaxes)\n    event.inaxes.patch.set_facecolor('yellow')\n    event.canvas.draw()\n\n\ndef leave_axes(event):\n    print('leave_axes', event.inaxes)\n    event.inaxes.patch.set_facecolor('white')\n    event.canvas.draw()\n\n\ndef enter_figure(event):\n    print('enter_figure', event.canvas.figure)\n    event.canvas.figure.patch.set_facecolor('red')\n    event.canvas.draw()\n\n\ndef leave_figure(event):\n    print('leave_figure', event.canvas.figure)\n    event.canvas.figure.patch.set_facecolor('grey')\n    event.canvas.draw()"
      ],
      "metadata": {
        "collapsed": false
      },
      "execution_count": null
    },
    {
      "cell_type": "code",
      "outputs": [],
      "source": [
        "fig1, (ax, ax2) = plt.subplots(2, 1)\nfig1.suptitle('mouse hover over figure or axes to trigger events')\n\nfig1.canvas.mpl_connect('figure_enter_event', enter_figure)\nfig1.canvas.mpl_connect('figure_leave_event', leave_figure)\nfig1.canvas.mpl_connect('axes_enter_event', enter_axes)\nfig1.canvas.mpl_connect('axes_leave_event', leave_axes)"
      ],
      "metadata": {
        "collapsed": false
      },
      "execution_count": null
    },
    {
      "cell_type": "code",
      "outputs": [],
      "source": [
        "fig2, (ax, ax2) = plt.subplots(2, 1)\nfig2.suptitle('mouse hover over figure or axes to trigger events')\n\nfig2.canvas.mpl_connect('figure_enter_event', enter_figure)\nfig2.canvas.mpl_connect('figure_leave_event', leave_figure)\nfig2.canvas.mpl_connect('axes_enter_event', enter_axes)\nfig2.canvas.mpl_connect('axes_leave_event', leave_axes)\n\nplt.show()"
      ],
      "metadata": {
        "collapsed": false
      },
      "execution_count": null
    }
  ],
  "nbformat": 4
}