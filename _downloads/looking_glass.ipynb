{
  "nbformat_minor": 0,
  "metadata": {
    "kernelspec": {
      "language": "python",
      "name": "python3",
      "display_name": "Python 3"
    },
    "language_info": {
      "mimetype": "text/x-python",
      "codemirror_mode": {
        "version": 3,
        "name": "ipython"
      },
      "version": "3.5.4",
      "file_extension": ".py",
      "nbconvert_exporter": "python",
      "pygments_lexer": "ipython3",
      "name": "python"
    }
  },
  "cells": [
    {
      "cell_type": "code",
      "outputs": [],
      "source": [
        "%matplotlib inline"
      ],
      "metadata": {
        "collapsed": false
      },
      "execution_count": null
    },
    {
      "cell_type": "markdown",
      "source": [
        "\n# Looking Glass\n\n\nExample using mouse events to simulate a looking glass for inspecting data.\n\n"
      ],
      "metadata": {}
    },
    {
      "cell_type": "code",
      "outputs": [],
      "source": [
        "import numpy as np\nimport matplotlib.pyplot as plt\nimport matplotlib.patches as patches\n\n# Fixing random state for reproducibility\nnp.random.seed(19680801)\n\nx, y = np.random.rand(2, 200)\n\nfig, ax = plt.subplots()\ncirc = patches.Circle((0.5, 0.5), 0.25, alpha=0.8, fc='yellow')\nax.add_patch(circ)\n\n\nax.plot(x, y, alpha=0.2)\nline, = ax.plot(x, y, alpha=1.0, clip_path=circ)\nax.set_title(\"Left click and drag to move looking glass\")\n\n\nclass EventHandler(object):\n    def __init__(self):\n        fig.canvas.mpl_connect('button_press_event', self.onpress)\n        fig.canvas.mpl_connect('button_release_event', self.onrelease)\n        fig.canvas.mpl_connect('motion_notify_event', self.onmove)\n        self.x0, self.y0 = circ.center\n        self.pressevent = None\n\n    def onpress(self, event):\n        if event.inaxes != ax:\n            return\n\n        if not circ.contains(event)[0]:\n            return\n\n        self.pressevent = event\n\n    def onrelease(self, event):\n        self.pressevent = None\n        self.x0, self.y0 = circ.center\n\n    def onmove(self, event):\n        if self.pressevent is None or event.inaxes != self.pressevent.inaxes:\n            return\n\n        dx = event.xdata - self.pressevent.xdata\n        dy = event.ydata - self.pressevent.ydata\n        circ.center = self.x0 + dx, self.y0 + dy\n        line.set_clip_path(circ)\n        fig.canvas.draw()\n\nhandler = EventHandler()\nplt.show()"
      ],
      "metadata": {
        "collapsed": false
      },
      "execution_count": null
    }
  ],
  "nbformat": 4
}