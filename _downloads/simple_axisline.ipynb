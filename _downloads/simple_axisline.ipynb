{
  "nbformat_minor": 0,
  "metadata": {
    "kernelspec": {
      "language": "python",
      "name": "python3",
      "display_name": "Python 3"
    },
    "language_info": {
      "mimetype": "text/x-python",
      "codemirror_mode": {
        "version": 3,
        "name": "ipython"
      },
      "version": "3.5.4",
      "file_extension": ".py",
      "nbconvert_exporter": "python",
      "pygments_lexer": "ipython3",
      "name": "python"
    }
  },
  "cells": [
    {
      "cell_type": "code",
      "outputs": [],
      "source": [
        "%matplotlib inline"
      ],
      "metadata": {
        "collapsed": false
      },
      "execution_count": null
    },
    {
      "cell_type": "markdown",
      "source": [
        "\n# Simple Axisline\n\n\n\n"
      ],
      "metadata": {}
    },
    {
      "cell_type": "code",
      "outputs": [],
      "source": [
        "import matplotlib.pyplot as plt\n\nfrom mpl_toolkits.axisartist.axislines import SubplotZero\n\nif 1:\n\n    fig = plt.figure(1)\n    fig.subplots_adjust(right=0.85)\n    ax = SubplotZero(fig, 1, 1, 1)\n    fig.add_subplot(ax)\n\n    # make right and top axis invisible\n    ax.axis[\"right\"].set_visible(False)\n    ax.axis[\"top\"].set_visible(False)\n\n    # make xzero axis (horizontal axis line through y=0) visible.\n    ax.axis[\"xzero\"].set_visible(True)\n    ax.axis[\"xzero\"].label.set_text(\"Axis Zero\")\n\n    ax.set_ylim(-2, 4)\n    ax.set_xlabel(\"Label X\")\n    ax.set_ylabel(\"Label Y\")\n    # or\n    #ax.axis[\"bottom\"].label.set_text(\"Label X\")\n    #ax.axis[\"left\"].label.set_text(\"Label Y\")\n\n    # make new (right-side) yaxis, but wth some offset\n    offset = (20, 0)\n    new_axisline = ax.get_grid_helper().new_fixed_axis\n\n    ax.axis[\"right2\"] = new_axisline(loc=\"right\",\n                                     offset=offset,\n                                     axes=ax)\n    ax.axis[\"right2\"].label.set_text(\"Label Y2\")\n\n    ax.plot([-2, 3, 2])\n    plt.show()"
      ],
      "metadata": {
        "collapsed": false
      },
      "execution_count": null
    }
  ],
  "nbformat": 4
}