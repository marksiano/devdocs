{
  "nbformat_minor": 0,
  "metadata": {
    "kernelspec": {
      "language": "python",
      "name": "python3",
      "display_name": "Python 3"
    },
    "language_info": {
      "mimetype": "text/x-python",
      "codemirror_mode": {
        "version": 3,
        "name": "ipython"
      },
      "version": "3.5.4",
      "file_extension": ".py",
      "nbconvert_exporter": "python",
      "pygments_lexer": "ipython3",
      "name": "python"
    }
  },
  "cells": [
    {
      "cell_type": "code",
      "outputs": [],
      "source": [
        "%matplotlib inline"
      ],
      "metadata": {
        "collapsed": false
      },
      "execution_count": null
    },
    {
      "cell_type": "markdown",
      "source": [
        "\n# Multiprocess\n\n\nDemo of using multiprocessing for generating data in one process and\nplotting in another.\n\nWritten by Robert Cimrman\n\n"
      ],
      "metadata": {}
    },
    {
      "cell_type": "code",
      "outputs": [],
      "source": [
        "from __future__ import print_function\n\nimport time\nimport numpy as np\n\nfrom multiprocessing import Process, Pipe\n\n# This example will likely not work with the native OSX backend.\n# Uncomment the following lines to use the qt5 backend instead.\n#\n# import matplotlib\n# matplotlib.use('qt5Agg')\n\nimport matplotlib.pyplot as plt\n\n# Fixing random state for reproducibility\nnp.random.seed(19680801)"
      ],
      "metadata": {
        "collapsed": false
      },
      "execution_count": null
    },
    {
      "cell_type": "markdown",
      "source": [
        "Processing Class\n================\n\nThis class plots data it recieves from a pipe.\n\n\n"
      ],
      "metadata": {}
    },
    {
      "cell_type": "code",
      "outputs": [],
      "source": [
        "class ProcessPlotter(object):\n    def __init__(self):\n        self.x = []\n        self.y = []\n\n    def terminate(self):\n        plt.close('all')\n\n    def poll_draw(self):\n\n        def call_back():\n            while self.pipe.poll():\n                command = self.pipe.recv()\n                if command is None:\n                    self.terminate()\n                    return False\n                else:\n                    self.x.append(command[0])\n                    self.y.append(command[1])\n                    self.ax.plot(self.x, self.y, 'ro')\n            self.fig.canvas.draw()\n            return True\n\n        return call_back\n\n    def __call__(self, pipe):\n        print('starting plotter...')\n\n        self.pipe = pipe\n        self.fig, self.ax = plt.subplots()\n        timer = self.fig.canvas.new_timer(interval=1000)\n        timer.add_callback(self.poll_draw())\n        timer.start()\n\n        print('...done')\n        plt.show()"
      ],
      "metadata": {
        "collapsed": false
      },
      "execution_count": null
    },
    {
      "cell_type": "markdown",
      "source": [
        "Plotting class\n==============\n\nThis class uses multiprocessing to spawn a process to run code from the\nclass above. When initialized, it creates a pipe and an instance of\n``ProcessPlotter`` which will be run in a separate process.\n\nWhen run from the command line, the parent process sends data to the spawned\nprocess which is then plotted via the callback function specified in\n``ProcessPlotter:__call__``.\n\n\n"
      ],
      "metadata": {}
    },
    {
      "cell_type": "code",
      "outputs": [],
      "source": [
        "class NBPlot(object):\n    def __init__(self):\n        self.plot_pipe, plotter_pipe = Pipe()\n        self.plotter = ProcessPlotter()\n        self.plot_process = Process(\n            target=self.plotter,\n            args=(plotter_pipe,)\n        )\n        self.plot_process.daemon = True\n        self.plot_process.start()\n\n    def plot(self, finished=False):\n        send = self.plot_pipe.send\n        if finished:\n            send(None)\n        else:\n            data = np.random.random(2)\n            send(data)\n\n\ndef main():\n    pl = NBPlot()\n    for ii in range(10):\n        pl.plot()\n        time.sleep(0.5)\n    pl.plot(finished=True)\n\n\nif __name__ == '__main__':\n    main()"
      ],
      "metadata": {
        "collapsed": false
      },
      "execution_count": null
    }
  ],
  "nbformat": 4
}