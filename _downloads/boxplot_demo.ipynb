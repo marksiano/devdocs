{
  "nbformat_minor": 0,
  "metadata": {
    "kernelspec": {
      "language": "python",
      "name": "python3",
      "display_name": "Python 3"
    },
    "language_info": {
      "mimetype": "text/x-python",
      "codemirror_mode": {
        "version": 3,
        "name": "ipython"
      },
      "version": "3.5.4",
      "file_extension": ".py",
      "nbconvert_exporter": "python",
      "pygments_lexer": "ipython3",
      "name": "python"
    }
  },
  "cells": [
    {
      "cell_type": "code",
      "outputs": [],
      "source": [
        "%matplotlib inline"
      ],
      "metadata": {
        "collapsed": false
      },
      "execution_count": null
    },
    {
      "cell_type": "markdown",
      "source": [
        "\n# Boxplot Demo\n\n\nExample boxplot code\n\n"
      ],
      "metadata": {}
    },
    {
      "cell_type": "code",
      "outputs": [],
      "source": [
        "import numpy as np\nimport matplotlib.pyplot as plt\n\n# Fixing random state for reproducibility\nnp.random.seed(19680801)\n\n# fake up some data\nspread = np.random.rand(50) * 100\ncenter = np.ones(25) * 50\nflier_high = np.random.rand(10) * 100 + 100\nflier_low = np.random.rand(10) * -100\ndata = np.concatenate((spread, center, flier_high, flier_low), 0)"
      ],
      "metadata": {
        "collapsed": false
      },
      "execution_count": null
    },
    {
      "cell_type": "code",
      "outputs": [],
      "source": [
        "fig1, ax1 = plt.subplots()\nax1.set_title('Basic Plot')\nax1.boxplot(data)"
      ],
      "metadata": {
        "collapsed": false
      },
      "execution_count": null
    },
    {
      "cell_type": "code",
      "outputs": [],
      "source": [
        "fig2, ax2 = plt.subplots()\nax2.set_title('Notched boxes')\nax2.boxplot(data, notch=True)"
      ],
      "metadata": {
        "collapsed": false
      },
      "execution_count": null
    },
    {
      "cell_type": "code",
      "outputs": [],
      "source": [
        "green_diamond = dict(markerfacecolor='g', marker='D')\nfig3, ax3 = plt.subplots()\nax3.set_title('Changed Outlier Symbols')\nax3.boxplot(data, flierprops=green_diamond)"
      ],
      "metadata": {
        "collapsed": false
      },
      "execution_count": null
    },
    {
      "cell_type": "code",
      "outputs": [],
      "source": [
        "fig4, ax4 = plt.subplots()\nax4.set_title('Hide Outlier Points')\nax4.boxplot(data, showfliers=False)"
      ],
      "metadata": {
        "collapsed": false
      },
      "execution_count": null
    },
    {
      "cell_type": "code",
      "outputs": [],
      "source": [
        "red_square = dict(markerfacecolor='r', marker='s')\nfig5, ax5 = plt.subplots()\nax5.set_title('Horizontal Boxes')\nax5.boxplot(data, vert=False, flierprops=red_square)"
      ],
      "metadata": {
        "collapsed": false
      },
      "execution_count": null
    },
    {
      "cell_type": "code",
      "outputs": [],
      "source": [
        "fig6, ax6 = plt.subplots()\nax6.set_title('Shorter Whisker Length')\nax6.boxplot(data, flierprops=red_square, vert=False, whis=0.75)"
      ],
      "metadata": {
        "collapsed": false
      },
      "execution_count": null
    },
    {
      "cell_type": "markdown",
      "source": [
        "Fake up some more data\n\n"
      ],
      "metadata": {}
    },
    {
      "cell_type": "code",
      "outputs": [],
      "source": [
        "spread = np.random.rand(50) * 100\ncenter = np.ones(25) * 40\nflier_high = np.random.rand(10) * 100 + 100\nflier_low = np.random.rand(10) * -100\nd2 = np.concatenate((spread, center, flier_high, flier_low), 0)\ndata.shape = (-1, 1)\nd2.shape = (-1, 1)"
      ],
      "metadata": {
        "collapsed": false
      },
      "execution_count": null
    },
    {
      "cell_type": "markdown",
      "source": [
        "Making a 2-D array only works if all the columns are the\nsame length.  If they are not, then use a list instead.\nThis is actually more efficient because boxplot converts\na 2-D array into a list of vectors internally anyway.\n\n"
      ],
      "metadata": {}
    },
    {
      "cell_type": "code",
      "outputs": [],
      "source": [
        "data = [data, d2, d2[::2,0]]\nfig7, ax7 = plt.subplots()\nax7.set_title('Multiple Samples with Different sizes')\nax7.boxplot(data)\n\nplt.show()"
      ],
      "metadata": {
        "collapsed": false
      },
      "execution_count": null
    }
  ],
  "nbformat": 4
}