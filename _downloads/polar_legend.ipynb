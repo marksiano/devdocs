{
  "nbformat_minor": 0,
  "metadata": {
    "kernelspec": {
      "language": "python",
      "name": "python3",
      "display_name": "Python 3"
    },
    "language_info": {
      "mimetype": "text/x-python",
      "codemirror_mode": {
        "version": 3,
        "name": "ipython"
      },
      "version": "3.5.4",
      "file_extension": ".py",
      "nbconvert_exporter": "python",
      "pygments_lexer": "ipython3",
      "name": "python"
    }
  },
  "cells": [
    {
      "cell_type": "code",
      "outputs": [],
      "source": [
        "%matplotlib inline"
      ],
      "metadata": {
        "collapsed": false
      },
      "execution_count": null
    },
    {
      "cell_type": "markdown",
      "source": [
        "\n# Polar Legend\n\n\nDemo of a legend on a polar-axis plot.\n\n"
      ],
      "metadata": {}
    },
    {
      "cell_type": "code",
      "outputs": [],
      "source": [
        "import numpy as np\nfrom matplotlib.pyplot import figure, show, rc\n\n# radar green, solid grid lines\nrc('grid', color='#316931', linewidth=1, linestyle='-')\nrc('xtick', labelsize=15)\nrc('ytick', labelsize=15)\n\n# force square figure and square axes looks better for polar, IMO\nfig = figure(figsize=(8, 8))\nax = fig.add_axes([0.1, 0.1, 0.8, 0.8],\n                  projection='polar', facecolor='#d5de9c')\n\nr = np.arange(0, 3.0, 0.01)\ntheta = 2 * np.pi * r\nax.plot(theta, r, color='#ee8d18', lw=3, label='a line')\nax.plot(0.5 * theta, r, color='blue', ls='--', lw=3, label='another line')\nax.legend()\n\nshow()"
      ],
      "metadata": {
        "collapsed": false
      },
      "execution_count": null
    }
  ],
  "nbformat": 4
}