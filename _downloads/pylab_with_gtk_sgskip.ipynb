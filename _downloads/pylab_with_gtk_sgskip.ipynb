{
  "nbformat_minor": 0,
  "metadata": {
    "kernelspec": {
      "language": "python",
      "name": "python3",
      "display_name": "Python 3"
    },
    "language_info": {
      "mimetype": "text/x-python",
      "codemirror_mode": {
        "version": 3,
        "name": "ipython"
      },
      "version": "3.5.4",
      "file_extension": ".py",
      "nbconvert_exporter": "python",
      "pygments_lexer": "ipython3",
      "name": "python"
    }
  },
  "cells": [
    {
      "cell_type": "code",
      "outputs": [],
      "source": [
        "%matplotlib inline"
      ],
      "metadata": {
        "collapsed": false
      },
      "execution_count": null
    },
    {
      "cell_type": "markdown",
      "source": [
        "\n# Pylab With GTK\n\n\nAn example of how to use pylab to manage your figure windows, but\nmodify the GUI by accessing the underlying gtk widgets\n\n"
      ],
      "metadata": {}
    },
    {
      "cell_type": "code",
      "outputs": [],
      "source": [
        "from __future__ import print_function\nimport matplotlib\nmatplotlib.use('GTKAgg')\nimport matplotlib.pyplot as plt\n\n\nfig, ax = plt.subplots()\nplt.plot([1, 2, 3], 'ro-', label='easy as 1 2 3')\nplt.plot([1, 4, 9], 'gs--', label='easy as 1 2 3 squared')\nplt.legend()\n\n\nmanager = plt.get_current_fig_manager()\n# you can also access the window or vbox attributes this way\ntoolbar = manager.toolbar\n\n# now let's add a button to the toolbar\nimport gtk\nnext = 8  # where to insert this in the mpl toolbar\nbutton = gtk.Button('Click me')\nbutton.show()\n\n\ndef clicked(button):\n    print('hi mom')\nbutton.connect('clicked', clicked)\n\ntoolitem = gtk.ToolItem()\ntoolitem.show()\ntoolitem.set_tooltip(\n    toolbar.tooltips,\n    'Click me for fun and profit')\n\ntoolitem.add(button)\ntoolbar.insert(toolitem, next)\nnext += 1\n\n# now let's add a widget to the vbox\nlabel = gtk.Label()\nlabel.set_markup('Drag mouse over axes for position')\nlabel.show()\nvbox = manager.vbox\nvbox.pack_start(label, False, False)\nvbox.reorder_child(manager.toolbar, -1)\n\n\ndef update(event):\n    if event.xdata is None:\n        label.set_markup('Drag mouse over axes for position')\n    else:\n        label.set_markup('<span color=\"#ef0000\">x,y=(%f, %f)</span>' % (event.xdata, event.ydata))\n\nplt.connect('motion_notify_event', update)\n\nplt.show()"
      ],
      "metadata": {
        "collapsed": false
      },
      "execution_count": null
    }
  ],
  "nbformat": 4
}