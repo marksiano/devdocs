{
  "nbformat_minor": 0,
  "metadata": {
    "kernelspec": {
      "language": "python",
      "name": "python3",
      "display_name": "Python 3"
    },
    "language_info": {
      "mimetype": "text/x-python",
      "codemirror_mode": {
        "version": 3,
        "name": "ipython"
      },
      "version": "3.5.4",
      "file_extension": ".py",
      "nbconvert_exporter": "python",
      "pygments_lexer": "ipython3",
      "name": "python"
    }
  },
  "cells": [
    {
      "cell_type": "code",
      "outputs": [],
      "source": [
        "%matplotlib inline"
      ],
      "metadata": {
        "collapsed": false
      },
      "execution_count": null
    },
    {
      "cell_type": "markdown",
      "source": [
        "\n# Patheffect Demo\n\n\n\n"
      ],
      "metadata": {}
    },
    {
      "cell_type": "code",
      "outputs": [],
      "source": [
        "import matplotlib.pyplot as plt\nimport matplotlib.patheffects as PathEffects\nimport numpy as np\n\nif 1:\n    plt.figure(1, figsize=(8, 3))\n    ax1 = plt.subplot(131)\n    ax1.imshow([[1, 2], [2, 3]])\n    txt = ax1.annotate(\"test\", (1., 1.), (0., 0),\n                       arrowprops=dict(arrowstyle=\"->\",\n                                       connectionstyle=\"angle3\", lw=2),\n                       size=20, ha=\"center\",\n                       path_effects=[PathEffects.withStroke(linewidth=3,\n                                                            foreground=\"w\")])\n    txt.arrow_patch.set_path_effects([\n        PathEffects.Stroke(linewidth=5, foreground=\"w\"),\n        PathEffects.Normal()])\n\n    pe = [PathEffects.withStroke(linewidth=3,\n                                 foreground=\"w\")]\n    ax1.grid(True, linestyle=\"-\", path_effects=pe)\n\n    ax2 = plt.subplot(132)\n    arr = np.arange(25).reshape((5, 5))\n    ax2.imshow(arr)\n    cntr = ax2.contour(arr, colors=\"k\")\n\n    plt.setp(cntr.collections, path_effects=[\n        PathEffects.withStroke(linewidth=3, foreground=\"w\")])\n\n    clbls = ax2.clabel(cntr, fmt=\"%2.0f\", use_clabeltext=True)\n    plt.setp(clbls, path_effects=[\n        PathEffects.withStroke(linewidth=3, foreground=\"w\")])\n\n    # shadow as a path effect\n    ax3 = plt.subplot(133)\n    p1, = ax3.plot([0, 1], [0, 1])\n    leg = ax3.legend([p1], [\"Line 1\"], fancybox=True, loc=2)\n    leg.legendPatch.set_path_effects([PathEffects.withSimplePatchShadow()])\n\n    plt.show()"
      ],
      "metadata": {
        "collapsed": false
      },
      "execution_count": null
    }
  ],
  "nbformat": 4
}