{
  "nbformat_minor": 0,
  "metadata": {
    "kernelspec": {
      "language": "python",
      "name": "python3",
      "display_name": "Python 3"
    },
    "language_info": {
      "mimetype": "text/x-python",
      "codemirror_mode": {
        "version": 3,
        "name": "ipython"
      },
      "version": "3.5.4",
      "file_extension": ".py",
      "nbconvert_exporter": "python",
      "pygments_lexer": "ipython3",
      "name": "python"
    }
  },
  "cells": [
    {
      "cell_type": "code",
      "outputs": [],
      "source": [
        "%matplotlib inline"
      ],
      "metadata": {
        "collapsed": false
      },
      "execution_count": null
    },
    {
      "cell_type": "markdown",
      "source": [
        "\n# Nan Test\n\n\nExample: simple line plots with NaNs inserted.\n\n"
      ],
      "metadata": {}
    },
    {
      "cell_type": "code",
      "outputs": [],
      "source": [
        "import numpy as np\nimport matplotlib.pyplot as plt\n\nt = np.arange(0.0, 1.0 + 0.01, 0.01)\ns = np.cos(2 * 2*np.pi * t)\nt[41:60] = np.nan\n\nplt.subplot(2, 1, 1)\nplt.plot(t, s, '-', lw=2)\n\nplt.xlabel('time (s)')\nplt.ylabel('voltage (mV)')\nplt.title('A sine wave with a gap of NaNs between 0.4 and 0.6')\nplt.grid(True)\n\nplt.subplot(2, 1, 2)\nt[0] = np.nan\nt[-1] = np.nan\nplt.plot(t, s, '-', lw=2)\nplt.title('Also with NaN in first and last point')\n\nplt.xlabel('time (s)')\nplt.ylabel('more nans')\nplt.grid(True)\n\nplt.tight_layout()\nplt.show()"
      ],
      "metadata": {
        "collapsed": false
      },
      "execution_count": null
    }
  ],
  "nbformat": 4
}