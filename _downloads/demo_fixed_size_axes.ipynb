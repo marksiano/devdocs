{
  "nbformat_minor": 0,
  "metadata": {
    "kernelspec": {
      "language": "python",
      "name": "python3",
      "display_name": "Python 3"
    },
    "language_info": {
      "mimetype": "text/x-python",
      "codemirror_mode": {
        "version": 3,
        "name": "ipython"
      },
      "version": "3.5.4",
      "file_extension": ".py",
      "nbconvert_exporter": "python",
      "pygments_lexer": "ipython3",
      "name": "python"
    }
  },
  "cells": [
    {
      "cell_type": "code",
      "outputs": [],
      "source": [
        "%matplotlib inline"
      ],
      "metadata": {
        "collapsed": false
      },
      "execution_count": null
    },
    {
      "cell_type": "markdown",
      "source": [
        "\n# Demo Fixed Size Axes\n\n\n\n"
      ],
      "metadata": {}
    },
    {
      "cell_type": "code",
      "outputs": [],
      "source": [
        "import matplotlib.pyplot as plt\n\nfrom mpl_toolkits.axes_grid1 import Divider, LocatableAxes, Size\n\n\ndef demo_fixed_size_axes():\n    fig1 = plt.figure(1, (6, 6))\n\n    # The first items are for padding and the second items are for the axes.\n    # sizes are in inch.\n    h = [Size.Fixed(1.0), Size.Fixed(4.5)]\n    v = [Size.Fixed(0.7), Size.Fixed(5.)]\n\n    divider = Divider(fig1, (0.0, 0.0, 1., 1.), h, v, aspect=False)\n    # the width and height of the rectangle is ignored.\n\n    ax = LocatableAxes(fig1, divider.get_position())\n    ax.set_axes_locator(divider.new_locator(nx=1, ny=1))\n\n    fig1.add_axes(ax)\n\n    ax.plot([1, 2, 3])\n\n\ndef demo_fixed_pad_axes():\n    fig = plt.figure(2, (6, 6))\n\n    # The first & third items are for padding and the second items are for the\n    # axes. Sizes are in inches.\n    h = [Size.Fixed(1.0), Size.Scaled(1.), Size.Fixed(.2)]\n    v = [Size.Fixed(0.7), Size.Scaled(1.), Size.Fixed(.5)]\n\n    divider = Divider(fig, (0.0, 0.0, 1., 1.), h, v, aspect=False)\n    # the width and height of the rectangle is ignored.\n\n    ax = LocatableAxes(fig, divider.get_position())\n    ax.set_axes_locator(divider.new_locator(nx=1, ny=1))\n\n    fig.add_axes(ax)\n\n    ax.plot([1, 2, 3])\n\n\nif __name__ == \"__main__\":\n    demo_fixed_size_axes()\n    demo_fixed_pad_axes()\n\n    plt.show()"
      ],
      "metadata": {
        "collapsed": false
      },
      "execution_count": null
    }
  ],
  "nbformat": 4
}