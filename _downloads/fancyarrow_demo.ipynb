{
  "nbformat_minor": 0,
  "metadata": {
    "kernelspec": {
      "language": "python",
      "name": "python3",
      "display_name": "Python 3"
    },
    "language_info": {
      "mimetype": "text/x-python",
      "codemirror_mode": {
        "version": 3,
        "name": "ipython"
      },
      "version": "3.5.4",
      "file_extension": ".py",
      "nbconvert_exporter": "python",
      "pygments_lexer": "ipython3",
      "name": "python"
    }
  },
  "cells": [
    {
      "cell_type": "code",
      "outputs": [],
      "source": [
        "%matplotlib inline"
      ],
      "metadata": {
        "collapsed": false
      },
      "execution_count": null
    },
    {
      "cell_type": "markdown",
      "source": [
        "\n# Fancyarrow Demo\n\n\n\n"
      ],
      "metadata": {}
    },
    {
      "cell_type": "code",
      "outputs": [],
      "source": [
        "import matplotlib.patches as mpatches\nimport matplotlib.pyplot as plt\n\nstyles = mpatches.ArrowStyle.get_styles()\n\nncol = 2\nnrow = (len(styles) + 1) // ncol\nfigheight = (nrow + 0.5)\nfig1 = plt.figure(1, (4 * ncol / 1.5, figheight / 1.5))\nfontsize = 0.2 * 70\n\n\nax = fig1.add_axes([0, 0, 1, 1], frameon=False, aspect=1.)\n\nax.set_xlim(0, 4 * ncol)\nax.set_ylim(0, figheight)\n\n\ndef to_texstring(s):\n    s = s.replace(\"<\", r\"$<$\")\n    s = s.replace(\">\", r\"$>$\")\n    s = s.replace(\"|\", r\"$|$\")\n    return s\n\n\nfor i, (stylename, styleclass) in enumerate(sorted(styles.items())):\n    x = 3.2 + (i // nrow) * 4\n    y = (figheight - 0.7 - i % nrow)  # /figheight\n    p = mpatches.Circle((x, y), 0.2)\n    ax.add_patch(p)\n\n    ax.annotate(to_texstring(stylename), (x, y),\n                (x - 1.2, y),\n                ha=\"right\", va=\"center\",\n                size=fontsize,\n                arrowprops=dict(arrowstyle=stylename,\n                                patchB=p,\n                                shrinkA=5,\n                                shrinkB=5,\n                                fc=\"k\", ec=\"k\",\n                                connectionstyle=\"arc3,rad=-0.05\",\n                                ),\n                bbox=dict(boxstyle=\"square\", fc=\"w\"))\n\nax.xaxis.set_visible(False)\nax.yaxis.set_visible(False)\n\n\nplt.draw()\nplt.show()"
      ],
      "metadata": {
        "collapsed": false
      },
      "execution_count": null
    }
  ],
  "nbformat": 4
}