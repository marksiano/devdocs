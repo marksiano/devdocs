{
  "nbformat_minor": 0,
  "metadata": {
    "kernelspec": {
      "language": "python",
      "name": "python3",
      "display_name": "Python 3"
    },
    "language_info": {
      "mimetype": "text/x-python",
      "codemirror_mode": {
        "version": 3,
        "name": "ipython"
      },
      "version": "3.5.4",
      "file_extension": ".py",
      "nbconvert_exporter": "python",
      "pygments_lexer": "ipython3",
      "name": "python"
    }
  },
  "cells": [
    {
      "cell_type": "code",
      "outputs": [],
      "source": [
        "%matplotlib inline"
      ],
      "metadata": {
        "collapsed": false
      },
      "execution_count": null
    },
    {
      "cell_type": "markdown",
      "source": [
        "\n# Usetex Fonteffects\n\n\nThis script demonstrates that font effects specified in your pdftex.map\nare now supported in pdf usetex.\n\n"
      ],
      "metadata": {}
    },
    {
      "cell_type": "code",
      "outputs": [],
      "source": [
        "import matplotlib\nimport matplotlib.pyplot as plt\nmatplotlib.rc('text', usetex=True)\n\n\ndef setfont(font):\n    return r'\\font\\a %s at 14pt\\a ' % font\n\n\nfor y, font, text in zip(range(5),\n                         ['ptmr8r', 'ptmri8r', 'ptmro8r',\n                          'ptmr8rn', 'ptmrr8re'],\n                         ['Nimbus Roman No9 L ' + x for x in\n                          ['', 'Italics (real italics for comparison)',\n                           '(slanted)', '(condensed)', '(extended)']]):\n    plt.text(0, y, setfont(font) + text)\n\nplt.ylim(-1, 5)\nplt.xlim(-0.2, 0.6)\nplt.setp(plt.gca(), frame_on=False, xticks=(), yticks=())\nplt.title('Usetex font effects')\nplt.savefig('usetex_fonteffects.pdf')"
      ],
      "metadata": {
        "collapsed": false
      },
      "execution_count": null
    }
  ],
  "nbformat": 4
}