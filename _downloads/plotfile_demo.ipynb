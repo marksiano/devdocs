{
  "nbformat_minor": 0,
  "metadata": {
    "kernelspec": {
      "language": "python",
      "name": "python3",
      "display_name": "Python 3"
    },
    "language_info": {
      "mimetype": "text/x-python",
      "codemirror_mode": {
        "version": 3,
        "name": "ipython"
      },
      "version": "3.5.4",
      "file_extension": ".py",
      "nbconvert_exporter": "python",
      "pygments_lexer": "ipython3",
      "name": "python"
    }
  },
  "cells": [
    {
      "cell_type": "code",
      "outputs": [],
      "source": [
        "%matplotlib inline"
      ],
      "metadata": {
        "collapsed": false
      },
      "execution_count": null
    },
    {
      "cell_type": "markdown",
      "source": [
        "\n# Plotfile Demo\n\n\nExample use of ``plotfile`` to plot data directly from a file.\n\n"
      ],
      "metadata": {}
    },
    {
      "cell_type": "code",
      "outputs": [],
      "source": [
        "import matplotlib.pyplot as plt\nimport numpy as np\n\nimport matplotlib.cbook as cbook\n\nfname = cbook.get_sample_data('msft.csv', asfileobj=False)\nfname2 = cbook.get_sample_data('data_x_x2_x3.csv', asfileobj=False)\n\n# test 1; use ints\nplt.plotfile(fname, (0, 5, 6))\n\n# test 2; use names\nplt.plotfile(fname, ('date', 'volume', 'adj_close'))\n\n# test 3; use semilogy for volume\nplt.plotfile(fname, ('date', 'volume', 'adj_close'),\n             plotfuncs={'volume': 'semilogy'})\n\n# test 4; use semilogy for volume\nplt.plotfile(fname, (0, 5, 6), plotfuncs={5: 'semilogy'})\n\n# test 5; single subplot\nplt.plotfile(fname, ('date', 'open', 'high', 'low', 'close'), subplots=False)\n\n# test 6; labeling, if no names in csv-file\nplt.plotfile(fname2, cols=(0, 1, 2), delimiter=' ',\n             names=['$x$', '$f(x)=x^2$', '$f(x)=x^3$'])\n\n# test 7; more than one file per figure--illustrated here with a single file\nplt.plotfile(fname2, cols=(0, 1), delimiter=' ')\nplt.plotfile(fname2, cols=(0, 2), newfig=False,\n             delimiter=' ')  # use current figure\nplt.xlabel(r'$x$')\nplt.ylabel(r'$f(x) = x^2, x^3$')\n\n# test 8; use bar for volume\nplt.plotfile(fname, (0, 5, 6), plotfuncs={5: 'bar'})\n\nplt.show()"
      ],
      "metadata": {
        "collapsed": false
      },
      "execution_count": null
    }
  ],
  "nbformat": 4
}