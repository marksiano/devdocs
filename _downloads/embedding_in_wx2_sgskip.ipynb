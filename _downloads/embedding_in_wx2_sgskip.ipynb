{
  "nbformat_minor": 0,
  "metadata": {
    "kernelspec": {
      "language": "python",
      "name": "python3",
      "display_name": "Python 3"
    },
    "language_info": {
      "mimetype": "text/x-python",
      "codemirror_mode": {
        "version": 3,
        "name": "ipython"
      },
      "version": "3.5.4",
      "file_extension": ".py",
      "nbconvert_exporter": "python",
      "pygments_lexer": "ipython3",
      "name": "python"
    }
  },
  "cells": [
    {
      "cell_type": "code",
      "outputs": [],
      "source": [
        "%matplotlib inline"
      ],
      "metadata": {
        "collapsed": false
      },
      "execution_count": null
    },
    {
      "cell_type": "markdown",
      "source": [
        "\n# Embedding In Wx2\n\n\nAn example of how to use wxagg in an application with the new\ntoolbar - comment out the add_toolbar line for no toolbar\n\n"
      ],
      "metadata": {}
    },
    {
      "cell_type": "code",
      "outputs": [],
      "source": [
        "from numpy import arange, sin, pi\n\nimport matplotlib\n\nmatplotlib.use('WXAgg')\nfrom matplotlib.backends.backend_wxagg import FigureCanvasWxAgg as FigureCanvas\n\nfrom matplotlib.backends.backend_wx import NavigationToolbar2Wx\n\nfrom matplotlib.figure import Figure\n\nimport wx\nimport wx.lib.mixins.inspection as WIT\n\n\nclass CanvasFrame(wx.Frame):\n    def __init__(self):\n        wx.Frame.__init__(self, None, -1,\n                          'CanvasFrame', size=(550, 350))\n\n        self.figure = Figure()\n        self.axes = self.figure.add_subplot(111)\n        t = arange(0.0, 3.0, 0.01)\n        s = sin(2 * pi * t)\n\n        self.axes.plot(t, s)\n        self.canvas = FigureCanvas(self, -1, self.figure)\n\n        self.sizer = wx.BoxSizer(wx.VERTICAL)\n        self.sizer.Add(self.canvas, 1, wx.LEFT | wx.TOP | wx.EXPAND)\n        self.SetSizer(self.sizer)\n        self.Fit()\n\n        self.add_toolbar()  # comment this out for no toolbar\n\n    def add_toolbar(self):\n        self.toolbar = NavigationToolbar2Wx(self.canvas)\n        self.toolbar.Realize()\n        # By adding toolbar in sizer, we are able to put it at the bottom\n        # of the frame - so appearance is closer to GTK version.\n        self.sizer.Add(self.toolbar, 0, wx.LEFT | wx.EXPAND)\n        # update the axes menu on the toolbar\n        self.toolbar.update()\n\n\n# alternatively you could use\n#class App(wx.App):\nclass App(WIT.InspectableApp):\n    def OnInit(self):\n        'Create the main window and insert the custom frame'\n        self.Init()\n        frame = CanvasFrame()\n        frame.Show(True)\n\n        return True\n\napp = App(0)\napp.MainLoop()"
      ],
      "metadata": {
        "collapsed": false
      },
      "execution_count": null
    }
  ],
  "nbformat": 4
}