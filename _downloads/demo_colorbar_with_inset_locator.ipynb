{
  "nbformat_minor": 0,
  "metadata": {
    "kernelspec": {
      "language": "python",
      "name": "python3",
      "display_name": "Python 3"
    },
    "language_info": {
      "mimetype": "text/x-python",
      "codemirror_mode": {
        "version": 3,
        "name": "ipython"
      },
      "version": "3.5.4",
      "file_extension": ".py",
      "nbconvert_exporter": "python",
      "pygments_lexer": "ipython3",
      "name": "python"
    }
  },
  "cells": [
    {
      "cell_type": "code",
      "outputs": [],
      "source": [
        "%matplotlib inline"
      ],
      "metadata": {
        "collapsed": false
      },
      "execution_count": null
    },
    {
      "cell_type": "markdown",
      "source": [
        "\n# Demo Colorbar With Inset Locator\n\n\n\n"
      ],
      "metadata": {}
    },
    {
      "cell_type": "code",
      "outputs": [],
      "source": [
        "import matplotlib.pyplot as plt\n\nfrom mpl_toolkits.axes_grid1.inset_locator import inset_axes\n\nfig, (ax1, ax2) = plt.subplots(1, 2, figsize=[6, 3])\n\naxins1 = inset_axes(ax1,\n                    width=\"50%\",  # width = 10% of parent_bbox width\n                    height=\"5%\",  # height : 50%\n                    loc=1)\n\nim1 = ax1.imshow([[1, 2], [2, 3]])\nplt.colorbar(im1, cax=axins1, orientation=\"horizontal\", ticks=[1, 2, 3])\naxins1.xaxis.set_ticks_position(\"bottom\")\n\naxins = inset_axes(ax2,\n                   width=\"5%\",  # width = 10% of parent_bbox width\n                   height=\"50%\",  # height : 50%\n                   loc=3,\n                   bbox_to_anchor=(1.05, 0., 1, 1),\n                   bbox_transform=ax2.transAxes,\n                   borderpad=0,\n                   )\n\n# Controlling the placement of the inset axes is basically same as that\n# of the legend.  you may want to play with the borderpad value and\n# the bbox_to_anchor coordinate.\n\nim = ax2.imshow([[1, 2], [2, 3]])\nplt.colorbar(im, cax=axins, ticks=[1, 2, 3])\n\nplt.draw()\nplt.show()"
      ],
      "metadata": {
        "collapsed": false
      },
      "execution_count": null
    }
  ],
  "nbformat": 4
}