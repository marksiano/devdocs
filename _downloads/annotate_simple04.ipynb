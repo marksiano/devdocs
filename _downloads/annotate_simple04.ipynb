{
  "nbformat_minor": 0,
  "metadata": {
    "kernelspec": {
      "language": "python",
      "name": "python3",
      "display_name": "Python 3"
    },
    "language_info": {
      "mimetype": "text/x-python",
      "codemirror_mode": {
        "version": 3,
        "name": "ipython"
      },
      "version": "3.5.4",
      "file_extension": ".py",
      "nbconvert_exporter": "python",
      "pygments_lexer": "ipython3",
      "name": "python"
    }
  },
  "cells": [
    {
      "cell_type": "code",
      "outputs": [],
      "source": [
        "%matplotlib inline"
      ],
      "metadata": {
        "collapsed": false
      },
      "execution_count": null
    },
    {
      "cell_type": "markdown",
      "source": [
        "\n# Annotate Simple04\n\n\n\n"
      ],
      "metadata": {}
    },
    {
      "cell_type": "code",
      "outputs": [],
      "source": [
        "import matplotlib.pyplot as plt\n\n\nfig, ax = plt.subplots(figsize=(3, 3))\n\nann = ax.annotate(\"Test\",\n                  xy=(0.2, 0.2), xycoords='data',\n                  xytext=(0.8, 0.8), textcoords='data',\n                  size=20, va=\"center\", ha=\"center\",\n                  bbox=dict(boxstyle=\"round4\", fc=\"w\"),\n                  arrowprops=dict(arrowstyle=\"-|>\",\n                                  connectionstyle=\"arc3,rad=0.2\",\n                                  relpos=(0., 0.),\n                                  fc=\"w\"),\n                  )\n\nann = ax.annotate(\"Test\",\n                  xy=(0.2, 0.2), xycoords='data',\n                  xytext=(0.8, 0.8), textcoords='data',\n                  size=20, va=\"center\", ha=\"center\",\n                  bbox=dict(boxstyle=\"round4\", fc=\"w\"),\n                  arrowprops=dict(arrowstyle=\"-|>\",\n                                  connectionstyle=\"arc3,rad=-0.2\",\n                                  relpos=(1., 0.),\n                                  fc=\"w\"),\n                  )\n\nplt.show()"
      ],
      "metadata": {
        "collapsed": false
      },
      "execution_count": null
    }
  ],
  "nbformat": 4
}