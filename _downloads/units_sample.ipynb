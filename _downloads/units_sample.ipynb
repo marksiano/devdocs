{
  "nbformat_minor": 0,
  "metadata": {
    "kernelspec": {
      "language": "python",
      "name": "python3",
      "display_name": "Python 3"
    },
    "language_info": {
      "mimetype": "text/x-python",
      "codemirror_mode": {
        "version": 3,
        "name": "ipython"
      },
      "version": "3.5.4",
      "file_extension": ".py",
      "nbconvert_exporter": "python",
      "pygments_lexer": "ipython3",
      "name": "python"
    }
  },
  "cells": [
    {
      "cell_type": "code",
      "outputs": [],
      "source": [
        "%matplotlib inline"
      ],
      "metadata": {
        "collapsed": false
      },
      "execution_count": null
    },
    {
      "cell_type": "markdown",
      "source": [
        "\n# Inches and Centimeters\n\n\nThe example illustrates the ability to override default x and y units (ax1) to\ninches and centimeters using the `xunits` and `yunits` parameters for the\n`plot` function. Note that conversions are applied to get numbers to correct\nunits.\n\n.. only:: builder_html\n\n   This example requires :download:`basic_units.py <basic_units.py>`\n\n\n"
      ],
      "metadata": {}
    },
    {
      "cell_type": "code",
      "outputs": [],
      "source": [
        "from basic_units import cm, inch\nimport matplotlib.pyplot as plt\nimport numpy as np\n\ncms = cm * np.arange(0, 10, 2)\n\nfig = plt.figure()\n\nax1 = fig.add_subplot(2, 2, 1)\nax1.plot(cms, cms)\n\nax2 = fig.add_subplot(2, 2, 2)\nax2.plot(cms, cms, xunits=cm, yunits=inch)\n\nax3 = fig.add_subplot(2, 2, 3)\nax3.plot(cms, cms, xunits=inch, yunits=cm)\nax3.set_xlim(3, 6)  # scalars are interpreted in current units\n\nax4 = fig.add_subplot(2, 2, 4)\nax4.plot(cms, cms, xunits=inch, yunits=inch)\nax4.set_xlim(3*cm, 6*cm)  # cm are converted to inches\n\nplt.show()"
      ],
      "metadata": {
        "collapsed": false
      },
      "execution_count": null
    }
  ],
  "nbformat": 4
}