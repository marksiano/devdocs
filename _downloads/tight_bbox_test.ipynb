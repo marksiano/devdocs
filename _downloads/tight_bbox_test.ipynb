{
  "nbformat_minor": 0,
  "metadata": {
    "kernelspec": {
      "language": "python",
      "name": "python3",
      "display_name": "Python 3"
    },
    "language_info": {
      "mimetype": "text/x-python",
      "codemirror_mode": {
        "version": 3,
        "name": "ipython"
      },
      "version": "3.5.4",
      "file_extension": ".py",
      "nbconvert_exporter": "python",
      "pygments_lexer": "ipython3",
      "name": "python"
    }
  },
  "cells": [
    {
      "cell_type": "code",
      "outputs": [],
      "source": [
        "%matplotlib inline"
      ],
      "metadata": {
        "collapsed": false
      },
      "execution_count": null
    },
    {
      "cell_type": "markdown",
      "source": [
        "\n# Tight Bbox Test\n\n\n\n"
      ],
      "metadata": {}
    },
    {
      "cell_type": "code",
      "outputs": [],
      "source": [
        "from __future__ import print_function\nimport matplotlib.pyplot as plt\nimport numpy as np\n\nax = plt.axes([0.1, 0.3, 0.5, 0.5])\n\nax.pcolormesh(np.array([[1, 2], [3, 4]]))\nplt.yticks([0.5, 1.5], [\"long long tick label\",\n                        \"tick label\"])\nplt.ylabel(\"My y-label\")\nplt.title(\"Check saved figures for their bboxes\")\nfor ext in [\"png\", \"pdf\", \"svg\", \"svgz\", \"eps\"]:\n    print(\"saving tight_bbox_test.%s\" % (ext,))\n    plt.savefig(\"tight_bbox_test.%s\" % (ext,), bbox_inches=\"tight\")\nplt.show()"
      ],
      "metadata": {
        "collapsed": false
      },
      "execution_count": null
    }
  ],
  "nbformat": 4
}