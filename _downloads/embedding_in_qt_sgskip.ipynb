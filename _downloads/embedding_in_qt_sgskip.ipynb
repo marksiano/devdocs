{
  "nbformat_minor": 0,
  "metadata": {
    "kernelspec": {
      "language": "python",
      "name": "python3",
      "display_name": "Python 3"
    },
    "language_info": {
      "mimetype": "text/x-python",
      "codemirror_mode": {
        "version": 3,
        "name": "ipython"
      },
      "version": "3.5.4",
      "file_extension": ".py",
      "nbconvert_exporter": "python",
      "pygments_lexer": "ipython3",
      "name": "python"
    }
  },
  "cells": [
    {
      "cell_type": "code",
      "outputs": [],
      "source": [
        "%matplotlib inline"
      ],
      "metadata": {
        "collapsed": false
      },
      "execution_count": null
    },
    {
      "cell_type": "markdown",
      "source": [
        "\n# Embedding in Qt\n\n\nSimple Qt application embedding Matplotlib canvases.  This program will work\nequally well using Qt4 and Qt5.  Either version of Qt can be selected (for\nexample) by setting the ``MPLBACKEND`` environment variable to \"Qt4Agg\" or\n\"Qt5Agg\", or by first importing the desired version of PyQt.\n\n"
      ],
      "metadata": {}
    },
    {
      "cell_type": "code",
      "outputs": [],
      "source": [
        "import sys\nimport time\n\nimport numpy as np\n\nfrom matplotlib.backends.qt_compat import QtCore, QtWidgets, is_pyqt5\nif is_pyqt5():\n    from matplotlib.backends.backend_qt5agg import (\n        FigureCanvas, NavigationToolbar2QT as NavigationToolbar)\nelse:\n    from matplotlib.backends.backend_qt4agg import (\n        FigureCanvas, NavigationToolbar2QT as NavigationToolbar)\nfrom matplotlib.figure import Figure\n\n\nclass ApplicationWindow(QtWidgets.QMainWindow):\n    def __init__(self):\n        super(ApplicationWindow, self).__init__()\n        self._main = QtWidgets.QWidget()\n        self.setCentralWidget(self._main)\n        layout = QtWidgets.QVBoxLayout(self._main)\n\n        static_canvas = FigureCanvas(Figure(figsize=(5, 3)))\n        layout.addWidget(static_canvas)\n        self.addToolBar(NavigationToolbar(static_canvas, self))\n\n        dynamic_canvas = FigureCanvas(Figure(figsize=(5, 3)))\n        layout.addWidget(dynamic_canvas)\n        self.addToolBar(QtCore.Qt.BottomToolBarArea,\n                        NavigationToolbar(dynamic_canvas, self))\n\n        self._static_ax = static_canvas.figure.subplots()\n        t = np.linspace(0, 10, 501)\n        self._static_ax.plot(t, np.tan(t), \".\")\n\n        self._dynamic_ax = dynamic_canvas.figure.subplots()\n        self._timer = dynamic_canvas.new_timer(\n            100, [(self._update_canvas, (), {})])\n        self._timer.start()\n\n    def _update_canvas(self):\n        self._dynamic_ax.clear()\n        t = np.linspace(0, 10, 101)\n        # Shift the sinusoid as a function of time.\n        self._dynamic_ax.plot(t, np.sin(t + time.time()))\n        self._dynamic_ax.figure.canvas.draw()\n\n\nif __name__ == \"__main__\":\n    qapp = QtWidgets.QApplication(sys.argv)\n    app = ApplicationWindow()\n    app.show()\n    qapp.exec_()"
      ],
      "metadata": {
        "collapsed": false
      },
      "execution_count": null
    }
  ],
  "nbformat": 4
}