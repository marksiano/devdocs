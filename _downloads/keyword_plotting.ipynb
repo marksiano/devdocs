{
  "nbformat_minor": 0,
  "metadata": {
    "kernelspec": {
      "language": "python",
      "name": "python3",
      "display_name": "Python 3"
    },
    "language_info": {
      "mimetype": "text/x-python",
      "codemirror_mode": {
        "version": 3,
        "name": "ipython"
      },
      "version": "3.5.4",
      "file_extension": ".py",
      "nbconvert_exporter": "python",
      "pygments_lexer": "ipython3",
      "name": "python"
    }
  },
  "cells": [
    {
      "cell_type": "code",
      "outputs": [],
      "source": [
        "%matplotlib inline"
      ],
      "metadata": {
        "collapsed": false
      },
      "execution_count": null
    },
    {
      "cell_type": "markdown",
      "source": [
        "\n# Plotting with keywords\n\n\nThere are some instances where you have data in a format that lets you\naccess particular variables with strings. For example, with\n:class:`numpy.recarray` or :class:`pandas.DataFrame`.\n\nMatplotlib allows you provide such an object with the ``data`` keyword\nargument. If provided, then you may generate plots with the strings\ncorresponding to these variables.\n\n"
      ],
      "metadata": {}
    },
    {
      "cell_type": "code",
      "outputs": [],
      "source": [
        "import numpy as np\nimport matplotlib.pyplot as plt\nnp.random.seed(19680801)\n\ndata = {'a': np.arange(50),\n        'c': np.random.randint(0, 50, 50),\n        'd': np.random.randn(50)}\ndata['b'] = data['a'] + 10 * np.random.randn(50)\ndata['d'] = np.abs(data['d']) * 100\n\nfig, ax = plt.subplots()\nax.scatter('a', 'b', c='c', s='d', data=data)\nax.set(xlabel='entry a', ylabel='entry b')\nplt.show()"
      ],
      "metadata": {
        "collapsed": false
      },
      "execution_count": null
    }
  ],
  "nbformat": 4
}