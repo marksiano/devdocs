{
  "nbformat_minor": 0,
  "metadata": {
    "kernelspec": {
      "language": "python",
      "name": "python3",
      "display_name": "Python 3"
    },
    "language_info": {
      "mimetype": "text/x-python",
      "codemirror_mode": {
        "version": 3,
        "name": "ipython"
      },
      "version": "3.5.4",
      "file_extension": ".py",
      "nbconvert_exporter": "python",
      "pygments_lexer": "ipython3",
      "name": "python"
    }
  },
  "cells": [
    {
      "cell_type": "code",
      "outputs": [],
      "source": [
        "%matplotlib inline"
      ],
      "metadata": {
        "collapsed": false
      },
      "execution_count": null
    },
    {
      "cell_type": "markdown",
      "source": [
        "\n# Solarized Light stylesheet\n\n\nThis shows an example of \"Solarized_Light\" styling, which\ntries to replicate the styles of:\n\n - `<http://ethanschoonover.com/solarized>`__\n - `<https://github.com/jrnold/ggthemes>`__\n - `<http://pygal.org/en/stable/documentation/builtin_styles.html#light-solarized>`__\n\nand work of:\n\n - `<https://github.com/tonysyu/mpltools>`__\n\nusing all 8 accents of the color palette - starting with blue\n\nToDo:\n    - Create alpha values for bar and stacked charts. .33 or .5\n    - Apply Layout Rules\n\n"
      ],
      "metadata": {}
    },
    {
      "cell_type": "code",
      "outputs": [],
      "source": [
        "from matplotlib import pyplot as plt\nimport numpy as np\nx = np.linspace(0, 10)\nwith plt.style.context('Solarize_Light2'):\n    plt.plot(x, np.sin(x) + x + np.random.randn(50))\n    plt.plot(x, np.sin(x) + 2 * x + np.random.randn(50))\n    plt.plot(x, np.sin(x) + 3 * x + np.random.randn(50))\n    plt.plot(x, np.sin(x) + 4 + np.random.randn(50))\n    plt.plot(x, np.sin(x) + 5 * x + np.random.randn(50))\n    plt.plot(x, np.sin(x) + 6 * x + np.random.randn(50))\n    plt.plot(x, np.sin(x) + 7 * x + np.random.randn(50))\n    plt.plot(x, np.sin(x) + 8 * x + np.random.randn(50))\n    # Number of accent colors in the color scheme\n    plt.title('8 Random Lines - Line')\n    plt.xlabel('x label', fontsize=14)\n    plt.ylabel('y label', fontsize=14)\n\nplt.show()"
      ],
      "metadata": {
        "collapsed": false
      },
      "execution_count": null
    }
  ],
  "nbformat": 4
}