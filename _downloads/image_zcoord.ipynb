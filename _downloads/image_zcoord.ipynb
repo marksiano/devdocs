{
  "nbformat_minor": 0,
  "metadata": {
    "kernelspec": {
      "language": "python",
      "name": "python3",
      "display_name": "Python 3"
    },
    "language_info": {
      "mimetype": "text/x-python",
      "codemirror_mode": {
        "version": 3,
        "name": "ipython"
      },
      "version": "3.5.4",
      "file_extension": ".py",
      "nbconvert_exporter": "python",
      "pygments_lexer": "ipython3",
      "name": "python"
    }
  },
  "cells": [
    {
      "cell_type": "code",
      "outputs": [],
      "source": [
        "%matplotlib inline"
      ],
      "metadata": {
        "collapsed": false
      },
      "execution_count": null
    },
    {
      "cell_type": "markdown",
      "source": [
        "\n# Modifying the coordinate formatter\n\n\nModify the coordinate formatter to report the image \"z\"\nvalue of the nearest pixel given x and y\n\n"
      ],
      "metadata": {}
    },
    {
      "cell_type": "code",
      "outputs": [],
      "source": [
        "import numpy as np\nimport matplotlib.pyplot as plt\n\n# Fixing random state for reproducibility\nnp.random.seed(19680801)\n\n\nX = 10*np.random.rand(5, 3)\n\nfig, ax = plt.subplots()\nax.imshow(X, interpolation='nearest')\n\nnumrows, numcols = X.shape\n\n\ndef format_coord(x, y):\n    col = int(x + 0.5)\n    row = int(y + 0.5)\n    if col >= 0 and col < numcols and row >= 0 and row < numrows:\n        z = X[row, col]\n        return 'x=%1.4f, y=%1.4f, z=%1.4f' % (x, y, z)\n    else:\n        return 'x=%1.4f, y=%1.4f' % (x, y)\n\nax.format_coord = format_coord\nplt.show()"
      ],
      "metadata": {
        "collapsed": false
      },
      "execution_count": null
    }
  ],
  "nbformat": 4
}