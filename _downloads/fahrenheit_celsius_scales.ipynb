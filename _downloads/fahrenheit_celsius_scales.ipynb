{
  "nbformat_minor": 0,
  "metadata": {
    "kernelspec": {
      "language": "python",
      "name": "python3",
      "display_name": "Python 3"
    },
    "language_info": {
      "mimetype": "text/x-python",
      "codemirror_mode": {
        "version": 3,
        "name": "ipython"
      },
      "version": "3.5.4",
      "file_extension": ".py",
      "nbconvert_exporter": "python",
      "pygments_lexer": "ipython3",
      "name": "python"
    }
  },
  "cells": [
    {
      "cell_type": "code",
      "outputs": [],
      "source": [
        "%matplotlib inline"
      ],
      "metadata": {
        "collapsed": false
      },
      "execution_count": null
    },
    {
      "cell_type": "markdown",
      "source": [
        "\n# Different scales on the same axes\n\n\nDemo of how to display two scales on the left and right y axis.\n\nThis example uses the Fahrenheit and Celsius scales.\n\n"
      ],
      "metadata": {}
    },
    {
      "cell_type": "code",
      "outputs": [],
      "source": [
        "import matplotlib.pyplot as plt\nimport numpy as np\n\n\ndef fahrenheit2celsius(temp):\n    \"\"\"\n    Returns temperature in Celsius.\n    \"\"\"\n    return (5. / 9.) * (temp - 32)\n\n\ndef convert_ax_c_to_celsius(ax_f):\n    \"\"\"\n    Update second axis according with first axis.\n    \"\"\"\n    y1, y2 = ax_f.get_ylim()\n    ax_c.set_ylim(fahrenheit2celsius(y1), fahrenheit2celsius(y2))\n    ax_c.figure.canvas.draw()\n\nfig, ax_f = plt.subplots()\nax_c = ax_f.twinx()\n\n# automatically update ylim of ax2 when ylim of ax1 changes.\nax_f.callbacks.connect(\"ylim_changed\", convert_ax_c_to_celsius)\nax_f.plot(np.linspace(-40, 120, 100))\nax_f.set_xlim(0, 100)\n\nax_f.set_title('Two scales: Fahrenheit and Celsius')\nax_f.set_ylabel('Fahrenheit')\nax_c.set_ylabel('Celsius')\n\nplt.show()"
      ],
      "metadata": {
        "collapsed": false
      },
      "execution_count": null
    }
  ],
  "nbformat": 4
}