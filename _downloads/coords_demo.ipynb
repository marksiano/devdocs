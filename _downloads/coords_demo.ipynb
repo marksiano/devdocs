{
  "nbformat_minor": 0,
  "metadata": {
    "kernelspec": {
      "language": "python",
      "name": "python3",
      "display_name": "Python 3"
    },
    "language_info": {
      "mimetype": "text/x-python",
      "codemirror_mode": {
        "version": 3,
        "name": "ipython"
      },
      "version": "3.5.4",
      "file_extension": ".py",
      "nbconvert_exporter": "python",
      "pygments_lexer": "ipython3",
      "name": "python"
    }
  },
  "cells": [
    {
      "cell_type": "code",
      "outputs": [],
      "source": [
        "%matplotlib inline"
      ],
      "metadata": {
        "collapsed": false
      },
      "execution_count": null
    },
    {
      "cell_type": "markdown",
      "source": [
        "\n# Coords Demo\n\n\nAn example of how to interact with the plotting canvas by connecting\nto move and click events\n\n"
      ],
      "metadata": {}
    },
    {
      "cell_type": "code",
      "outputs": [],
      "source": [
        "from __future__ import print_function\nimport sys\nimport matplotlib.pyplot as plt\nimport numpy as np\n\nt = np.arange(0.0, 1.0, 0.01)\ns = np.sin(2 * np.pi * t)\nfig, ax = plt.subplots()\nax.plot(t, s)\n\n\ndef on_move(event):\n    # get the x and y pixel coords\n    x, y = event.x, event.y\n\n    if event.inaxes:\n        ax = event.inaxes  # the axes instance\n        print('data coords %f %f' % (event.xdata, event.ydata))\n\n\ndef on_click(event):\n    # get the x and y coords, flip y from top to bottom\n    x, y = event.x, event.y\n    if event.button == 1:\n        if event.inaxes is not None:\n            print('data coords %f %f' % (event.xdata, event.ydata))\n\n\nbinding_id = plt.connect('motion_notify_event', on_move)\nplt.connect('button_press_event', on_click)\n\nif \"test_disconnect\" in sys.argv:\n    print(\"disconnecting console coordinate printout...\")\n    plt.disconnect(binding_id)\n\nplt.show()"
      ],
      "metadata": {
        "collapsed": false
      },
      "execution_count": null
    }
  ],
  "nbformat": 4
}