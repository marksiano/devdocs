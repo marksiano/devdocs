{
  "nbformat_minor": 0,
  "metadata": {
    "kernelspec": {
      "language": "python",
      "name": "python3",
      "display_name": "Python 3"
    },
    "language_info": {
      "mimetype": "text/x-python",
      "codemirror_mode": {
        "version": 3,
        "name": "ipython"
      },
      "version": "3.5.4",
      "file_extension": ".py",
      "nbconvert_exporter": "python",
      "pygments_lexer": "ipython3",
      "name": "python"
    }
  },
  "cells": [
    {
      "cell_type": "code",
      "outputs": [],
      "source": [
        "%matplotlib inline"
      ],
      "metadata": {
        "collapsed": false
      },
      "execution_count": null
    },
    {
      "cell_type": "markdown",
      "source": [
        "\n# Axis line styles\n\n\nThis example shows some configurations for axis style.\n\n"
      ],
      "metadata": {}
    },
    {
      "cell_type": "code",
      "outputs": [],
      "source": [
        "from mpl_toolkits.axisartist.axislines import SubplotZero\nimport matplotlib.pyplot as plt\nimport numpy as np\n\nif 1:\n    fig = plt.figure(1)\n    ax = SubplotZero(fig, 111)\n    fig.add_subplot(ax)\n\n    for direction in [\"xzero\", \"yzero\"]:\n        # adds arrows at the ends of each axis\n        ax.axis[direction].set_axisline_style(\"-|>\")\n\n        # adds X and Y-axis from the origin\n        ax.axis[direction].set_visible(True)\n\n    for direction in [\"left\", \"right\", \"bottom\", \"top\"]:\n        # hides borders\n        ax.axis[direction].set_visible(False)\n\n    x = np.linspace(-0.5, 1., 100)\n    ax.plot(x, np.sin(x*np.pi))\n\n    plt.show()"
      ],
      "metadata": {
        "collapsed": false
      },
      "execution_count": null
    }
  ],
  "nbformat": 4
}