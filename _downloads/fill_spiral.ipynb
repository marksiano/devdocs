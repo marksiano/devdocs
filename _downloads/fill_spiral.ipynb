{
  "nbformat_minor": 0,
  "metadata": {
    "kernelspec": {
      "language": "python",
      "name": "python3",
      "display_name": "Python 3"
    },
    "language_info": {
      "mimetype": "text/x-python",
      "codemirror_mode": {
        "version": 3,
        "name": "ipython"
      },
      "version": "3.5.4",
      "file_extension": ".py",
      "nbconvert_exporter": "python",
      "pygments_lexer": "ipython3",
      "name": "python"
    }
  },
  "cells": [
    {
      "cell_type": "code",
      "outputs": [],
      "source": [
        "%matplotlib inline"
      ],
      "metadata": {
        "collapsed": false
      },
      "execution_count": null
    },
    {
      "cell_type": "markdown",
      "source": [
        "\n# Fill Spiral\n\n\n\n"
      ],
      "metadata": {}
    },
    {
      "cell_type": "code",
      "outputs": [],
      "source": [
        "import matplotlib.pyplot as plt\nimport numpy as np\n\ntheta = np.arange(0, 8*np.pi, 0.1)\na = 1\nb = .2\n\nfor dt in np.arange(0, 2*np.pi, np.pi/2.0):\n\n    x = a*np.cos(theta + dt)*np.exp(b*theta)\n    y = a*np.sin(theta + dt)*np.exp(b*theta)\n\n    dt = dt + np.pi/4.0\n\n    x2 = a*np.cos(theta + dt)*np.exp(b*theta)\n    y2 = a*np.sin(theta + dt)*np.exp(b*theta)\n\n    xf = np.concatenate((x, x2[::-1]))\n    yf = np.concatenate((y, y2[::-1]))\n\n    p1 = plt.fill(xf, yf)\n\nplt.show()"
      ],
      "metadata": {
        "collapsed": false
      },
      "execution_count": null
    }
  ],
  "nbformat": 4
}