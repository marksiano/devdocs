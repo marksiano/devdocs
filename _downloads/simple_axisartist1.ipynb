{
  "nbformat_minor": 0,
  "metadata": {
    "kernelspec": {
      "language": "python",
      "name": "python3",
      "display_name": "Python 3"
    },
    "language_info": {
      "mimetype": "text/x-python",
      "codemirror_mode": {
        "version": 3,
        "name": "ipython"
      },
      "version": "3.5.4",
      "file_extension": ".py",
      "nbconvert_exporter": "python",
      "pygments_lexer": "ipython3",
      "name": "python"
    }
  },
  "cells": [
    {
      "cell_type": "code",
      "outputs": [],
      "source": [
        "%matplotlib inline"
      ],
      "metadata": {
        "collapsed": false
      },
      "execution_count": null
    },
    {
      "cell_type": "markdown",
      "source": [
        "\n# Simple Axisartist1\n\n\n\n"
      ],
      "metadata": {}
    },
    {
      "cell_type": "code",
      "outputs": [],
      "source": [
        "import matplotlib.pyplot as plt\nimport mpl_toolkits.axisartist as AA\n\nfig = plt.figure(1)\nfig.subplots_adjust(right=0.85)\nax = AA.Subplot(fig, 1, 1, 1)\nfig.add_subplot(ax)\n\n# make some axis invisible\nax.axis[\"bottom\", \"top\", \"right\"].set_visible(False)\n\n# make an new axis along the first axis axis (x-axis) which pass\n# through y=0.\nax.axis[\"y=0\"] = ax.new_floating_axis(nth_coord=0, value=0,\n                                      axis_direction=\"bottom\")\nax.axis[\"y=0\"].toggle(all=True)\nax.axis[\"y=0\"].label.set_text(\"y = 0\")\n\nax.set_ylim(-2, 4)\n\nplt.show()"
      ],
      "metadata": {
        "collapsed": false
      },
      "execution_count": null
    }
  ],
  "nbformat": 4
}