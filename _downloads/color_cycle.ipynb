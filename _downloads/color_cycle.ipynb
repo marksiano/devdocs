{
  "nbformat_minor": 0,
  "metadata": {
    "kernelspec": {
      "language": "python",
      "name": "python3",
      "display_name": "Python 3"
    },
    "language_info": {
      "mimetype": "text/x-python",
      "codemirror_mode": {
        "version": 3,
        "name": "ipython"
      },
      "version": "3.5.4",
      "file_extension": ".py",
      "nbconvert_exporter": "python",
      "pygments_lexer": "ipython3",
      "name": "python"
    }
  },
  "cells": [
    {
      "cell_type": "code",
      "outputs": [],
      "source": [
        "%matplotlib inline"
      ],
      "metadata": {
        "collapsed": false
      },
      "execution_count": null
    },
    {
      "cell_type": "markdown",
      "source": [
        "\n# Styling with cycler\n\n\nDemo of custom property-cycle settings to control colors and other style\nproperties for multi-line plots.\n\nThis example demonstrates two different APIs:\n\n    1. Setting the default rc parameter specifying the property cycle.\n       This affects all subsequent axes (but not axes already created).\n    2. Setting the property cycle for a single pair of axes.\n\n"
      ],
      "metadata": {}
    },
    {
      "cell_type": "code",
      "outputs": [],
      "source": [
        "from cycler import cycler\nimport numpy as np\nimport matplotlib.pyplot as plt\n\n\nx = np.linspace(0, 2 * np.pi)\noffsets = np.linspace(0, 2*np.pi, 4, endpoint=False)\n# Create array with shifted-sine curve along each column\nyy = np.transpose([np.sin(x + phi) for phi in offsets])\n\n# 1. Setting prop cycle on default rc parameter\nplt.rc('lines', linewidth=4)\nplt.rc('axes', prop_cycle=(cycler('color', ['r', 'g', 'b', 'y']) +\n                           cycler('linestyle', ['-', '--', ':', '-.'])))\nfig, (ax0, ax1) = plt.subplots(nrows=2)\nax0.plot(yy)\nax0.set_title('Set default color cycle to rgby')\n\n# 2. Define prop cycle for single set of axes\nax1.set_prop_cycle(cycler('color', ['c', 'm', 'y', 'k']) +\n                   cycler('lw', [1, 2, 3, 4]))\nax1.plot(yy)\nax1.set_title('Set axes color cycle to cmyk')\n\n# Tweak spacing between subplots to prevent labels from overlapping\nfig.subplots_adjust(hspace=0.3)\nplt.show()"
      ],
      "metadata": {
        "collapsed": false
      },
      "execution_count": null
    }
  ],
  "nbformat": 4
}