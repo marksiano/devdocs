{
  "nbformat_minor": 0,
  "metadata": {
    "kernelspec": {
      "language": "python",
      "name": "python3",
      "display_name": "Python 3"
    },
    "language_info": {
      "mimetype": "text/x-python",
      "codemirror_mode": {
        "version": 3,
        "name": "ipython"
      },
      "version": "3.5.4",
      "file_extension": ".py",
      "nbconvert_exporter": "python",
      "pygments_lexer": "ipython3",
      "name": "python"
    }
  },
  "cells": [
    {
      "cell_type": "code",
      "outputs": [],
      "source": [
        "%matplotlib inline"
      ],
      "metadata": {
        "collapsed": false
      },
      "execution_count": null
    },
    {
      "cell_type": "markdown",
      "source": [
        "\n# Axes Demo\n\n\nExample use of ``plt.axes`` to create inset axes within the main plot axes.\n\n"
      ],
      "metadata": {}
    },
    {
      "cell_type": "code",
      "outputs": [],
      "source": [
        "import matplotlib.pyplot as plt\nimport numpy as np\n\n# Fixing random state for reproducibility\nnp.random.seed(19680801)\n\n\n# create some data to use for the plot\ndt = 0.001\nt = np.arange(0.0, 10.0, dt)\nr = np.exp(-t[:1000] / 0.05)  # impulse response\nx = np.random.randn(len(t))\ns = np.convolve(x, r)[:len(x)] * dt  # colored noise\n\n# the main axes is subplot(111) by default\nplt.plot(t, s)\nplt.axis([0, 1, 1.1 * np.min(s), 2 * np.max(s)])\nplt.xlabel('time (s)')\nplt.ylabel('current (nA)')\nplt.title('Gaussian colored noise')\n\n# this is an inset axes over the main axes\na = plt.axes([.65, .6, .2, .2], facecolor='k')\nn, bins, patches = plt.hist(s, 400, normed=1)\nplt.title('Probability')\nplt.xticks([])\nplt.yticks([])\n\n# this is another inset axes over the main axes\na = plt.axes([0.2, 0.6, .2, .2], facecolor='k')\nplt.plot(t[:len(r)], r)\nplt.title('Impulse response')\nplt.xlim(0, 0.2)\nplt.xticks([])\nplt.yticks([])\n\nplt.show()"
      ],
      "metadata": {
        "collapsed": false
      },
      "execution_count": null
    }
  ],
  "nbformat": 4
}